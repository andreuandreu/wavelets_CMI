{
 "cells": [
  {
   "cell_type": "code",
   "execution_count": 1,
   "id": "e01fc5f1-88c6-4d05-a0b3-b32269d2d22d",
   "metadata": {},
   "outputs": [
    {
     "ename": "ModuleNotFoundError",
     "evalue": "No module named 'data_loaders'",
     "output_type": "error",
     "traceback": [
      "\u001b[0;31m---------------------------------------------------------------------------\u001b[0m",
      "\u001b[0;31mModuleNotFoundError\u001b[0m                       Traceback (most recent call last)",
      "\u001b[0;32m/tmp/ipykernel_1185819/635932336.py\u001b[0m in \u001b[0;36m<module>\u001b[0;34m\u001b[0m\n\u001b[1;32m      1\u001b[0m \u001b[0;32mimport\u001b[0m \u001b[0mmatplotlib\u001b[0m\u001b[0;34m.\u001b[0m\u001b[0mpyplot\u001b[0m \u001b[0;32mas\u001b[0m \u001b[0mplt\u001b[0m\u001b[0;34m\u001b[0m\u001b[0;34m\u001b[0m\u001b[0m\n\u001b[1;32m      2\u001b[0m \u001b[0;32mimport\u001b[0m \u001b[0mnumpy\u001b[0m \u001b[0;32mas\u001b[0m \u001b[0mnp\u001b[0m\u001b[0;34m\u001b[0m\u001b[0;34m\u001b[0m\u001b[0m\n\u001b[0;32m----> 3\u001b[0;31m \u001b[0;32mfrom\u001b[0m \u001b[0mpyclits\u001b[0m\u001b[0;34m.\u001b[0m\u001b[0mwavelet_analysis\u001b[0m \u001b[0;32mimport\u001b[0m \u001b[0mMorletWavelet\u001b[0m\u001b[0;34m,\u001b[0m \u001b[0mcontinous_wavelet\u001b[0m\u001b[0;34m\u001b[0m\u001b[0;34m\u001b[0m\u001b[0m\n\u001b[0m\u001b[1;32m      4\u001b[0m \u001b[0;32mfrom\u001b[0m \u001b[0mscipy\u001b[0m\u001b[0;34m.\u001b[0m\u001b[0msignal\u001b[0m \u001b[0;32mimport\u001b[0m \u001b[0mwelch\u001b[0m\u001b[0;34m\u001b[0m\u001b[0;34m\u001b[0m\u001b[0m\n\u001b[1;32m      5\u001b[0m \u001b[0;32mimport\u001b[0m \u001b[0mpywt\u001b[0m\u001b[0;34m\u001b[0m\u001b[0;34m\u001b[0m\u001b[0m\n",
      "\u001b[0;32m~/miniforge3/lib/python3.9/site-packages/pyclits/__init__.py\u001b[0m in \u001b[0;36m<module>\u001b[0;34m\u001b[0m\n\u001b[1;32m      5\u001b[0m \"\"\"\n\u001b[1;32m      6\u001b[0m \u001b[0;34m\u001b[0m\u001b[0m\n\u001b[0;32m----> 7\u001b[0;31m \u001b[0;32mfrom\u001b[0m \u001b[0mdata_loaders\u001b[0m \u001b[0;32mimport\u001b[0m \u001b[0;34m*\u001b[0m\u001b[0;34m\u001b[0m\u001b[0;34m\u001b[0m\u001b[0m\n\u001b[0m\u001b[1;32m      8\u001b[0m \u001b[0;32mfrom\u001b[0m \u001b[0mempirical_model\u001b[0m \u001b[0;32mimport\u001b[0m \u001b[0mEmpiricalModel\u001b[0m\u001b[0;34m\u001b[0m\u001b[0;34m\u001b[0m\u001b[0m\n\u001b[1;32m      9\u001b[0m \u001b[0;32mfrom\u001b[0m \u001b[0mfunctions\u001b[0m \u001b[0;32mimport\u001b[0m \u001b[0;34m*\u001b[0m\u001b[0;34m\u001b[0m\u001b[0;34m\u001b[0m\u001b[0m\n",
      "\u001b[0;31mModuleNotFoundError\u001b[0m: No module named 'data_loaders'"
     ]
    }
   ],
   "source": [
    "import matplotlib.pyplot as plt\n",
    "import numpy as np\n",
    "from pyclits.wavelet_analysis import MorletWavelet, continous_wavelet\n",
    "from scipy.signal import welch\n",
    "import pywt"
   ]
  },
  {
   "cell_type": "code",
   "execution_count": null,
   "id": "4730757c-5668-4141-b34b-e7be82ab9e98",
   "metadata": {},
   "outputs": [],
   "source": [
    "period = 1.0 / 100.0\n",
    "N = 1000\n",
    "amp = 2.0\n",
    "\n",
    "\n",
    "sig = amp * np.cos(2 * np.pi * period * np.arange(N))\n",
    "sig += np.random.normal(0, 1.0, size=(N))\n",
    "\n",
    "plt.plot(sig)\n",
    "plt.show()\n",
    "\n",
    "f, Pxx_den = welch(sig, 1.0, nperseg=1024)\n",
    "plt.semilogx(f, Pxx_den)"
   ]
  },
  {
   "cell_type": "code",
   "execution_count": null,
   "id": "143b5426-58a2-4e88-846b-757dec0deaaa",
   "metadata": {},
   "outputs": [],
   "source": [
    "k0 = 6.0\n",
    "wavelet = MorletWavelet()\n",
    "central_period = 100.\n",
    "\n",
    "s0 = (central_period * (1.0 / 1.0)) / wavelet.fourier_factor(k0)"
   ]
  },
  {
   "cell_type": "code",
   "execution_count": null,
   "id": "d2e7821b-7a46-4b5b-bff4-26ba8fa8121f",
   "metadata": {},
   "outputs": [],
   "source": [
    "wave, period, _, _ = continous_wavelet(sig, dt=1.0, pad=True, wavelet=wavelet, dj=0.5, s0=s0, j1=2, k0=k0)\n",
    "print(wave.shape)"
   ]
  },
  {
   "cell_type": "code",
   "execution_count": null,
   "id": "4ab7f226-a9bc-4dcc-8ef5-6becae020a75",
   "metadata": {},
   "outputs": [],
   "source": [
    "_, axs =  plt.subplots(nrows=4, ncols=3, sharex=True, sharey=\"row\", figsize=(15, 10))\n",
    "for i in range(wave.shape[0]):\n",
    "    axs[0, i].set_title(period[i])\n",
    "    axs[0, i].plot(sig)\n",
    "    axs[1, i].plot(np.real(wave[i, :]))\n",
    "    axs[2, i].plot(np.angle(wave[i, :]))\n",
    "    axs[3, i].plot(np.abs(wave[i, :]))\n",
    "    \n",
    "axs[0, 0].set_ylabel(\"signal\")\n",
    "axs[1, 0].set_ylabel(\"Re[wave]\")\n",
    "axs[2, 0].set_ylabel(\"phase\")\n",
    "axs[3, 0].set_ylabel(\"amplitude\")"
   ]
  },
  {
   "cell_type": "code",
   "execution_count": null,
   "id": "3df7340d-22d5-4802-9adc-9a4340399cde",
   "metadata": {},
   "outputs": [],
   "source": [
    "wave2, periods = pywt.cwt(sig, scales=[100.0], wavelet=\"cmor1.5-1.0\", sampling_period=1.0)"
   ]
  },
  {
   "cell_type": "code",
   "execution_count": null,
   "id": "d6348ba8-771d-41e8-8e23-2044afa59c1e",
   "metadata": {},
   "outputs": [],
   "source": [
    "_, axs =  plt.subplots(nrows=5, ncols=2, sharex=True, sharey=\"row\", figsize=(15, 10))\n",
    "axs[0, 0].plot(sig)\n",
    "axs[0, 1].plot(sig, color=\"C1\")\n",
    "axs[1, 0].plot(np.real(wave[0, :]))\n",
    "axs[1, 1].plot(np.real(wave2.squeeze()), color=\"C1\")\n",
    "axs[2, 0].plot(np.angle(wave[0, :]))\n",
    "axs[2, 1].plot(np.angle(wave2.squeeze()), color=\"C1\")\n",
    "axs[3, 0].plot(np.abs(wave[0, :]))\n",
    "axs[3, 1].plot(np.abs(wave2.squeeze()), color=\"C1\")\n",
    "\n",
    "# regress amplitude\n",
    "recon = np.abs(wave[0, :]) * np.cos(np.angle(wave[0, :]))\n",
    "fit_x = np.vstack([recon, np.ones((recon.shape[0]))]).T\n",
    "m, c = np.linalg.lstsq(fit_x, sig)[0]\n",
    "print(m, c)\n",
    "amp_reg = m*np.abs(wave[0, :])\n",
    "axs[4, 0].plot(amp_reg)\n",
    "axs[4, 0].plot(sig, color=\"C2\", alpha=0.6)\n",
    "\n",
    "recon = np.abs(wave2.squeeze()) * np.cos(np.angle(wave2.squeeze()))\n",
    "fit_x = np.vstack([recon, np.ones((recon.shape[0]))]).T\n",
    "m, c = np.linalg.lstsq(fit_x, sig)[0]\n",
    "print(m, c)\n",
    "amp_reg = m*np.abs(wave2.squeeze())\n",
    "axs[4, 1].plot(amp_reg, color=\"C1\")\n",
    "axs[4, 1].plot(sig, color=\"C2\", alpha=0.6)"
   ]
  }
 ],
 "metadata": {
  "kernelspec": {
   "display_name": "Python 3 (ipykernel)",
   "language": "python",
   "name": "python3"
  },
  "language_info": {
   "codemirror_mode": {
    "name": "ipython",
    "version": 3
   },
   "file_extension": ".py",
   "mimetype": "text/x-python",
   "name": "python",
   "nbconvert_exporter": "python",
   "pygments_lexer": "ipython3",
   "version": "3.9.6"
  }
 },
 "nbformat": 4,
 "nbformat_minor": 5
}
