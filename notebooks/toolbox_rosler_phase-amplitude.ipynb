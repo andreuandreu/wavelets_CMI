{
 "cells": [
  {
   "cell_type": "code",
   "execution_count": 1,
   "metadata": {},
   "outputs": [
    {
     "ename": "LoadError",
     "evalue": "InterruptException:",
     "output_type": "error",
     "traceback": [
      "InterruptException:",
      "",
      "Stacktrace:",
      " [1] top-level scope at In[1]:1",
      " [2] include_string(::Function, ::Module, ::String, ::String) at ./loading.jl:1091"
     ]
    }
   ],
   "source": [
    "Pkg.add(\"Hilbert\")"
   ]
  },
  {
   "cell_type": "code",
   "execution_count": 51,
   "metadata": {},
   "outputs": [
    {
     "name": "stdout",
     "output_type": "stream",
     "text": [
      "\u001b[32m\u001b[1mStatus\u001b[22m\u001b[39m `~/project_TE/package_CMI_prague/Project.toml`\n",
      " \u001b[90m [7a1cc6ca] \u001b[39m\u001b[37mFFTW v1.3.2\u001b[39m\n"
     ]
    }
   ],
   "source": [
    "Pkg.status(\"FFTW\")"
   ]
  },
  {
   "cell_type": "code",
   "execution_count": 34,
   "metadata": {},
   "outputs": [],
   "source": [
    "using CSV, DataFrames"
   ]
  },
  {
   "cell_type": "code",
   "execution_count": 26,
   "metadata": {},
   "outputs": [],
   "source": [
    "using PyPlot"
   ]
  },
  {
   "cell_type": "code",
   "execution_count": 46,
   "metadata": {},
   "outputs": [
    {
     "ename": "LoadError",
     "evalue": "ArgumentError: Package Hilbert not found in current path:\n- Run `import Pkg; Pkg.add(\"Hilbert\")` to install the Hilbert package.\n",
     "output_type": "error",
     "traceback": [
      "ArgumentError: Package Hilbert not found in current path:\n- Run `import Pkg; Pkg.add(\"Hilbert\")` to install the Hilbert package.\n",
      "",
      "Stacktrace:",
      " [1] require(::Module, ::Symbol) at ./loading.jl:893",
      " [2] include_string(::Function, ::Module, ::String, ::String) at ./loading.jl:1091"
     ]
    }
   ],
   "source": [
    "using Hilbert"
   ]
  },
  {
   "cell_type": "code",
   "execution_count": 42,
   "metadata": {},
   "outputs": [
    {
     "data": {
      "text/plain": [
       "8191×1 Array{Float64,2}:\n",
       "  0.4881649\n",
       "  0.4289699\n",
       " -0.073067546\n",
       " -0.056771982\n",
       " -0.3311235\n",
       " -0.4114856\n",
       " -0.8866806\n",
       " -0.6367623\n",
       " -0.3568555\n",
       " -1.028848\n",
       "  0.2688827\n",
       "  0.4393885\n",
       "  0.7221003\n",
       "  ⋮\n",
       " -1.125118\n",
       " -1.436335\n",
       " -1.341253\n",
       " -1.171743\n",
       " -1.561769\n",
       " -0.6431206\n",
       " -1.01933\n",
       " -0.4236602\n",
       "  0.9465588\n",
       "  0.3208366\n",
       " -0.032554507\n",
       "  1.238548"
      ]
     },
     "execution_count": 42,
     "metadata": {},
     "output_type": "execute_result"
    }
   ],
   "source": [
    "root = \"/Users/andreu/Desktop/Dropbox/transfer_inormation_prague/\"\n",
    "dir = \"TE_electrodes\"\n",
    "name = \"/rossler_wavelets-r12e27N03.dat\"\n",
    "rosslerData = Array(CSV.read(\"$root$dir$name\", DataFrame, delim=' ', ignorerepeated=true ))\n",
    "\n"
   ]
  },
  {
   "cell_type": "code",
   "execution_count": null,
   "metadata": {},
   "outputs": [],
   "source": []
  },
  {
   "cell_type": "code",
   "execution_count": 43,
   "metadata": {},
   "outputs": [
    {
     "data": {
      "image/png": "[encoded data removed]",
      "text/plain": [
       "Figure(PyObject <Figure size 500x300 with 1 Axes>)"
      ]
     },
     "metadata": {},
     "output_type": "display_data"
    },
    {
     "data": {
      "text/plain": [
       "1-element Array{PyCall.PyObject,1}:\n",
       " PyObject <matplotlib.lines.Line2D object at 0x153ec6280>"
      ]
     },
     "execution_count": 43,
     "metadata": {},
     "output_type": "execute_result"
    }
   ],
   "source": [
    "f = figure(figsize = (5,3))\n",
    "ax = subplot(111)\n",
    "px = PyPlot.plot(rosslerData)"
   ]
  }
 ],
 "metadata": {
  "kernelspec": {
   "display_name": "Julia 1.5.2",
   "language": "julia",
   "name": "julia-1.5"
  },
  "language_info": {
   "file_extension": ".jl",
   "mimetype": "application/julia",
   "name": "julia",
   "version": "1.5.2"
  }
 },
 "nbformat": 4,
 "nbformat_minor": 4
}
