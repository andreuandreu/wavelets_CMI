{
 "cells": [
  {
   "cell_type": "code",
   "execution_count": 35,
   "metadata": {},
   "outputs": [
    {
     "data": {
      "text/latex": [
       "Unrecognized magic \\texttt{\\%load\\_ext}.\n",
       "\n",
       "Julia does not use the IPython \\texttt{\\%magic} syntax.   To interact with the IJulia kernel, use \\texttt{IJulia.somefunction(...)}, for example.  Julia macros, string macros, and functions can be used to accomplish most of the other functionalities of IPython magics.\n",
       "\n"
      ],
      "text/markdown": [
       "Unrecognized magic `%load_ext`.\n",
       "\n",
       "Julia does not use the IPython `%magic` syntax.   To interact with the IJulia kernel, use `IJulia.somefunction(...)`, for example.  Julia macros, string macros, and functions can be used to accomplish most of the other functionalities of IPython magics.\n"
      ],
      "text/plain": [
       "  Unrecognized magic \u001b[36m%load_ext\u001b[39m.\n",
       "\n",
       "  Julia does not use the IPython \u001b[36m%magic\u001b[39m syntax. To interact with the IJulia\n",
       "  kernel, use \u001b[36mIJulia.somefunction(...)\u001b[39m, for example. Julia macros, string\n",
       "  macros, and functions can be used to accomplish most of the other\n",
       "  functionalities of IPython magics."
      ]
     },
     "metadata": {},
     "output_type": "display_data"
    },
    {
     "data": {
      "text/latex": [
       "Unrecognized magic \\texttt{\\%autoreload}.\n",
       "\n",
       "Julia does not use the IPython \\texttt{\\%magic} syntax.   To interact with the IJulia kernel, use \\texttt{IJulia.somefunction(...)}, for example.  Julia macros, string macros, and functions can be used to accomplish most of the other functionalities of IPython magics.\n",
       "\n"
      ],
      "text/markdown": [
       "Unrecognized magic `%autoreload`.\n",
       "\n",
       "Julia does not use the IPython `%magic` syntax.   To interact with the IJulia kernel, use `IJulia.somefunction(...)`, for example.  Julia macros, string macros, and functions can be used to accomplish most of the other functionalities of IPython magics.\n"
      ],
      "text/plain": [
       "  Unrecognized magic \u001b[36m%autoreload\u001b[39m.\n",
       "\n",
       "  Julia does not use the IPython \u001b[36m%magic\u001b[39m syntax. To interact with the IJulia\n",
       "  kernel, use \u001b[36mIJulia.somefunction(...)\u001b[39m, for example. Julia macros, string\n",
       "  macros, and functions can be used to accomplish most of the other\n",
       "  functionalities of IPython magics."
      ]
     },
     "metadata": {},
     "output_type": "display_data"
    }
   ],
   "source": [
    "%load_ext autoreload #load the extension\n",
    "%autoreload 2 #autoreload all modules"
   ]
  },
  {
   "cell_type": "markdown",
   "metadata": {},
   "source": [
    "## Hi i'm using a notebook!\n",
    "# Activate the project\n",
    "## Be mindful of the **kernel**!!\n",
    "be mindful of *order*\n",
    "in the `code`\n",
    "\n",
    "    foo()\n"
   ]
  },
  {
   "cell_type": "code",
   "execution_count": 1,
   "metadata": {},
   "outputs": [
    {
     "name": "stderr",
     "output_type": "stream",
     "text": [
      "\u001b[32m\u001b[1m  Activating\u001b[22m\u001b[39m environment at `~/git_repos/TE_EG_project/package_CMI_prague/Project.toml`\n"
     ]
    }
   ],
   "source": [
    "using Pkg; Pkg.activate(\"../\")"
   ]
  },
  {
   "cell_type": "code",
<<<<<<< HEAD
   "execution_count": 9,
   "metadata": {},
   "outputs": [
    {
     "data": {
      "text/plain": [
       "name_of_file (generic function with 1 method)"
      ]
     },
     "execution_count": 9,
     "metadata": {},
     "output_type": "execute_result"
    }
   ],
   "source": [
    "include(\"../src/read_bin.jl\")\n",
    "include(\"../src/basicent.jl\")\n",
    "include(\"../scripts/TE_functions.jl\")\n",
    "include(\"../scripts/Rosseler_functions.jl\")"
   ]
  },
  {
   "cell_type": "code",
   "execution_count": 11,
   "metadata": {},
   "outputs": [],
   "source": [
    "import Distributions: Uniform, Normal"
   ]
  },
  {
   "cell_type": "code",
   "execution_count": 13,
   "metadata": {},
   "outputs": [
    {
     "ename": "LoadError",
     "evalue": "MethodError: no method matching probabilities(::Dataset{5,Float64}, ::TreeDistance{Euclidean})\nClosest candidates are:\n  probabilities(::AbstractDataset) at /Users/andreu/.julia/packages/Entropies/waej3/src/histogram_estimation.jl:31\n  probabilities(::AbstractDataset, !Matched::CountOccurrences) at /Users/andreu/.julia/packages/Entropies/waej3/src/counting_based/CountOccurrences.jl:14\n  probabilities(::AbstractDataset{m,T}, !Matched::SymbolicPermutation) where {m, T} at /Users/andreu/.julia/packages/Entropies/waej3/src/symbolic/SymbolicPermutation.jl:356\n  ...",
     "output_type": "error",
     "traceback": [
      "MethodError: no method matching probabilities(::Dataset{5,Float64}, ::TreeDistance{Euclidean})\nClosest candidates are:\n  probabilities(::AbstractDataset) at /Users/andreu/.julia/packages/Entropies/waej3/src/histogram_estimation.jl:31\n  probabilities(::AbstractDataset, !Matched::CountOccurrences) at /Users/andreu/.julia/packages/Entropies/waej3/src/counting_based/CountOccurrences.jl:14\n  probabilities(::AbstractDataset{m,T}, !Matched::SymbolicPermutation) where {m, T} at /Users/andreu/.julia/packages/Entropies/waej3/src/symbolic/SymbolicPermutation.jl:356\n  ...",
      "",
      "Stacktrace:",
      " [1] genentropy(::Dataset{5,Float64}, ::TreeDistance{Euclidean}; q::Float64, α::Nothing, base::Irrational{:ℯ}) at /Users/andreu/.julia/packages/Entropies/waej3/src/core.jl:157",
      " [2] genentropy(::Dataset{5,Float64}, ::TreeDistance{Euclidean}) at /Users/andreu/.julia/packages/Entropies/waej3/src/core.jl:153",
      " [3] tranfserentropy(::Dataset{5,Float64}, ::TreeDistance{Euclidean}; α::Float64, base::Int64) at /Users/andreu/project_TE/package_CMI_prague/src/basicent.jl:81",
      " [4] tranfserentropy(::Dataset{5,Float64}, ::TreeDistance{Euclidean}) at /Users/andreu/project_TE/package_CMI_prague/src/basicent.jl:73",
      " [5] top-level scope at In[13]:4",
      " [6] include_string(::Function, ::Module, ::String, ::String) at ./loading.jl:1091"
     ]
    }
   ],
   "source": [
    "x = Dataset([rand(Uniform(0, 1), 1) for i = 1:1000])\n",
    "y = Dataset([rand(Uniform(0, 1), 1) for i = 1:1000])\n",
    "joint = DelayEmbeddings.genembed(Dataset(x, y),  (0,0,22, 2,8), (1,2,2,2,2) )\n",
    "e = tranfserentropy(joint,  TreeDistance(Euclidean()))  \n",
    "println(e)\n",
    "#joint = DelayEmbeddings.genembed(Dataset(x, y),  (0,0,22, 2,6), (1,2,2,2,2) )\n",
    "#e = tranfserentropy(joint, Kraskov(w = Bin, k = Bin))  \n"
=======
   "execution_count": 2,
   "metadata": {},
   "outputs": [],
   "source": [
    "Pkg.instantiate()"
   ]
  },
  {
   "cell_type": "markdown",
   "metadata": {},
   "source": [
    "import Pkg; \n",
    "Pkg.add(\"Distributions\"); \n",
    "Pkg.add(\"Plots\");\n",
    "Pkg.add(\"Suppressor\");\n",
    "Pkg.add(\"DelayEmbeddings\");\n",
    "Pkg.add(\"Entropies\")"
>>>>>>> a725dbcbdebd07f06ebc50a695289f21e6a2f258
   ]
  },
  {
   "cell_type": "code",
   "execution_count": 3,
   "metadata": {},
   "outputs": [],
   "source": [
<<<<<<< HEAD
    "using PyPlot\n",
    "using StatsBase"
=======
    "using DrWatson\n",
    "\n",
    "using Plots\n",
    "using Suppressor\n",
    "\n",
    "import Distributions: Uniform, Normal\n",
    "\n",
    "using Entropies\n",
    "using DelayEmbeddings"
   ]
  },
  {
   "cell_type": "markdown",
   "metadata": {},
   "source": [
    "Pkg.status()"
>>>>>>> a725dbcbdebd07f06ebc50a695289f21e6a2f258
   ]
  },
  {
   "cell_type": "code",
<<<<<<< HEAD
   "execution_count": 5,
=======
   "execution_count": 12,
>>>>>>> a725dbcbdebd07f06ebc50a695289f21e6a2f258
   "metadata": {},
   "outputs": [
    {
     "data": {
      "text/plain": [
       "changevector! (generic function with 1 method)"
      ]
     },
     "execution_count": 12,
     "metadata": {},
     "output_type": "execute_result"
    }
   ],
   "source": [
    "include(\"../src/read_bin.jl\")\n",
    "include(\"../src/basicent.jl\")\n",
    "include(\"../src/compute_TE.jl\")"
   ]
  },
  {
   "cell_type": "code",
   "execution_count": 5,
   "metadata": {
    "collapsed": true,
    "jupyter": {
     "outputs_hidden": true,
     "source_hidden": true
    },
    "tags": []
   },
   "outputs": [
    {
     "name": "stdout",
     "output_type": "stream",
     "text": [
      "1 0.0\n",
      "2 0.002551020408163265\n",
      "3 0.00510204081632653\n",
      "4 0.007653061224489796\n",
      "5 0.01020408163265306\n",
      "6 0.012755102040816325\n",
      "7 0.015306122448979591\n",
      "8 0.017857142857142856\n",
      "9 0.02040816326530612\n",
      "10 0.02295918367346939\n",
      "11 0.02551020408163265\n",
      "12 0.02806122448979592\n",
      "13 0.030612244897959183\n",
      "14 0.033163265306122444\n",
      "15 0.03571428571428571\n",
      "16 0.03826530612244898\n",
      "17 0.04081632653061224\n",
      "18 0.04336734693877551\n",
      "19 0.04591836734693878\n",
      "20 0.04846938775510204\n",
      "21 0.0510204081632653\n",
      "22 0.053571428571428575\n",
      "23 0.05612244897959184\n",
      "24 0.0586734693877551\n",
      "25 0.061224489795918366\n",
      "26 0.06377551020408162\n",
      "27 0.06632653061224489\n",
      "28 0.06887755102040817\n",
      "29 0.07142857142857142\n",
      "30 0.07397959183673469\n",
      "31 0.07653061224489796\n",
      "32 0.07908163265306122\n",
      "33 0.08163265306122448\n",
      "34 0.08418367346938775\n",
      "35 0.08673469387755102\n",
      "36 0.08928571428571429\n",
      "37 0.09183673469387756\n",
      "38 0.09438775510204081\n",
      "39 0.09693877551020408\n",
      "40 0.09948979591836735\n",
      "41 0.1020408163265306\n",
      "42 0.10459183673469387\n",
      "43 0.10714285714285715\n",
      "44 0.1096938775510204\n",
      "45 0.11224489795918367\n",
      "46 0.11479591836734694\n",
      "47 0.1173469387755102\n",
      "48 0.11989795918367346\n",
      "49 0.12244897959183673\n",
      "50 0.125\n",
      "51 0.12755102040816324\n",
      "52 0.13010204081632654\n",
      "53 0.13265306122448978\n",
      "54 0.13520408163265304\n",
      "55 0.13775510204081634\n",
      "56 0.14030612244897958\n",
      "57 0.14285714285714285\n",
      "58 0.14540816326530612\n",
      "59 0.14795918367346939\n",
      "60 0.15051020408163263\n",
      "61 0.15306122448979592\n",
      "62 0.1556122448979592\n",
      "63 0.15816326530612243\n",
      "64 0.16071428571428573\n",
      "65 0.16326530612244897\n",
      "66 0.16581632653061223\n",
      "67 0.1683673469387755\n",
      "68 0.17091836734693877\n",
      "69 0.17346938775510204\n",
      "70 0.1760204081632653\n",
      "71 0.17857142857142858\n",
      "72 0.18112244897959182\n",
      "73 0.1836734693877551\n",
      "74 0.18622448979591835\n",
      "75 0.18877551020408162\n",
      "76 0.19132653061224492\n",
      "77 0.19387755102040816\n",
      "78 0.19642857142857142\n",
      "79 0.1989795918367347\n",
      "80 0.20153061224489796\n",
      "81 0.2040816326530612\n",
      "82 0.2066326530612245\n",
      "83 0.20918367346938774\n",
      "84 0.211734693877551\n",
      "85 0.2142857142857143\n",
      "86 0.21683673469387754\n",
      "87 0.2193877551020408\n",
      "88 0.22193877551020408\n",
      "89 0.22448979591836735\n",
      "90 0.2270408163265306\n",
      "91 0.22959183673469388\n",
      "92 0.23214285714285715\n",
      "93 0.2346938775510204\n",
      "94 0.2372448979591837\n",
      "95 0.23979591836734693\n",
      "96 0.2423469387755102\n",
      "97 0.24489795918367346\n",
      "98 0.24744897959183673\n"
     ]
    }
   ],
   "source": [
    "root = \"../data/exp_raw/binfiles/Rossler_bin_\"\n",
    "#root = \"/Users/andreu/Desktop/Dropbox/transfer_inormation_prague/code/binfiles/Rossler_bin_\"\n",
<<<<<<< HEAD
    "n_points = 131072; couplings = LinRange(0, 0.25, 99)\n",
    "test_couplings = read_bin_couplings(root; n_points, couplings);"
   ]
  },
  {
   "cell_type": "code",
   "execution_count": 6,
   "metadata": {},
   "outputs": [],
   "source": [
    "using DrWatson"
=======
    "test_couplings = read_bin_couplings(root, n_points, couplings);"
   ]
  },
  {
   "cell_type": "markdown",
   "metadata": {
    "tags": []
   },
   "source": [
    "a = test_couplings[:,:,33]\n",
    "x = a[:,2]/maximum(abs.(a[:,2]))\n",
    "Bin = 3\n",
    "estKnn = Kraskov(w = 3, k = Bin)\n",
    "estVf  = VisitationFrequency(Entropies.RectangularBinning(Bin))\n",
    "E1 = Entropies.genentropy(Dataset(x), estKnn)\n",
    "E2 = Entropies.genentropy(Dataset(x), estVf)\n",
    "println(E1)\n",
    "println(E2)"
   ]
  },
  {
   "cell_type": "markdown",
   "metadata": {},
   "source": [
    "x = [rand(Uniform(0, 1), 1) for i = 1:1000]\n",
    "y = [rand(Uniform(0, 1), 1) for i = 1:1000]\n",
    "joint = DelayEmbeddings.genembed(Dataset(x, y),  (0,0,22), (1,1,2) )\n",
    "e = tranfserentropy(joint, Kraskov(w = Bin, k = Bin),  2)  "
>>>>>>> a725dbcbdebd07f06ebc50a695289f21e6a2f258
   ]
  },
  {
   "cell_type": "code",
<<<<<<< HEAD
   "execution_count": 35,
   "metadata": {},
   "outputs": [
    {
     "name": "stdout",
     "output_type": "stream",
     "text": [
      "search: \u001b[0m\u001b[1mT\u001b[22m\u001b[0m\u001b[1mr\u001b[22m\u001b[0m\u001b[1me\u001b[22m\u001b[0m\u001b[1me\u001b[22m\u001b[0m\u001b[1mD\u001b[22m\u001b[0m\u001b[1mi\u001b[22m\u001b[0m\u001b[1ms\u001b[22m\u001b[0m\u001b[1mt\u001b[22m\u001b[0m\u001b[1ma\u001b[22m\u001b[0m\u001b[1mn\u001b[22m\u001b[0m\u001b[1mc\u001b[22m\u001b[0m\u001b[1me\u001b[22m\n",
      "\n"
     ]
    },
=======
   "execution_count": 28,
   "metadata": {},
   "outputs": [
    {
     "data": {
      "text/plain": [
       "3-element Array{Int64,1}:\n",
       "  0\n",
       " 11\n",
       " 20"
      ]
     },
     "execution_count": 28,
     "metadata": {},
     "output_type": "execute_result"
    }
   ],
   "source": [
    "τs = (0,  0, 20)\n",
    "changevector!(τs, 11, 2)"
   ]
  },
  {
   "cell_type": "code",
   "execution_count": 13,
   "metadata": {},
   "outputs": [
>>>>>>> a725dbcbdebd07f06ebc50a695289f21e6a2f258
    {
     "name": "stdout",
     "output_type": "stream",
     "text": [
      "couplings_TE_Bin=3_est=Kra_maxlag=50_tsjs=0-10-5050_21111.txt\n",
      "1\n",
      "2\n",
      "3\n",
      "5kra510kra515kra520kra525kra530kra535kra540kra545kra550kra53 , 0.00510204081632653 -0.8524973560953766\n",
      "4\n",
      "5\n",
      "6\n",
      "7\n",
      "8\n",
      "9\n",
      "10\n",
      "11\n",
      "12\n",
      "13\n",
      "5kra510kra515kra520kra525kra530kra535kra540kra545kra550kra513 , 0.030612244897959183 -0.8368785314268987\n",
      "14\n",
      "15\n",
      "16\n",
      "17\n",
      "18\n",
      "19\n",
      "20\n",
      "21\n",
      "22\n",
      "23\n",
      "5kra510kra515kra520kra525kra530kra535kra540kra545kra550kra523 , 0.05612244897959184 -0.8241123694252092\n",
      "24\n",
      "25\n",
      "26\n",
      "27\n",
      "28\n",
      "29\n",
      "30\n",
      "31\n",
      "32\n",
      "33\n",
      "5kra510kra515kra520kra525kra530kra535kra540kra545kra550kra533 , 0.08163265306122448 -0.7885725578282551\n",
      "34\n",
      "35\n",
      "36\n",
      "37\n",
      "38\n",
      "39\n",
      "40\n",
      "41\n",
      "42\n",
      "43\n",
      "5kra510kra515kra520kra525kra530kra535kra540kra545kra550kra543 , 0.10714285714285714 -0.6500292723162006\n",
      "44\n",
      "45\n",
      "46\n",
      "47\n",
      "48\n",
      "49\n",
      "50\n",
      "51\n",
      "52\n",
      "53\n",
      "5kra510kra515kra520kra525kra530kra535kra540kra545kra550kra553 , 0.1326530612244898 -0.31983197776615846\n",
      "54\n",
      "55\n",
      "56\n",
      "57\n",
      "58\n",
      "59\n",
      "60\n",
      "61\n",
      "62\n",
      "63\n",
      "5kra510kra515kra520kra525kra530kra535kra540kra545kra550kra563 , 0.15816326530612246 -0.14754721487277941\n",
      "64\n",
      "65\n",
      "66\n",
      "67\n",
      "68\n",
      "69\n",
      "70\n",
      "71\n",
      "72\n",
      "73\n",
      "5kra510kra515kra520kra525kra530kra535kra540kra545kra550kra573 , 0.1836734693877551 -0.11979619117225047\n",
      "74\n",
      "75\n",
      "76\n",
      "77\n",
      "78\n",
      "79\n",
      "80\n",
      "81\n",
      "82\n",
      "83\n",
      "5kra510kra515kra520kra525kra530kra535kra540kra545kra550kra583 , 0.20918367346938777 -0.14718632201327964\n",
      "84\n",
      "85\n",
      "86\n",
      "87\n",
      "88\n",
      "89\n",
      "90\n",
      "91\n",
      "92\n",
      "93\n",
      "5kra510kra515kra520kra525kra530kra535kra540kra545kra550kra593 , 0.23469387755102042 -0.16868614525073514\n",
      "94\n",
      "95\n",
      "96\n",
      "97\n",
      "98\n"
     ]
    },
    {
     "data": {
      "text/latex": [
       "\\begin{verbatim}\n",
       "TreeDistance(metric::M = Euclidean()) <: KernelEstimationMethod\n",
       "\\end{verbatim}\n",
       "Pairwise distances are evaluated using a tree-based approach with the provided \\texttt{metric}.\n",
       "\n"
      ],
      "text/markdown": [
       "```\n",
       "TreeDistance(metric::M = Euclidean()) <: KernelEstimationMethod\n",
       "```\n",
       "\n",
       "Pairwise distances are evaluated using a tree-based approach with the provided `metric`.\n"
      ],
      "text/plain": [
<<<<<<< HEAD
       "\u001b[36m  TreeDistance(metric::M = Euclidean()) <: KernelEstimationMethod\u001b[39m\n",
       "\n",
       "  Pairwise distances are evaluated using a tree-based approach with the\n",
       "  provided \u001b[36mmetric\u001b[39m."
      ]
     },
     "execution_count": 35,
=======
       "([3.5e-323; 3.5e-323; … ; 6.9506429561817e-310; 6.95064295618327e-310], [6.95074279263227e-310; 6.95074279263227e-310; … ; 0.0; 6.95059721330675e-310])"
      ]
     },
     "execution_count": 13,
>>>>>>> a725dbcbdebd07f06ebc50a695289f21e6a2f258
     "metadata": {},
     "output_type": "execute_result"
    }
   ],
   "source": [
<<<<<<< HEAD
    "?TreeDistance"
   ]
  },
  {
   "cell_type": "code",
   "execution_count": 10,
   "metadata": {},
   "outputs": [
    {
     "name": "stdout",
     "output_type": "stream",
     "text": [
      "couplings_TE_Bin=3_est=Tre_maxlag=50_tsjs=0-10-5050_12222.txt\n"
     ]
    },
    {
     "ename": "LoadError",
     "evalue": "MethodError: no method matching probabilities(::Dataset{5,Float64}, ::TreeDistance{Euclidean})\nClosest candidates are:\n  probabilities(::AbstractDataset) at /Users/andreu/.julia/packages/Entropies/waej3/src/histogram_estimation.jl:31\n  probabilities(::AbstractDataset, !Matched::CountOccurrences) at /Users/andreu/.julia/packages/Entropies/waej3/src/counting_based/CountOccurrences.jl:14\n  probabilities(::AbstractDataset{m,T}, !Matched::SymbolicPermutation) where {m, T} at /Users/andreu/.julia/packages/Entropies/waej3/src/symbolic/SymbolicPermutation.jl:356\n  ...",
     "output_type": "error",
     "traceback": [
      "MethodError: no method matching probabilities(::Dataset{5,Float64}, ::TreeDistance{Euclidean})\nClosest candidates are:\n  probabilities(::AbstractDataset) at /Users/andreu/.julia/packages/Entropies/waej3/src/histogram_estimation.jl:31\n  probabilities(::AbstractDataset, !Matched::CountOccurrences) at /Users/andreu/.julia/packages/Entropies/waej3/src/counting_based/CountOccurrences.jl:14\n  probabilities(::AbstractDataset{m,T}, !Matched::SymbolicPermutation) where {m, T} at /Users/andreu/.julia/packages/Entropies/waej3/src/symbolic/SymbolicPermutation.jl:356\n  ...",
      "",
      "Stacktrace:",
      " [1] genentropy(::Dataset{5,Float64}, ::TreeDistance{Euclidean}; q::Float64, α::Nothing, base::Irrational{:ℯ}) at /Users/andreu/.julia/packages/Entropies/waej3/src/core.jl:157",
      " [2] genentropy(::Dataset{5,Float64}, ::TreeDistance{Euclidean}) at /Users/andreu/.julia/packages/Entropies/waej3/src/core.jl:153",
      " [3] tranfserentropy(::Dataset{5,Float64}, ::TreeDistance{Euclidean}; α::Float64, base::Int64) at /Users/andreu/project_TE/package_CMI_prague/src/basicent.jl:81",
      " [4] tranfserentropy(::Dataset{5,Float64}, ::TreeDistance{Euclidean}) at /Users/andreu/project_TE/package_CMI_prague/src/basicent.jl:73",
      " [5] meanLag(::Array{Float64,1}, ::Array{Float64,1}, ::NTuple{5,Int64}, ::Array{Int64,1}, ::NTuple{5,Int64}, ::TreeDistance{Euclidean}) at /Users/andreu/project_TE/package_CMI_prague/scripts/TE_functions.jl:30",
      " [6] (::var\"#23#24\"{Array{Float64,3},NTuple{5,Int64},NTuple{5,Int64},TreeDistance{Euclidean},Array{Int64,1},Int64,Array{Array{Float64,1},1}})(::IOStream) at /Users/andreu/project_TE/package_CMI_prague/scripts/TE_functions.jl:52",
      " [7] open(::var\"#23#24\"{Array{Float64,3},NTuple{5,Int64},NTuple{5,Int64},TreeDistance{Euclidean},Array{Int64,1},Int64,Array{Array{Float64,1},1}}, ::String, ::Vararg{String,N} where N; kwargs::Base.Iterators.Pairs{Union{},Union{},Tuple{},NamedTuple{(),Tuple{}}}) at ./io.jl:325",
      " [8] open at ./io.jl:323 [inlined]",
      " [9] TE_for_couplings(::Array{Float64,3}, ::NTuple{5,Int64}, ::NTuple{5,Int64}, ::TreeDistance{Euclidean}, ::Array{Int64,1}, ::String, ::String, ::Int64) at /Users/andreu/project_TE/package_CMI_prague/scripts/TE_functions.jl:46",
      " [10] top-level scope at In[10]:34",
      " [11] include_string(::Function, ::Module, ::String, ::String) at ./loading.jl:1091"
     ]
    }
   ],
   "source": [
=======
>>>>>>> a725dbcbdebd07f06ebc50a695289f21e6a2f258
    "Bin = 3\n",
    "RecBin = 4\n",
    "b = Entropies.RectangularBinning(Bin)\n",
    "root2 = \"../data/exp_pro/correlations_TE\"\n",
    "lag = 25\n",
    "maxτ = 50\n",
    "jumpτ = 5\n",
    "intervalsτ = 2\n",
    "\n",
    "aux = LinRange(jumpτ, maxτ, intervalsτ)\n",
    "τ_range = round.(Int64, aux)\n",
    "\n",
<<<<<<< HEAD
    "\n",
=======
    "τs = (0,  -10, -5, 0, maxτ)\n",
    "#τs = (0,  0, maxτ)\n",
>>>>>>> a725dbcbdebd07f06ebc50a695289f21e6a2f258
    "\n",
    "##choose one of the estimators\n",
    "#est = VisitationFrequency(b)\n",
    "#est = KozachenkoLeonenko(RecBin,0)\n",
    "#est = KozachenkoLeonenko(w = 0)\n",
    "#est = Kraskov(w = Bin, k = Bin)\n",
    "est = TreeDistance()#SymbolicPermutation()\n",
    "\n",
<<<<<<< HEAD
    "dimension  = 5#3\n",
    "\n",
    "if dimension == 5\n",
    "    τs = (0,  -10, -5, 0, maxτ)\n",
    "    jsForward = (1, 2, 2, 2, 2)\n",
    "    jsBackward = (2, 1, 1, 1, 1) \n",
    "end\n",
    "if dimension == 3\n",
    "    τs = (0,  0, maxτ)\n",
    "    jsForward = (1, 2, 2)\n",
    "    jsBackward = (2, 1, 1)\n",
    "end\n",
    "\n",
    "name = name_of_file(est, Bin, maxτ, τs, jsForward)\n",
    "TExy = TE_for_couplings(test_couplings, τs, jsForward, est, τ_range, root2, name,  10)\n",
    "\n",
    "name = name_of_file(est, Bin, maxτ, τs, jsBackward)\n",
    "TEyx = TE_for_couplings(test_couplings, τs, jsBackward, est, τ_range, root2, name, 10)"
   ]
  },
  {
   "cell_type": "code",
   "execution_count": 24,
   "metadata": {},
   "outputs": [
    {
     "data": {
      "image/png": "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",
      "text/plain": [
       "Figure(PyObject <Figure size 500x300 with 1 Axes>)"
      ]
     },
     "metadata": {},
     "output_type": "display_data"
    }
   ],
   "source": [
    "f = figure(figsize = (5,3))\n",
    "ax = subplot(111)\n",
    "px = PyPlot.plot(couplings[1:9], mean.(TExy3); color = \"r\", label = \"Kraskov x -> y\"); \n",
    "ax.axvline(x=0.12);\n",
    "ax.set_ylim([-0.3,2.5])\n",
    "PyPlot.fill_between(couplings[1:9],   mean.(TExy3) .- StatsBase.std.(TExy3),\n",
    "    mean.(TExy3) .+ StatsBase.std.(TEyx3), color = \"r\", alpha = 0.1)\n",
    "\n",
    "PyPlot.plot(couplings[1:9], mean.(TEyx3); color = \"b\", ls= \":\", label = \"Kraskov y -> x\"); \n",
    "PyPlot.fill_between(couplings[1:9],   mean.(TEyx3) .- StatsBase.std.(TEyx3), \n",
    "    mean.(TEyx3) .+ StatsBase.std.(TEyx3), color = \"b\", alpha = 0.1)\n",
    "\n",
    "xlabel(\"Couplings ϵ\"); ylabel(\"I(a_0, b_τ| b_0 )\"); legend()\n",
    "tight_layout()\n",
    "PyPlot.savefig(\"../plots/$name-3Dim.png\")\n"
=======
    "#js = (1, 2, 2)\n",
    "#js = (1, 2, 2, 2, 2)\n",
    "#name = name_of_file(est, Bin, maxτ, τs, js)\n",
    "#mean_TE_xy, TE_xy = TE_for_couplings(test_couplings, τs, js, est, τ_range, root2, name)\n",
    "\n",
    "#js = (2, 1, 1)\n",
    "js = (2, 1, 1, 1, 1)\n",
    "name = name_of_file(est, Bin, maxτ, τs, js)\n",
    "mean_TE_yx, TE_yx = TE_for_couplings(test_couplings, couplings, τs, js, est, τ_range, root2, name) "
>>>>>>> a725dbcbdebd07f06ebc50a695289f21e6a2f258
   ]
  },
  {
   "cell_type": "code",
<<<<<<< HEAD
   "execution_count": 20,
   "metadata": {},
   "outputs": [
    {
     "ename": "LoadError",
     "evalue": "PyError ($(Expr(:escape, :(ccall(#= /Users/andreu/.julia/packages/PyCall/tqyST/src/pyfncall.jl:43 =# @pysym(:PyObject_Call), PyPtr, (PyPtr, PyPtr, PyPtr), o, pyargsptr, kw))))) <class 'ValueError'>\nValueError('x and y must have same first dimension, but have shapes (10,) and (9,)')\n  File \"/Users/andreu/.julia/conda/3/lib/python3.8/site-packages/matplotlib/pyplot.py\", line 2840, in plot\n    return gca().plot(\n  File \"/Users/andreu/.julia/conda/3/lib/python3.8/site-packages/matplotlib/axes/_axes.py\", line 1743, in plot\n    lines = [*self._get_lines(*args, data=data, **kwargs)]\n  File \"/Users/andreu/.julia/conda/3/lib/python3.8/site-packages/matplotlib/axes/_base.py\", line 273, in __call__\n    yield from self._plot_args(this, kwargs)\n  File \"/Users/andreu/.julia/conda/3/lib/python3.8/site-packages/matplotlib/axes/_base.py\", line 399, in _plot_args\n    raise ValueError(f\"x and y must have same first dimension, but \"\n",
     "output_type": "error",
     "traceback": [
      "PyError ($(Expr(:escape, :(ccall(#= /Users/andreu/.julia/packages/PyCall/tqyST/src/pyfncall.jl:43 =# @pysym(:PyObject_Call), PyPtr, (PyPtr, PyPtr, PyPtr), o, pyargsptr, kw))))) <class 'ValueError'>\nValueError('x and y must have same first dimension, but have shapes (10,) and (9,)')\n  File \"/Users/andreu/.julia/conda/3/lib/python3.8/site-packages/matplotlib/pyplot.py\", line 2840, in plot\n    return gca().plot(\n  File \"/Users/andreu/.julia/conda/3/lib/python3.8/site-packages/matplotlib/axes/_axes.py\", line 1743, in plot\n    lines = [*self._get_lines(*args, data=data, **kwargs)]\n  File \"/Users/andreu/.julia/conda/3/lib/python3.8/site-packages/matplotlib/axes/_base.py\", line 273, in __call__\n    yield from self._plot_args(this, kwargs)\n  File \"/Users/andreu/.julia/conda/3/lib/python3.8/site-packages/matplotlib/axes/_base.py\", line 399, in _plot_args\n    raise ValueError(f\"x and y must have same first dimension, but \"\n",
      "",
      "Stacktrace:",
      " [1] pyerr_check at /Users/andreu/.julia/packages/PyCall/tqyST/src/exception.jl:62 [inlined]",
      " [2] pyerr_check at /Users/andreu/.julia/packages/PyCall/tqyST/src/exception.jl:66 [inlined]",
      " [3] _handle_error(::String) at /Users/andreu/.julia/packages/PyCall/tqyST/src/exception.jl:83",
      " [4] macro expansion at /Users/andreu/.julia/packages/PyCall/tqyST/src/exception.jl:97 [inlined]",
      " [5] #109 at /Users/andreu/.julia/packages/PyCall/tqyST/src/pyfncall.jl:43 [inlined]",
      " [6] disable_sigint at ./c.jl:446 [inlined]",
      " [7] __pycall! at /Users/andreu/.julia/packages/PyCall/tqyST/src/pyfncall.jl:42 [inlined]",
      " [8] _pycall!(::PyCall.PyObject, ::PyCall.PyObject, ::Tuple{LinRange{Float64},Array{Float64,1}}, ::Int64, ::PyCall.PyObject) at /Users/andreu/.julia/packages/PyCall/tqyST/src/pyfncall.jl:29",
      " [9] _pycall!(::PyCall.PyObject, ::PyCall.PyObject, ::Tuple{LinRange{Float64},Array{Float64,1}}, ::Base.Iterators.Pairs{Symbol,String,Tuple{Symbol,Symbol,Symbol},NamedTuple{(:color, :ls, :label),Tuple{String,String,String}}}) at /Users/andreu/.julia/packages/PyCall/tqyST/src/pyfncall.jl:11",
      " [10] pycall(::PyCall.PyObject, ::Type{PyCall.PyAny}, ::LinRange{Float64}, ::Vararg{Any,N} where N; kwargs::Base.Iterators.Pairs{Symbol,String,Tuple{Symbol,Symbol,Symbol},NamedTuple{(:color, :ls, :label),Tuple{String,String,String}}}) at /Users/andreu/.julia/packages/PyCall/tqyST/src/pyfncall.jl:83",
      " [11] plot(::LinRange{Float64}, ::Vararg{Any,N} where N; kws::Base.Iterators.Pairs{Symbol,String,Tuple{Symbol,Symbol,Symbol},NamedTuple{(:color, :ls, :label),Tuple{String,String,String}}}) at /Users/andreu/.julia/packages/PyPlot/XHEG0/src/PyPlot.jl:177",
      " [12] top-level scope at In[20]:9",
      " [13] include_string(::Function, ::Module, ::String, ::String) at ./loading.jl:1091"
     ]
    }
   ],
   "source": [
    "f = figure(figsize = (5,3))\n",
    "ax = subplot(111)\n",
    "ax.axvline(x=0.12);\n",
    "ax.set_ylim([-0.3,2.5])\n",
    "\n",
    "#px = PyPlot.plot(couplings[1:10], mean.(TExy); color = \"r\", label = \"Kraskov x -> y\"); \n",
    "#PyPlot.fill_between(couplings[1:10],   mean.(TExy) .- StatsBase.std.(TExy),\n",
    "#    mean.(TExy3) .+ StatsBase.std.(TEyx), color = \"r\", alpha = 0.1)\n",
    "\n",
    "PyPlot.plot(couplings[1:10], mean.(TEyx3); color = \"b\", ls= \":\", label = \"Kraskov y -> x\"); \n",
    "PyPlot.fill_between(couplings[1:10],   mean.(TEyx3) .- StatsBase.std.(TEyx), \n",
    "    mean.(TEyx3) .+ StatsBase.std.(TEyx3), color = \"b\", alpha = 0.1)\n",
    "\n",
    "xlabel(\"Couplings ϵ\"); ylabel(\"I(a_0, b_{τ}| b_0, b_5, b_{10} )\"); legend()\n",
    "tight_layout()\n",
    "PyPlot.savefig(\"../plots/$name-3Dim.png\")"
=======
   "execution_count": 15,
   "metadata": {},
   "outputs": [
    {
     "data": {
      "image/svg+xml": [
       "<?xml version=\"1.0\" encoding=\"utf-8\"?>\n",
       "<svg xmlns=\"http://www.w3.org/2000/svg\" xmlns:xlink=\"http://www.w3.org/1999/xlink\" width=\"600\" height=\"400\" viewBox=\"0 0 2400 1600\">\n",
       "<defs>\n",
       "  <clipPath id=\"clip1600\">\n",
       "    <rect x=\"0\" y=\"0\" width=\"2400\" height=\"1600\"/>\n",
       "  </clipPath>\n",
       "</defs>\n",
       "<path clip-path=\"url(#clip1600)\" d=\"\n",
       "M0 1600 L2400 1600 L2400 0 L0 0  Z\n",
       "  \" fill=\"#ffffff\" fill-rule=\"evenodd\" fill-opacity=\"1\"/>\n",
       "<defs>\n",
       "  <clipPath id=\"clip1601\">\n",
       "    <rect x=\"480\" y=\"0\" width=\"1681\" height=\"1600\"/>\n",
       "  </clipPath>\n",
       "</defs>\n",
       "<path clip-path=\"url(#clip1600)\" d=\"\n",
       "M243.864 1425.62 L2352.76 1425.62 L2352.76 47.2441 L243.864 47.2441  Z\n",
       "  \" fill=\"#ffffff\" fill-rule=\"evenodd\" fill-opacity=\"1\"/>\n",
       "<defs>\n",
       "  <clipPath id=\"clip1602\">\n",
       "    <rect x=\"243\" y=\"47\" width=\"2110\" height=\"1379\"/>\n",
       "  </clipPath>\n",
       "</defs>\n",
       "<polyline clip-path=\"url(#clip1602)\" style=\"stroke:#000000; stroke-width:2; stroke-opacity:0.1; fill:none\" points=\"\n",
       "  303.55,1425.62 303.55,47.2441 \n",
       "  \"/>\n",
       "<polyline clip-path=\"url(#clip1602)\" style=\"stroke:#000000; stroke-width:2; stroke-opacity:0.1; fill:none\" points=\"\n",
       "  701.454,1425.62 701.454,47.2441 \n",
       "  \"/>\n",
       "<polyline clip-path=\"url(#clip1602)\" style=\"stroke:#000000; stroke-width:2; stroke-opacity:0.1; fill:none\" points=\"\n",
       "  1099.36,1425.62 1099.36,47.2441 \n",
       "  \"/>\n",
       "<polyline clip-path=\"url(#clip1602)\" style=\"stroke:#000000; stroke-width:2; stroke-opacity:0.1; fill:none\" points=\"\n",
       "  1497.26,1425.62 1497.26,47.2441 \n",
       "  \"/>\n",
       "<polyline clip-path=\"url(#clip1602)\" style=\"stroke:#000000; stroke-width:2; stroke-opacity:0.1; fill:none\" points=\"\n",
       "  1895.17,1425.62 1895.17,47.2441 \n",
       "  \"/>\n",
       "<polyline clip-path=\"url(#clip1602)\" style=\"stroke:#000000; stroke-width:2; stroke-opacity:0.1; fill:none\" points=\"\n",
       "  2293.07,1425.62 2293.07,47.2441 \n",
       "  \"/>\n",
       "<polyline clip-path=\"url(#clip1602)\" style=\"stroke:#000000; stroke-width:2; stroke-opacity:0.1; fill:none\" points=\"\n",
       "  243.864,1306.53 2352.76,1306.53 \n",
       "  \"/>\n",
       "<polyline clip-path=\"url(#clip1602)\" style=\"stroke:#000000; stroke-width:2; stroke-opacity:0.1; fill:none\" points=\"\n",
       "  243.864,1001.46 2352.76,1001.46 \n",
       "  \"/>\n",
       "<polyline clip-path=\"url(#clip1602)\" style=\"stroke:#000000; stroke-width:2; stroke-opacity:0.1; fill:none\" points=\"\n",
       "  243.864,696.393 2352.76,696.393 \n",
       "  \"/>\n",
       "<polyline clip-path=\"url(#clip1602)\" style=\"stroke:#000000; stroke-width:2; stroke-opacity:0.1; fill:none\" points=\"\n",
       "  243.864,391.324 2352.76,391.324 \n",
       "  \"/>\n",
       "<polyline clip-path=\"url(#clip1602)\" style=\"stroke:#000000; stroke-width:2; stroke-opacity:0.1; fill:none\" points=\"\n",
       "  243.864,86.2547 2352.76,86.2547 \n",
       "  \"/>\n",
       "<polyline clip-path=\"url(#clip1600)\" style=\"stroke:#000000; stroke-width:4; stroke-opacity:1; fill:none\" points=\"\n",
       "  243.864,1425.62 2352.76,1425.62 \n",
       "  \"/>\n",
       "<polyline clip-path=\"url(#clip1600)\" style=\"stroke:#000000; stroke-width:4; stroke-opacity:1; fill:none\" points=\"\n",
       "  243.864,1425.62 243.864,47.2441 \n",
       "  \"/>\n",
       "<polyline clip-path=\"url(#clip1600)\" style=\"stroke:#000000; stroke-width:4; stroke-opacity:1; fill:none\" points=\"\n",
       "  303.55,1425.62 303.55,1409.08 \n",
       "  \"/>\n",
       "<polyline clip-path=\"url(#clip1600)\" style=\"stroke:#000000; stroke-width:4; stroke-opacity:1; fill:none\" points=\"\n",
       "  701.454,1425.62 701.454,1409.08 \n",
       "  \"/>\n",
       "<polyline clip-path=\"url(#clip1600)\" style=\"stroke:#000000; stroke-width:4; stroke-opacity:1; fill:none\" points=\"\n",
       "  1099.36,1425.62 1099.36,1409.08 \n",
       "  \"/>\n",
       "<polyline clip-path=\"url(#clip1600)\" style=\"stroke:#000000; stroke-width:4; stroke-opacity:1; fill:none\" points=\"\n",
       "  1497.26,1425.62 1497.26,1409.08 \n",
       "  \"/>\n",
       "<polyline clip-path=\"url(#clip1600)\" style=\"stroke:#000000; stroke-width:4; stroke-opacity:1; fill:none\" points=\"\n",
       "  1895.17,1425.62 1895.17,1409.08 \n",
       "  \"/>\n",
       "<polyline clip-path=\"url(#clip1600)\" style=\"stroke:#000000; stroke-width:4; stroke-opacity:1; fill:none\" points=\"\n",
       "  2293.07,1425.62 2293.07,1409.08 \n",
       "  \"/>\n",
       "<polyline clip-path=\"url(#clip1600)\" style=\"stroke:#000000; stroke-width:4; stroke-opacity:1; fill:none\" points=\"\n",
       "  243.864,1306.53 269.171,1306.53 \n",
       "  \"/>\n",
       "<polyline clip-path=\"url(#clip1600)\" style=\"stroke:#000000; stroke-width:4; stroke-opacity:1; fill:none\" points=\"\n",
       "  243.864,1001.46 269.171,1001.46 \n",
       "  \"/>\n",
       "<polyline clip-path=\"url(#clip1600)\" style=\"stroke:#000000; stroke-width:4; stroke-opacity:1; fill:none\" points=\"\n",
       "  243.864,696.393 269.171,696.393 \n",
       "  \"/>\n",
       "<polyline clip-path=\"url(#clip1600)\" style=\"stroke:#000000; stroke-width:4; stroke-opacity:1; fill:none\" points=\"\n",
       "  243.864,391.324 269.171,391.324 \n",
       "  \"/>\n",
       "<polyline clip-path=\"url(#clip1600)\" style=\"stroke:#000000; stroke-width:4; stroke-opacity:1; fill:none\" points=\"\n",
       "  243.864,86.2547 269.171,86.2547 \n",
       "  \"/>\n",
       "<g clip-path=\"url(#clip1600)\">\n",
       "<text style=\"fill:#000000; fill-opacity:1; font-family:Arial,Helvetica Neue,Helvetica,sans-serif; font-size:48px; text-anchor:middle;\" transform=\"rotate(0, 303.55, 1479.62)\" x=\"303.55\" y=\"1479.62\">0.00</text>\n",
       "</g>\n",
       "<g clip-path=\"url(#clip1600)\">\n",
       "<text style=\"fill:#000000; fill-opacity:1; font-family:Arial,Helvetica Neue,Helvetica,sans-serif; font-size:48px; text-anchor:middle;\" transform=\"rotate(0, 701.454, 1479.62)\" x=\"701.454\" y=\"1479.62\">0.05</text>\n",
       "</g>\n",
       "<g clip-path=\"url(#clip1600)\">\n",
       "<text style=\"fill:#000000; fill-opacity:1; font-family:Arial,Helvetica Neue,Helvetica,sans-serif; font-size:48px; text-anchor:middle;\" transform=\"rotate(0, 1099.36, 1479.62)\" x=\"1099.36\" y=\"1479.62\">0.10</text>\n",
       "</g>\n",
       "<g clip-path=\"url(#clip1600)\">\n",
       "<text style=\"fill:#000000; fill-opacity:1; font-family:Arial,Helvetica Neue,Helvetica,sans-serif; font-size:48px; text-anchor:middle;\" transform=\"rotate(0, 1497.26, 1479.62)\" x=\"1497.26\" y=\"1479.62\">0.15</text>\n",
       "</g>\n",
       "<g clip-path=\"url(#clip1600)\">\n",
       "<text style=\"fill:#000000; fill-opacity:1; font-family:Arial,Helvetica Neue,Helvetica,sans-serif; font-size:48px; text-anchor:middle;\" transform=\"rotate(0, 1895.17, 1479.62)\" x=\"1895.17\" y=\"1479.62\">0.20</text>\n",
       "</g>\n",
       "<g clip-path=\"url(#clip1600)\">\n",
       "<text style=\"fill:#000000; fill-opacity:1; font-family:Arial,Helvetica Neue,Helvetica,sans-serif; font-size:48px; text-anchor:middle;\" transform=\"rotate(0, 2293.07, 1479.62)\" x=\"2293.07\" y=\"1479.62\">0.25</text>\n",
       "</g>\n",
       "<g clip-path=\"url(#clip1600)\">\n",
       "<text style=\"fill:#000000; fill-opacity:1; font-family:Arial,Helvetica Neue,Helvetica,sans-serif; font-size:48px; text-anchor:end;\" transform=\"rotate(0, 219.864, 1324.03)\" x=\"219.864\" y=\"1324.03\">-0.8</text>\n",
       "</g>\n",
       "<g clip-path=\"url(#clip1600)\">\n",
       "<text style=\"fill:#000000; fill-opacity:1; font-family:Arial,Helvetica Neue,Helvetica,sans-serif; font-size:48px; text-anchor:end;\" transform=\"rotate(0, 219.864, 1018.96)\" x=\"219.864\" y=\"1018.96\">-0.6</text>\n",
       "</g>\n",
       "<g clip-path=\"url(#clip1600)\">\n",
       "<text style=\"fill:#000000; fill-opacity:1; font-family:Arial,Helvetica Neue,Helvetica,sans-serif; font-size:48px; text-anchor:end;\" transform=\"rotate(0, 219.864, 713.893)\" x=\"219.864\" y=\"713.893\">-0.4</text>\n",
       "</g>\n",
       "<g clip-path=\"url(#clip1600)\">\n",
       "<text style=\"fill:#000000; fill-opacity:1; font-family:Arial,Helvetica Neue,Helvetica,sans-serif; font-size:48px; text-anchor:end;\" transform=\"rotate(0, 219.864, 408.824)\" x=\"219.864\" y=\"408.824\">-0.2</text>\n",
       "</g>\n",
       "<g clip-path=\"url(#clip1600)\">\n",
       "<text style=\"fill:#000000; fill-opacity:1; font-family:Arial,Helvetica Neue,Helvetica,sans-serif; font-size:48px; text-anchor:end;\" transform=\"rotate(0, 219.864, 103.755)\" x=\"219.864\" y=\"103.755\">0.0</text>\n",
       "</g>\n",
       "<g clip-path=\"url(#clip1600)\">\n",
       "<text style=\"fill:#000000; fill-opacity:1; font-family:Arial,Helvetica Neue,Helvetica,sans-serif; font-size:66px; text-anchor:middle;\" transform=\"rotate(0, 1298.31, 1559.48)\" x=\"1298.31\" y=\"1559.48\">Coupling ?</text>\n",
       "</g>\n",
       "<g clip-path=\"url(#clip1600)\">\n",
       "<text style=\"fill:#000000; fill-opacity:1; font-family:Arial,Helvetica Neue,Helvetica,sans-serif; font-size:66px; text-anchor:middle;\" transform=\"rotate(-90, 89.2861, 736.431)\" x=\"89.2861\" y=\"736.431\">TE</text>\n",
       "</g>\n",
       "<polyline clip-path=\"url(#clip1602)\" style=\"stroke:#009af9; stroke-width:4; stroke-opacity:1; fill:none\" points=\"\n",
       "  303.55,86.2547 323.851,86.2547 344.152,1386.61 364.453,86.2547 384.755,86.2547 405.056,86.2547 425.357,86.2547 445.658,86.2547 465.96,86.2547 486.261,86.2547 \n",
       "  506.562,86.2547 526.863,86.2547 547.165,1362.78 567.466,86.2547 587.767,86.2547 608.068,86.2547 628.369,86.2547 648.671,86.2547 668.972,86.2547 689.273,86.2547 \n",
       "  709.574,86.2547 729.876,86.2547 750.177,1343.31 770.478,86.2547 790.779,86.2547 811.081,86.2547 831.382,86.2547 851.683,86.2547 871.984,86.2547 892.285,86.2547 \n",
       "  912.587,86.2547 932.888,86.2547 953.189,1289.1 973.49,86.2547 993.792,86.2547 1014.09,86.2547 1034.39,86.2547 1054.7,86.2547 1075,86.2547 1095.3,86.2547 \n",
       "  1115.6,86.2547 1135.9,86.2547 1156.2,1077.77 1176.5,86.2547 1196.8,86.2547 1217.11,86.2547 1237.41,86.2547 1257.71,86.2547 1278.01,86.2547 1298.31,86.2547 \n",
       "  1318.61,86.2547 1338.91,86.2547 1359.21,574.109 1379.51,86.2547 1399.82,86.2547 1420.12,86.2547 1440.42,86.2547 1460.72,86.2547 1481.02,86.2547 1501.32,86.2547 \n",
       "  1521.62,86.2547 1541.92,86.2547 1562.23,311.315 1582.53,86.2547 1602.83,86.2547 1623.13,86.2547 1643.43,86.2547 1663.73,86.2547 1684.03,86.2547 1704.33,86.2547 \n",
       "  1724.64,86.2547 1744.94,86.2547 1765.24,268.985 1785.54,86.2547 1805.84,86.2547 1826.14,86.2547 1846.44,86.2547 1866.74,86.2547 1887.05,86.2547 1907.35,86.2547 \n",
       "  1927.65,86.2547 1947.95,86.2547 1968.25,310.765 1988.55,86.2547 2008.85,86.2547 2029.15,86.2547 2049.46,86.2547 2069.76,86.2547 2090.06,86.2547 2110.36,86.2547 \n",
       "  2130.66,86.2547 2150.96,86.2547 2171.26,343.559 2191.56,86.2547 2211.87,86.2547 2232.17,86.2547 2252.47,86.2547 2272.77,86.2547 2293.07,86.2547 \n",
       "  \"/>\n",
       "<path clip-path=\"url(#clip1600)\" d=\"\n",
       "M1989.93 251.724 L2280.76 251.724 L2280.76 130.764 L1989.93 130.764  Z\n",
       "  \" fill=\"#ffffff\" fill-rule=\"evenodd\" fill-opacity=\"1\"/>\n",
       "<polyline clip-path=\"url(#clip1600)\" style=\"stroke:#000000; stroke-width:4; stroke-opacity:1; fill:none\" points=\"\n",
       "  1989.93,251.724 2280.76,251.724 2280.76,130.764 1989.93,130.764 1989.93,251.724 \n",
       "  \"/>\n",
       "<polyline clip-path=\"url(#clip1600)\" style=\"stroke:#009af9; stroke-width:4; stroke-opacity:1; fill:none\" points=\"\n",
       "  2013.93,191.244 2157.93,191.244 \n",
       "  \"/>\n",
       "<g clip-path=\"url(#clip1600)\">\n",
       "<text style=\"fill:#000000; fill-opacity:1; font-family:Arial,Helvetica Neue,Helvetica,sans-serif; font-size:48px; text-anchor:start;\" transform=\"rotate(0, 2181.93, 208.744)\" x=\"2181.93\" y=\"208.744\">y1</text>\n",
       "</g>\n",
       "</svg>\n"
      ]
     },
     "execution_count": 15,
     "metadata": {},
     "output_type": "execute_result"
    }
   ],
   "source": [
    "plot(couplings, mean_TE_yx)\n",
    "xlabel!(\"Coupling ϵ\")\n",
    "ylabel!(\"TE\")"
>>>>>>> a725dbcbdebd07f06ebc50a695289f21e6a2f258
   ]
  },
  {
   "cell_type": "code",
   "execution_count": 74,
   "metadata": {},
   "outputs": [
    {
     "name": "stdout",
     "output_type": "stream",
     "text": [
      "[5, 10, 15, 20, 25, 30, 35, 40, 45, 50]\n",
      "5  uh "
     ]
    },
    {
     "ename": "LoadError",
     "evalue": "BoundsError: attempt to access (-13.45701, 2.652757, -3.878211)\n  at index [5]",
     "output_type": "error",
     "traceback": [
      "BoundsError: attempt to access (-13.45701, 2.652757, -3.878211)\n  at index [5]",
      "",
      "Stacktrace:",
      " [1] getindex at ./tuple.jl:24 [inlined]",
      " [2] getindex at /Users/andreu/.julia/packages/StaticArrays/NTbHj/src/SVector.jl:40 [inlined]",
      " [3] getindex at /Users/andreu/.julia/packages/DelayEmbeddings/Jcztf/src/dataset.jl:40 [inlined]",
      " [4] getindex(::Dataset{3,Float64}, ::UnitRange{Int64}, ::Array{Int64,1}) at /Users/andreu/.julia/packages/DelayEmbeddings/Jcztf/src/dataset.jl:64",
      " [5] getindex at /Users/andreu/.julia/packages/DelayEmbeddings/Jcztf/src/dataset.jl:72 [inlined]",
      " [6] tranfserentropy(::Dataset{3,Float64}, ::KozachenkoLeonenko, ::Int64, ::Int64) at /Users/andreu/project_TE/package_CMI_prague/src/basicent.jl:96",
      " [7] tranfserentropy(::Dataset{3,Float64}, ::KozachenkoLeonenko, ::Int64) at /Users/andreu/project_TE/package_CMI_prague/src/basicent.jl:94",
      " [8] macro expansion at ./In[74]:35 [inlined]",
      " [9] macro expansion at /Users/andreu/.julia/packages/Suppressor/nTjgZ/src/Suppressor.jl:98 [inlined]",
      " [10] (::var\"#145#147\")(::IOStream) at ./In[74]:23",
      " [11] open(::var\"#145#147\", ::String, ::Vararg{String,N} where N; kwargs::Base.Iterators.Pairs{Union{},Union{},Tuple{},NamedTuple{(),Tuple{}}}) at ./io.jl:325",
      " [12] open(::Function, ::String, ::String) at ./io.jl:323",
      " [13] top-level scope at In[74]:22",
      " [14] include_string(::Function, ::Module, ::String, ::String) at ./loading.jl:1091"
     ]
    }
   ],
   "source": [
    "#root2 = \"/Users/andreu/Desktop/Dropbox/transfer_inormation_prague/code/correlations_TE\"\n",
    "root2 = \"../data/exp_pro/correlations_TE\"\n",
    "maxτ = 50\n",
    "jumpτ = 5\n",
    "aux = LinRange(jumpτ, maxτ, 10)\n",
    "τ_range = round.(Int64, aux)\n",
    "println(τ_range)\n",
    "#τs = (0,  10, 5, 0, maxτ)\n",
    "#js = (2, 1, 1, 1, 1)\n",
    "#js = (1, 2, 2, 2, 2)\n",
    "\n",
    "τs = (0, 0,  maxτ ) #RIGhT ORDER FOR THE 3 dimensional embbeding case\n",
    "#js = (2, 1, 1)\n",
    "js = (1, 2, 2)\n",
    "\n",
    "aux = '_'\n",
    "for (i, e) in enumerate(τs)\n",
    "    aux = string(τs[length(τs)-i+1],aux,js[i])\n",
    "end\n",
    "name = \"couplings_meanTE_Knn$RecBin-$aux.txt\"\n",
    "\n",
    "open(\"$root2/$name\", \"w\") do f\n",
    "    @suppress_err begin\n",
    "        for i in 1:size(test_couplings, 3)-1\n",
    "            mean_TE = 0\n",
    "            a = test_couplings[:,:,i]\n",
    "            x = a[:,1]\n",
    "            y = a[:,2]\n",
    "            for t in τ_range\n",
    "                print(t)\n",
    "                ts =  changevector!(τs, t, length(τs))\n",
    "                joint = DelayEmbeddings.genembed(Dataset(x, y),  ts, js )\n",
    "                #e = tranfserentropy(joint, VisitationFrequency(b), α = 1.0, base = 2)\n",
    "                #e = tranfserentropy(joint, VisitationFrequency(b); embdim = 5, α =1.0, base =2)\n",
    "                e = tranfserentropy(joint, KozachenkoLeonenko(1,8),  2)\n",
    "                mean_TE += e/length(τ_range)  \n",
    "            end\n",
    "            aux = couplings[i]\n",
    "            println(couplings[i], ' ', mean_TE)\n",
    "            write(f, \"$aux $mean_TE\\n\")\n",
    "        end\n",
    "    end\n",
    "end"
   ]
  },
  {
   "cell_type": "code",
   "execution_count": 169,
   "metadata": {},
   "outputs": [
    {
     "data": {
      "text/plain": [
       "10-element Array{Int64,1}:\n",
       "  3\n",
       "  6\n",
       "  9\n",
       " 12\n",
       " 15\n",
       " 18\n",
       " 21\n",
       " 24\n",
       " 27\n",
       " 30"
      ]
     },
     "execution_count": 169,
     "metadata": {},
     "output_type": "execute_result"
    }
   ],
   "source": [
    "aux = LinRange(jumpτ, maxτ, 10)\n",
    "τ_range = round.(Int64, aux)"
   ]
  },
  {
   "cell_type": "code",
   "execution_count": 137,
   "metadata": {},
   "outputs": [
    {
     "data": {
      "text/plain": [
       "5.5"
      ]
     },
     "execution_count": 137,
     "metadata": {},
     "output_type": "execute_result"
    }
   ],
   "source": [
    "τ_range = LinRange(1, 10, 10)\n",
    "EE = Array{Float64}(undef,  length(τ_range), 1)\n",
    "for t in τ_range\n",
    "    EE[1] += t/length(τ_range) #+ EE[1] \n",
    "end\n",
    "EE[1]"
   ]
  },
  {
   "cell_type": "markdown",
   "metadata": {},
   "source": [
    "?DelayEmbeddings.genembed"
   ]
  },
  {
   "cell_type": "markdown",
   "metadata": {},
   "source": [
    "test_couplings[1,2,1]"
   ]
  },
  {
   "cell_type": "code",
   "execution_count": 30,
   "metadata": {},
   "outputs": [],
   "source": [
    "\n",
    "a1 = test_couplings[:,:,1]\n",
    "x1 = a1[:,1]\n",
    "y1 = a1[:,2]"
   ]
  },
  {
   "cell_type": "code",
   "execution_count": 32,
   "metadata": {},
   "outputs": [],
   "source": [
    "joint= DelayEmbeddings.genembed(Dataset(x1, y1),  (0,0,1), (1,2,2) );"
   ]
  },
  {
   "cell_type": "markdown",
   "metadata": {},
   "source": [
    "?Entropies.genentropy"
   ]
  }
 ],
 "metadata": {
  "kernelspec": {
   "display_name": "Julia 1.6.2",
   "language": "julia",
   "name": "julia-1.6"
  },
  "language_info": {
   "file_extension": ".jl",
   "mimetype": "application/julia",
   "name": "julia",
   "version": "1.6.2"
  }
 },
 "nbformat": 4,
 "nbformat_minor": 4
}
