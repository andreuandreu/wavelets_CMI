{
 "cells": [
  {
   "cell_type": "code",
   "execution_count": 2,
   "metadata": {},
   "outputs": [
    {
     "name": "stderr",
     "output_type": "stream",
     "text": [
      "\u001b[32m\u001b[1m Activating\u001b[22m\u001b[39m environment at `~/project_TE/package_CMI_prague/Project.toml`\n"
     ]
    }
   ],
   "source": [
    "using Pkg; Pkg.activate(\"../\")"
   ]
  },
  {
   "cell_type": "code",
   "execution_count": null,
   "metadata": {},
   "outputs": [],
   "source": []
  },
  {
   "cell_type": "code",
   "execution_count": 3,
   "metadata": {},
   "outputs": [
    {
     "name": "stderr",
     "output_type": "stream",
     "text": [
      "┌ Info: Precompiling TransferEntropy [ea221983-52f3-5440-99c7-13ea201cd633]\n",
      "└ @ Base loading.jl:1278\n"
     ]
    }
   ],
   "source": [
    "using TransferEntropy"
   ]
  },
  {
   "cell_type": "code",
   "execution_count": 4,
   "metadata": {},
   "outputs": [
    {
     "name": "stderr",
     "output_type": "stream",
     "text": [
      "\u001b[32m\u001b[1m   Updating\u001b[22m\u001b[39m registry at `~/.julia/registries/General`\n",
      "######################################################################### 100.0%\n",
      "\u001b[32m\u001b[1m  Resolving\u001b[22m\u001b[39m package versions...\n",
      "\u001b[32m\u001b[1m  Installed\u001b[22m\u001b[39m FFTW_jll ───── v3.3.9+8\n",
      "\u001b[32m\u001b[1m  Installed\u001b[22m\u001b[39m Libiconv_jll ─ v1.16.0+8\n",
      "\u001b[32m\u001b[1mNo Changes\u001b[22m\u001b[39m to `~/project_TE/package_CMI_prague/Project.toml`\n",
      "\u001b[32m\u001b[1mUpdating\u001b[22m\u001b[39m `~/project_TE/package_CMI_prague/Manifest.toml`\n",
      " \u001b[90m [f5851436] \u001b[39m\u001b[93m↑ FFTW_jll v3.3.9+7 ⇒ v3.3.9+8\u001b[39m\n",
      " \u001b[90m [94ce4f54] \u001b[39m\u001b[93m↑ Libiconv_jll v1.16.0+7 ⇒ v1.16.0+8\u001b[39m\n"
     ]
    }
   ],
   "source": [
    "Pkg.add(\"Simplices\")"
   ]
  },
  {
   "cell_type": "code",
   "execution_count": 7,
   "metadata": {},
   "outputs": [
    {
     "name": "stderr",
     "output_type": "stream",
     "text": [
      "┌ Info: Precompiling Simplices [d5428e67-3037-59ba-9ab1-57a04f0a3b6a]\n",
      "└ @ Base loading.jl:1278\n",
      "┌ Warning: Package Simplices does not have Distributions in its dependencies:\n",
      "│ - If you have Simplices checked out for development and have\n",
      "│   added Distributions as a dependency but haven't updated your primary\n",
      "│   environment's manifest file, try `Pkg.resolve()`.\n",
      "│ - Otherwise you may need to report an issue with Simplices\n",
      "└ Loading Distributions into Simplices from project dependency, future warnings for Simplices are suppressed.\n",
      "ERROR: LoadError: LoadError: LoadError: ArgumentError: Package Simplices does not have Parameters in its dependencies:\n",
      "- If you have Simplices checked out for development and have\n",
      "  added Parameters as a dependency but haven't updated your primary\n",
      "  environment's manifest file, try `Pkg.resolve()`.\n",
      "- Otherwise you may need to report an issue with Simplices\n",
      "Stacktrace:\n",
      " [1] require(::Module, ::Symbol) at ./loading.jl:906\n",
      " [2] include(::Function, ::Module, ::String) at ./Base.jl:380\n",
      " [3] include at ./Base.jl:368 [inlined]\n",
      " [4] include(::String) at /Users/andreu/.julia/packages/Simplices/Cdclp/src/simplexsplitting/SimplexSplitting.jl:3\n",
      " [5] top-level scope at /Users/andreu/.julia/packages/Simplices/Cdclp/src/simplexsplitting/SimplexSplitting.jl:16\n",
      " [6] include(::Function, ::Module, ::String) at ./Base.jl:380\n",
      " [7] include at ./Base.jl:368 [inlined]\n",
      " [8] include(::String) at /Users/andreu/.julia/packages/Simplices/Cdclp/src/Simplices.jl:3\n",
      " [9] top-level scope at /Users/andreu/.julia/packages/Simplices/Cdclp/src/Simplices.jl:9\n",
      " [10] include(::Function, ::Module, ::String) at ./Base.jl:380\n",
      " [11] include(::Module, ::String) at ./Base.jl:368\n",
      " [12] top-level scope at none:2\n",
      " [13] eval at ./boot.jl:331 [inlined]\n",
      " [14] eval(::Expr) at ./client.jl:467\n",
      " [15] top-level scope at ./none:3\n",
      "in expression starting at /Users/andreu/.julia/packages/Simplices/Cdclp/src/simplexsplitting/triangulate.jl:1\n",
      "in expression starting at /Users/andreu/.julia/packages/Simplices/Cdclp/src/simplexsplitting/SimplexSplitting.jl:16\n",
      "in expression starting at /Users/andreu/.julia/packages/Simplices/Cdclp/src/Simplices.jl:9\n"
     ]
    },
    {
     "ename": "LoadError",
     "evalue": "Failed to precompile Simplices [d5428e67-3037-59ba-9ab1-57a04f0a3b6a] to /Users/andreu/.julia/compiled/v1.5/Simplices/uo5v1_npFOJ.ji.",
     "output_type": "error",
     "traceback": [
      "Failed to precompile Simplices [d5428e67-3037-59ba-9ab1-57a04f0a3b6a] to /Users/andreu/.julia/compiled/v1.5/Simplices/uo5v1_npFOJ.ji.",
      "",
      "Stacktrace:",
      " [1] error(::String) at ./error.jl:33",
      " [2] compilecache(::Base.PkgId, ::String) at ./loading.jl:1305",
      " [3] _require(::Base.PkgId) at ./loading.jl:1030",
      " [4] require(::Base.PkgId) at ./loading.jl:928",
      " [5] require(::Module, ::Symbol) at ./loading.jl:923",
      " [6] include_string(::Function, ::Module, ::String, ::String) at ./loading.jl:1091"
     ]
    }
   ],
   "source": [
    "#addprocs(4)\n",
    "\n",
    "using Simplices, SimplexSplitting, InvariantDistribution\n"
   ]
  },
  {
   "cell_type": "code",
   "execution_count": 8,
   "metadata": {},
   "outputs": [
    {
     "ename": "LoadError",
     "evalue": "UndefVarError: SimplexSplitting not defined",
     "output_type": "error",
     "traceback": [
      "UndefVarError: SimplexSplitting not defined",
      "",
      "Stacktrace:",
      " [1] top-level scope at In[8]:2",
      " [2] include_string(::Function, ::Module, ::String, ::String) at ./loading.jl:1091"
     ]
    }
   ],
   "source": [
    " # Bogus example to trigger compilation\n",
    "e_ex = SimplexSplitting.Embedding(InvariantDistribution.invariant_gaussian_embedding(npts = 12))\n",
    "t_ex = SimplexSplitting.triang_from_embedding(e_ex)\n",
    "mm = InvariantDistribution.mm_discrete_dense(t_ex)\n",
    "@assert all(sum(mm, 2) .≈ 1)"
   ]
  },
  {
   "cell_type": "code",
   "execution_count": null,
   "metadata": {},
   "outputs": [],
   "source": [
    "using Pkg; Pkg.activate(\"../\")"
   ]
  }
 ],
 "metadata": {
  "kernelspec": {
   "display_name": "Julia 1.5.2",
   "language": "julia",
   "name": "julia-1.5"
  },
  "language_info": {
   "file_extension": ".jl",
   "mimetype": "application/julia",
   "name": "julia",
   "version": "1.5.2"
  }
 },
 "nbformat": 4,
 "nbformat_minor": 4
}
