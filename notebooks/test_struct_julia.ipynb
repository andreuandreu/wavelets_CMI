{
 "cells": [
  {
   "cell_type": "code",
   "execution_count": null,
   "metadata": {},
   "outputs": [],
   "source": [
    "function load_embedings_params(name_conf_file)\n",
    "\"\n",
    "load the parameters to define the embeding characteristics\n",
    "\"\n",
    "\n",
    "conf = ConfParse(name_conf_file)\n",
    "parse_conf!(conf)\n",
    "\n",
    "# get and store config parameter\n",
    "root2 = retrieve(conf, \"names\", \"root_folder\")\n",
    "name_tag = retrieve(conf, \"names\", \"name_tag\")\n",
    "\n",
    "Bin = retrieve(conf, \"emb_par\", \"bins\")\n",
    "maxτ = retrieve(conf, \"emb_par\", \"max_tau\")\n",
    "jumpτ = retrieve(conf, \"emb_par\", \"jump_tau\")\n",
    "emb_dim = retrieve(conf, \"emb_par\", \"embeding_dimension\")\n",
    "\n",
    "struct embedings_params\n",
    "    \"\n",
    "    define the parameters to define the embeding characteristics\n",
    "    \"\n",
    "\n",
    "    root2 :: String\n",
    "    Bin :: Int64\n",
    "    maxτ :: Int64\n",
    "    jumpτ :: Inf64\n",
    "    emb_dim :: Array\n",
    "    name_tag :: String\n",
    "end\n",
    "return emb_par\n",
    "\n",
    "end\n"
   ]
  },
  {
   "cell_type": "code",
   "execution_count": 1,
   "metadata": {},
   "outputs": [],
   "source": [
    "struct embedings_params\n",
    "    \"\n",
    "    define the parameters to define the embeding characteristics\n",
    "    \"\n",
    "\n",
    "    root2 :: String\n",
    "    name_tag :: String\n",
    "    Bin :: Int64\n",
    "    maxτ :: Int64\n",
    "    jumpτ :: Int64\n",
    "    emb_dim :: Array\n",
    "end"
   ]
  },
  {
   "cell_type": "code",
   "execution_count": 3,
   "metadata": {},
   "outputs": [
    {
     "ename": "LoadError",
     "evalue": "syntax: character literal contains multiple characters",
     "output_type": "error",
     "traceback": [
      "syntax: character literal contains multiple characters",
      "",
      "Stacktrace:",
      " [1] top-level scope",
      "   @ In[3]:1",
      " [2] eval",
      "   @ ./boot.jl:360 [inlined]",
      " [3] include_string(mapexpr::typeof(REPL.softscope), mod::Module, code::String, filename::String)",
      "   @ Base ./loading.jl:1116"
     ]
    }
   ],
   "source": [
    "root2 = 'aaa'\n",
    "name_tag = 'bbb'\n",
    "Bin = 30\n",
    "maxτ = 40\n",
    "jumpτ = 4\n",
    "emb_dim = (1,1,2)\n",
    "\n",
    "emb_par = embedings_params(root2, name_tag, Bin, maxτ, jumpτ)"
   ]
  }
 ],
 "metadata": {
  "interpreter": {
   "hash": "916dbcbb3f70747c44a77c7bcd40155683ae19c65e1c03b4aa3499c5328201f1"
  },
  "kernelspec": {
   "display_name": "Julia 1.6.2",
   "language": "julia",
   "name": "julia-1.6"
  },
  "language_info": {
   "file_extension": ".jl",
   "mimetype": "application/julia",
   "name": "julia",
   "version": "1.6.2"
  },
  "orig_nbformat": 4
 },
 "nbformat": 4,
 "nbformat_minor": 2
}
