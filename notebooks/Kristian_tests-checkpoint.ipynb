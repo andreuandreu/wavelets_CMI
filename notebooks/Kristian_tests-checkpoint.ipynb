{
 "cells": [
  {
   "cell_type": "code",
   "execution_count": null,
   "metadata": {},
<<<<<<< HEAD
   "outputs": [
    {
     "name": "stderr",
     "output_type": "stream",
     "text": [
      "\u001b[32m\u001b[1m Activating\u001b[22m\u001b[39m environment at `~/project_TE/package_CMI_prague/notebooks/Project.toml`\n"
     ]
    }
   ],
=======
   "outputs": [],
>>>>>>> a725dbcbdebd07f06ebc50a695289f21e6a2f258
   "source": [
    "using Pkg; Pkg.activate(\"./\")\n",
    "    "
   ]
  },
  {
   "cell_type": "markdown",
   "metadata": {},
   "source": [
    "Pkg.status()\n"
   ]
  },
  {
   "cell_type": "markdown",
   "metadata": {},
   "source": [
    "Pkg.add(\"DelayEmbeddings\")"
   ]
  },
  {
   "cell_type": "markdown",
<<<<<<< HEAD
   "metadata": {},
   "source": [
    "Pkg.add(\"Entropies\")"
   ]
  },
  {
   "cell_type": "code",
   "execution_count": 6,
   "metadata": {},
   "outputs": [
    {
     "name": "stderr",
     "output_type": "stream",
     "text": [
      "┌ Info: Precompiling Entropies [ed8fcbec-b94c-44b6-89df-898894ad9591]\n",
      "└ @ Base loading.jl:1278\n"
     ]
    }
   ],
   "source": [
=======
   "metadata": {},
   "source": [
    "Pkg.add(\"Entropies\")"
   ]
  },
  {
   "cell_type": "code",
   "execution_count": 7,
   "metadata": {},
   "outputs": [],
   "source": [
>>>>>>> a725dbcbdebd07f06ebc50a695289f21e6a2f258
    "using Entropies"
   ]
  },
  {
   "cell_type": "code",
<<<<<<< HEAD
   "execution_count": 7,
=======
   "execution_count": null,
>>>>>>> a725dbcbdebd07f06ebc50a695289f21e6a2f258
   "metadata": {},
   "outputs": [],
   "source": [
    "using DelayEmbeddings"
   ]
  },
  {
   "cell_type": "markdown",
   "metadata": {},
   "source": [
    "?SymbolicPermutation"
   ]
  },
  {
   "cell_type": "markdown",
   "metadata": {},
   "source": [
    "?Entropies.genentropy"
   ]
  },
  {
   "cell_type": "code",
<<<<<<< HEAD
   "execution_count": 8,
   "metadata": {},
   "outputs": [
    {
     "data": {
      "text/plain": [
       "111-element Array{Float64,1}:\n",
       " 0.7789098438419111\n",
       " 0.8105169604308924\n",
       " 0.4638765639706006\n",
       " 0.688333968300525\n",
       " 0.7882516271216093\n",
       " 0.6114345097570568\n",
       " 0.673565153333415\n",
       " 0.5995641590741101\n",
       " 0.06317979799408979\n",
       " 0.8311056537740362\n",
       " 0.31928354228553446\n",
       " 0.7743846623333093\n",
       " 0.46025972799084003\n",
       " ⋮\n",
       " 0.15662241612516148\n",
       " 0.3517374809288618\n",
       " 0.34199899995524596\n",
       " 0.8059388357819401\n",
       " 0.4543073342115842\n",
       " 0.7920202280033928\n",
       " 0.0221470621182267\n",
       " 0.9801847617735744\n",
       " 0.6785118893278519\n",
       " 0.5574365234785448\n",
       " 0.32093168980866205\n",
       " 0.1177863746465484"
      ]
     },
     "execution_count": 8,
     "metadata": {},
     "output_type": "execute_result"
    }
   ],
=======
   "execution_count": null,
   "metadata": {},
   "outputs": [],
>>>>>>> a725dbcbdebd07f06ebc50a695289f21e6a2f258
   "source": [
    "x = rand(111)\n",
    "y = rand(111)"
   ]
  },
  {
   "cell_type": "markdown",
   "metadata": {},
   "source": [
    "?DelayEmbeddings.genembed"
   ]
  },
  {
   "cell_type": "markdown",
   "metadata": {},
   "source": [
    "$$\n",
    "TE_{x \\to y} = \\sum p(x_t, y_t, y_{t+\\eta}) \\log \\dfrac{p(y_{t+\\eta} | y_t, x_t)}{p(y_{t+\\eta} | y_t)}\n",
    "$$"
   ]
  },
  {
   "cell_type": "code",
<<<<<<< HEAD
   "execution_count": 9,
=======
   "execution_count": 5,
>>>>>>> a725dbcbdebd07f06ebc50a695289f21e6a2f258
   "metadata": {},
   "outputs": [
    {
     "data": {
      "text/plain": [
       "3-dimensional Dataset{Float64} with 110 points\n",
<<<<<<< HEAD
       " 0.354664   0.77891    0.810517\n",
       " 0.869765   0.810517   0.463877\n",
       " 0.93014    0.463877   0.688334\n",
       " 0.766906   0.688334   0.788252\n",
       " 0.170889   0.788252   0.611435\n",
       " 0.0703303  0.611435   0.673565\n",
       " 0.853852   0.673565   0.599564\n",
       " 0.420073   0.599564   0.0631798\n",
       " 0.0872747  0.0631798  0.831106\n",
       " 0.235161   0.831106   0.319284\n",
       " 0.338191   0.319284   0.774385\n",
       " 0.0955317  0.774385   0.46026\n",
       " 0.0293959  0.46026    0.515723\n",
       " ⋮                     \n",
       " 0.0897931  0.339668   0.156622\n",
       " 0.12115    0.156622   0.351737\n",
       " 0.962898   0.351737   0.341999\n",
       " 0.277172   0.341999   0.805939\n",
       " 0.758827   0.805939   0.454307\n",
       " 0.845552   0.454307   0.79202\n",
       " 0.584382   0.79202    0.0221471\n",
       " 0.232041   0.0221471  0.980185\n",
       " 0.465545   0.980185   0.678512\n",
       " 0.323641   0.678512   0.557437\n",
       " 0.913653   0.557437   0.320932\n",
       " 0.0278352  0.320932   0.117786"
      ]
     },
     "execution_count": 9,
=======
       " 0.742872    0.841675   0.484482\n",
       " 0.922236    0.484482   0.502265\n",
       " 0.00472441  0.502265   0.665298\n",
       " 0.438385    0.665298   0.736781\n",
       " 0.0923076   0.736781   0.688567\n",
       " 0.751574    0.688567   0.191833\n",
       " 0.00545923  0.191833   0.887844\n",
       " 0.891561    0.887844   0.513661\n",
       " 0.518826    0.513661   0.101896\n",
       " 0.310884    0.101896   0.364202\n",
       " 0.923854    0.364202   0.0622038\n",
       " 0.0880226   0.0622038  0.23342\n",
       " 0.717915    0.23342    0.736318\n",
       " ⋮                      \n",
       " 0.948769    0.273191   0.0884753\n",
       " 0.911863    0.0884753  0.77557\n",
       " 0.23425     0.77557    0.886121\n",
       " 0.368427    0.886121   0.487611\n",
       " 0.858657    0.487611   0.498866\n",
       " 0.670798    0.498866   0.791045\n",
       " 0.660356    0.791045   0.588285\n",
       " 0.842609    0.588285   0.873598\n",
       " 0.318514    0.873598   0.0166574\n",
       " 0.771333    0.0166574  0.859447\n",
       " 0.479545    0.859447   0.911151\n",
       " 0.9339      0.911151   0.981272"
      ]
     },
     "execution_count": 5,
>>>>>>> a725dbcbdebd07f06ebc50a695289f21e6a2f258
     "metadata": {},
     "output_type": "execute_result"
    }
   ],
   "source": [
    "joint= DelayEmbeddings.genembed(Dataset(x, y),  (0,0,1), (1,2,2) )"
   ]
  },
  {
   "cell_type": "code",
   "execution_count": 6,
   "metadata": {},
   "outputs": [
    {
     "data": {
      "text/latex": [
       "\\begin{verbatim}\n",
       "genentropy(p::Probabilities; q = 1.0, base = MathConstants.e)\n",
       "\\end{verbatim}\n",
       "Compute the generalized order-\\texttt{q} entropy of some probabilities returned by the \\href{@ref}{\\texttt{probabilities}} function. Alternatively, compute entropy from pre-computed \\texttt{Probabilities}.\n",
       "\n",
       "\\begin{verbatim}\n",
       "genentropy(x::Vector_or_Dataset, est; q = 1.0, base)\n",
       "\\end{verbatim}\n",
       "A convenience syntax, which calls first \\texttt{probabilities(x, est)} and then calculates the entropy of the result (and thus \\texttt{est} can be a \\texttt{ProbabilitiesEstimator} or simply \\texttt{ε::Real}).\n",
       "\n",
       "\\subsection{Description}\n",
       "Let $p$ be an array of probabilities (summing to 1). Then the generalized (Rényi) entropy is\n",
       "\n",
       "$$H_q(p) = \\frac{1}{1-q} \\log \\left(\\sum_i p[i]^q\\right)$$\n",
       "and generalizes other known entropies, like e.g. the information entropy ($q = 1$, see \\footnotemark[Shannon1948]), the maximum entropy ($q=0$, also known as Hartley entropy), or the correlation entropy ($q = 2$, also known as collision entropy).\n",
       "\n",
       "\\footnotetext[Rényi1960]{A. Rényi, \\emph{Proceedings of the fourth Berkeley Symposium on Mathematics, Statistics and Probability}, pp 547 (1960)\n",
       "\n",
       "}\n",
       "\\footnotetext[Shannon1948]{C. E. Shannon, Bell Systems Technical Journal \\textbf{27}, pp 379 (1948)\n",
       "\n",
       "}\n"
      ],
      "text/markdown": [
       "```\n",
       "genentropy(p::Probabilities; q = 1.0, base = MathConstants.e)\n",
       "```\n",
       "\n",
       "Compute the generalized order-`q` entropy of some probabilities returned by the [`probabilities`](@ref) function. Alternatively, compute entropy from pre-computed `Probabilities`.\n",
       "\n",
       "```\n",
       "genentropy(x::Vector_or_Dataset, est; q = 1.0, base)\n",
       "```\n",
       "\n",
       "A convenience syntax, which calls first `probabilities(x, est)` and then calculates the entropy of the result (and thus `est` can be a `ProbabilitiesEstimator` or simply `ε::Real`).\n",
       "\n",
       "## Description\n",
       "\n",
       "Let $p$ be an array of probabilities (summing to 1). Then the generalized (Rényi) entropy is\n",
       "\n",
       "$$\n",
       "H_q(p) = \\frac{1}{1-q} \\log \\left(\\sum_i p[i]^q\\right)\n",
       "$$\n",
       "\n",
       "and generalizes other known entropies, like e.g. the information entropy ($q = 1$, see [^Shannon1948]), the maximum entropy ($q=0$, also known as Hartley entropy), or the correlation entropy ($q = 2$, also known as collision entropy).\n",
       "\n",
       "[^Rényi1960]: A. Rényi, *Proceedings of the fourth Berkeley Symposium on Mathematics, Statistics and Probability*, pp 547 (1960)\n",
       "\n",
       "[^Shannon1948]: C. E. Shannon, Bell Systems Technical Journal **27**, pp 379 (1948)\n"
      ],
      "text/plain": [
       "\u001b[36m  genentropy(p::Probabilities; q = 1.0, base = MathConstants.e)\u001b[39m\n",
       "\n",
       "  Compute the generalized order-\u001b[36mq\u001b[39m entropy of some probabilities returned by\n",
       "  the \u001b[36mprobabilities\u001b[39m function. Alternatively, compute entropy from pre-computed\n",
       "  \u001b[36mProbabilities\u001b[39m.\n",
       "\n",
       "\u001b[36m  genentropy(x::Vector_or_Dataset, est; q = 1.0, base)\u001b[39m\n",
       "\n",
       "  A convenience syntax, which calls first \u001b[36mprobabilities(x, est)\u001b[39m and then\n",
       "  calculates the entropy of the result (and thus \u001b[36mest\u001b[39m can be a\n",
       "  \u001b[36mProbabilitiesEstimator\u001b[39m or simply \u001b[36mε::Real\u001b[39m).\n",
       "\n",
       "\u001b[1m  Description\u001b[22m\n",
       "\u001b[1m  =============\u001b[22m\n",
       "\n",
       "  Let \u001b[35mp\u001b[39m be an array of probabilities (summing to 1). Then the generalized\n",
       "  (Rényi) entropy is\n",
       "\n",
       "\u001b[35m  H_q(p) = \\frac{1}{1-q} \\log \\left(\\sum_i p[i]^q\\right)\u001b[39m\n",
       "\n",
       "  and generalizes other known entropies, like e.g. the information entropy (\u001b[35mq\n",
       "  = 1\u001b[39m, see \u001b[1m[^Shannon1948]\u001b[22m), the maximum entropy (\u001b[35mq=0\u001b[39m, also known as Hartley\n",
       "  entropy), or the correlation entropy (\u001b[35mq = 2\u001b[39m, also known as collision\n",
       "  entropy).\n",
       "\n",
       "  │ \u001b[0m\u001b[1m[^Rényi1960]\u001b[22m\n",
       "  │\n",
       "  │  A. Rényi, \u001b[4mProceedings of the fourth Berkeley Symposium on\n",
       "  │  Mathematics, Statistics and Probability\u001b[24m, pp 547 (1960)\n",
       "\n",
       "  │ \u001b[0m\u001b[1m[^Shannon1948]\u001b[22m\n",
       "  │\n",
       "  │  C. E. Shannon, Bell Systems Technical Journal \u001b[1m27\u001b[22m, pp 379 (1948)"
      ]
     },
     "execution_count": 6,
     "metadata": {},
     "output_type": "execute_result"
    }
   ],
   "source": [
    "?Entropies.genentropy"
   ]
  },
  {
   "cell_type": "markdown",
   "metadata": {},
   "source": [
    "$$\n",
    "TE_{x \\to y} = - H(x_y, y_t, y_{t+\\eta}) + H(y_{t+\\eta}, y_t) +  H(x_y, y_t)  - H(y_t)\n",
    "$$"
   ]
  },
  {
   "cell_type": "code",
<<<<<<< HEAD
   "execution_count": 10,
   "metadata": {},
   "outputs": [
    {
     "data": {
      "text/plain": [
       "0.42093256200904516"
      ]
     },
     "execution_count": 10,
     "metadata": {},
     "output_type": "execute_result"
=======
   "execution_count": 8,
   "metadata": {},
   "outputs": [
    {
     "ename": "UndefVarError",
     "evalue": "\u001b[91mUndefVarError: KozachenkoLeonenko not defined\u001b[39m",
     "output_type": "error",
     "traceback": [
      "\u001b[91mUndefVarError: KozachenkoLeonenko not defined\u001b[39m",
      "",
      "Stacktrace:",
      " [1] top-level scope at In[8]:2"
     ]
>>>>>>> a725dbcbdebd07f06ebc50a695289f21e6a2f258
    }
   ],
   "source": [
    "b = Entropies.RectangularBinning(50)\n",
    "H3 = Entropies.genentropy(joint, KozachenkoLeonenko(1,10))# α =1.0"
   ]
  },
  {
   "cell_type": "code",
   "execution_count": 9,
   "metadata": {},
   "outputs": [
    {
     "ename": "MethodError",
     "evalue": "\u001b[91mMethodError: no method matching genentropy(::Dataset{2,Float64}, ::VisitationFrequency, ::Int64; α=1.0)\u001b[39m\n\u001b[91m\u001b[0mClosest candidates are:\u001b[39m\n\u001b[91m\u001b[0m  genentropy(::AbstractDataset, ::VisitationFrequency, ::Real; base) at /home/arinyoprats/.julia/packages/Entropies/SLwaH/src/binning_based/rectangular/VisitationFrequency.jl:126\u001b[91m got unsupported keyword argument \"α\"\u001b[39m\u001b[39m\n\u001b[91m\u001b[0m  genentropy(::AbstractDataset{m,T}, \u001b[91m::CountOccurrences\u001b[39m, ::Real; base) where {m, T<:Real} at /home/arinyoprats/.julia/packages/Entropies/SLwaH/src/counting_based/CountOccurrences.jl:52\u001b[91m got unsupported keyword argument \"α\"\u001b[39m\u001b[39m\n\u001b[91m\u001b[0m  genentropy(::AbstractDataset{N,T}, \u001b[91m::SymbolicPermutation\u001b[39m, ::Real; base) where {N, T} at /home/arinyoprats/.julia/packages/Entropies/SLwaH/src/symbolic/SymbolicPermutation.jl:288\u001b[91m got unsupported keyword argument \"α\"\u001b[39m\u001b[39m\n\u001b[91m\u001b[0m  ...\u001b[39m",
     "output_type": "error",
     "traceback": [
      "\u001b[91mMethodError: no method matching genentropy(::Dataset{2,Float64}, ::VisitationFrequency, ::Int64; α=1.0)\u001b[39m\n\u001b[91m\u001b[0mClosest candidates are:\u001b[39m\n\u001b[91m\u001b[0m  genentropy(::AbstractDataset, ::VisitationFrequency, ::Real; base) at /home/arinyoprats/.julia/packages/Entropies/SLwaH/src/binning_based/rectangular/VisitationFrequency.jl:126\u001b[91m got unsupported keyword argument \"α\"\u001b[39m\u001b[39m\n\u001b[91m\u001b[0m  genentropy(::AbstractDataset{m,T}, \u001b[91m::CountOccurrences\u001b[39m, ::Real; base) where {m, T<:Real} at /home/arinyoprats/.julia/packages/Entropies/SLwaH/src/counting_based/CountOccurrences.jl:52\u001b[91m got unsupported keyword argument \"α\"\u001b[39m\u001b[39m\n\u001b[91m\u001b[0m  genentropy(::AbstractDataset{N,T}, \u001b[91m::SymbolicPermutation\u001b[39m, ::Real; base) where {N, T} at /home/arinyoprats/.julia/packages/Entropies/SLwaH/src/symbolic/SymbolicPermutation.jl:288\u001b[91m got unsupported keyword argument \"α\"\u001b[39m\u001b[39m\n\u001b[91m\u001b[0m  ...\u001b[39m",
      "",
      "Stacktrace:",
      " [1] kwerr(::NamedTuple{(:α,),Tuple{Float64}}, ::Function, ::Dataset{2,Float64}, ::VisitationFrequency, ::Int64) at ./error.jl:157",
      " [2] top-level scope at In[9]:1"
     ]
    }
   ],
   "source": [
    "H2a =Entropies.genentropy(joint[:,[3,2]], VisitationFrequency(b), α =1.0)"
   ]
  },
  {
   "cell_type": "code",
   "execution_count": 32,
   "metadata": {},
   "outputs": [
    {
     "data": {
      "text/plain": [
       "4.675275013772055"
      ]
     },
     "execution_count": 32,
     "metadata": {},
     "output_type": "execute_result"
    }
   ],
   "source": [
    "H2b=Entropies.genentropy(joint[:,[1,2]], VisitationFrequency(b), α =1.0)"
   ]
  },
  {
   "cell_type": "code",
   "execution_count": 33,
   "metadata": {},
   "outputs": [
    {
     "data": {
      "text/plain": [
       "3.6766536997888504"
      ]
     },
     "execution_count": 33,
     "metadata": {},
     "output_type": "execute_result"
    }
   ],
   "source": [
    "H1=Entropies.genentropy(joint[:,[2]], VisitationFrequency(b), α =1.0)"
   ]
  },
  {
   "cell_type": "code",
   "execution_count": 34,
   "metadata": {},
   "outputs": [
    {
     "data": {
      "text/plain": [
       "0.9986213139832043"
      ]
     },
     "execution_count": 34,
     "metadata": {},
     "output_type": "execute_result"
    }
   ],
   "source": [
    "-H3+H2a+H2b-H1"
   ]
  },
  {
   "cell_type": "code",
   "execution_count": 18,
   "metadata": {},
   "outputs": [
    {
     "name": "stdout",
     "output_type": "stream",
     "text": [
      "search: \u001b[0m\u001b[1mV\u001b[22m\u001b[0m\u001b[1mi\u001b[22m\u001b[0m\u001b[1ms\u001b[22m\u001b[0m\u001b[1mi\u001b[22m\u001b[0m\u001b[1mt\u001b[22m\u001b[0m\u001b[1ma\u001b[22m\u001b[0m\u001b[1mt\u001b[22m\u001b[0m\u001b[1mi\u001b[22m\u001b[0m\u001b[1mo\u001b[22m\u001b[0m\u001b[1mn\u001b[22m\u001b[0m\u001b[1mF\u001b[22m\u001b[0m\u001b[1mr\u001b[22m\u001b[0m\u001b[1me\u001b[22m\u001b[0m\u001b[1mq\u001b[22m\u001b[0m\u001b[1mu\u001b[22m\u001b[0m\u001b[1me\u001b[22m\u001b[0m\u001b[1mn\u001b[22m\u001b[0m\u001b[1mc\u001b[22m\u001b[0m\u001b[1my\u001b[22m\n",
      "\n"
     ]
    },
    {
     "data": {
      "text/latex": [
       "\\begin{verbatim}\n",
       "VisitationFrequency(r::RectangularBinning) <: BinningProbabilitiesEstimator\n",
       "\\end{verbatim}\n",
       "A probability estimator based on binning data into rectangular boxes dictated by the binning scheme \\texttt{r}.\n",
       "\n",
       "\\subsection{Example}\n",
       "\\begin{verbatim}\n",
       "# Construct boxes by dividing each coordinate axis into 5 equal-length chunks.\n",
       "b = RectangularBinning(5)\n",
       "\n",
       "# A probabilities estimator that, when applied a dataset, computes visitation frequencies\n",
       "# over the boxes of the binning, constructed as describedon the previous line.\n",
       "est = VisitationFrequency(b)\n",
       "\\end{verbatim}\n",
       "See also: \\href{@ref}{\\texttt{RectangularBinning}}.\n",
       "\n"
      ],
      "text/markdown": [
       "```\n",
       "VisitationFrequency(r::RectangularBinning) <: BinningProbabilitiesEstimator\n",
       "```\n",
       "\n",
       "A probability estimator based on binning data into rectangular boxes dictated by the binning scheme `r`.\n",
       "\n",
       "## Example\n",
       "\n",
       "```julia\n",
       "# Construct boxes by dividing each coordinate axis into 5 equal-length chunks.\n",
       "b = RectangularBinning(5)\n",
       "\n",
       "# A probabilities estimator that, when applied a dataset, computes visitation frequencies\n",
       "# over the boxes of the binning, constructed as describedon the previous line.\n",
       "est = VisitationFrequency(b)\n",
       "```\n",
       "\n",
       "See also: [`RectangularBinning`](@ref).\n"
      ],
      "text/plain": [
       "\u001b[36m  VisitationFrequency(r::RectangularBinning) <: BinningProbabilitiesEstimator\u001b[39m\n",
       "\n",
       "  A probability estimator based on binning data into rectangular boxes\n",
       "  dictated by the binning scheme \u001b[36mr\u001b[39m.\n",
       "\n",
       "\u001b[1m  Example\u001b[22m\n",
       "\u001b[1m  =========\u001b[22m\n",
       "\n",
       "\u001b[36m  # Construct boxes by dividing each coordinate axis into 5 equal-length chunks.\u001b[39m\n",
       "\u001b[36m  b = RectangularBinning(5)\u001b[39m\n",
       "\u001b[36m  \u001b[39m\n",
       "\u001b[36m  # A probabilities estimator that, when applied a dataset, computes visitation frequencies\u001b[39m\n",
       "\u001b[36m  # over the boxes of the binning, constructed as describedon the previous line.\u001b[39m\n",
       "\u001b[36m  est = VisitationFrequency(b)\u001b[39m\n",
       "\n",
       "  See also: \u001b[36mRectangularBinning\u001b[39m."
      ]
     },
     "execution_count": 18,
     "metadata": {},
     "output_type": "execute_result"
    }
   ],
   "source": [
    "?VisitationFrequency\n"
   ]
  },
  {
   "cell_type": "code",
   "execution_count": 12,
   "metadata": {},
   "outputs": [
    {
     "name": "stderr",
     "output_type": "stream",
     "text": [
      "┌ Warning: Keyword `α` is deprecated in favor of `q`.\n",
      "└ @ Entropies /Users/andreu/.julia/packages/Entropies/fTaqp/src/core.jl:157\n",
      "┌ Warning: Keyword `α` is deprecated in favor of `q`.\n",
      "└ @ Entropies /Users/andreu/.julia/packages/Entropies/fTaqp/src/core.jl:157\n",
      "┌ Warning: Keyword `α` is deprecated in favor of `q`.\n",
      "└ @ Entropies /Users/andreu/.julia/packages/Entropies/fTaqp/src/core.jl:157\n",
      "┌ Warning: Keyword `α` is deprecated in favor of `q`.\n",
      "└ @ Entropies /Users/andreu/.julia/packages/Entropies/fTaqp/src/core.jl:157\n"
     ]
    },
    {
     "data": {
      "text/plain": [
       "0.7477916559644489"
      ]
     },
     "execution_count": 12,
     "metadata": {},
     "output_type": "execute_result"
    }
   ],
   "source": [
    "b = RectangularBinning(6)\n",
    "H3 = Entropies.genentropy(joint, VisitationFrequency(b), α =1.0)\n",
    "H2a =Entropies.genentropy(joint[:,[3,2]], VisitationFrequency(b), α =1.0)\n",
    "H2b=Entropies.genentropy(joint[:,[1,2]], VisitationFrequency(b), α =1.0)\n",
    "H1=Entropies.genentropy(joint[:,[2]], VisitationFrequency(b), α =1.0)\n",
    "T =-H3+H2a+H2b-H1"
   ]
  },
  {
   "cell_type": "code",
   "execution_count": 13,
   "metadata": {},
   "outputs": [
    {
     "data": {
      "text/plain": [
       "0.7477916559644489"
      ]
     },
     "execution_count": 13,
     "metadata": {},
     "output_type": "execute_result"
    }
   ],
   "source": [
    "b = RectangularBinning(6)\n",
    "H3 = Entropies.genentropy(joint, VisitationFrequency(b), α =1.0)\n",
    "H2a =Entropies.genentropy(joint[:,[3,2]], VisitationFrequency(b), α =1.0)\n",
    "H2b=Entropies.genentropy(joint[:,[1,2]], VisitationFrequency(b), α =1.0)\n",
    "H1=Entropies.genentropy(joint[:,[2]], VisitationFrequency(b), α =1.0)\n",
    "T =-H3+H2a+H2b-H1"
   ]
  },
  {
   "cell_type": "code",
   "execution_count": 37,
   "metadata": {},
   "outputs": [
    {
     "data": {
      "text/latex": [
       "\\subsection{k-th nearest neighbour(kNN) based}\n",
       "\\begin{verbatim}\n",
       "Kraskov(k::Int = 1, w::Int = 1) <: NearestNeighborEntropyEstimator\n",
       "\\end{verbatim}\n",
       "Entropy estimator based on \\texttt{k}-th nearest neighbor searches\\footnotemark[Kraskov2004].\n",
       "\n",
       "\\texttt{w} is the number of nearest neighbors to exclude when searching for neighbours  (defaults to \\texttt{0}, meaning that only the point itself is excluded).\n",
       "\n",
       "\\begin{quote}\n",
       "\\textbf{info}\n",
       "\n",
       "Info\n",
       "\n",
       "This estimator is only available for entropy estimation. Probabilities  cannot be obtained directly.\n",
       "\n",
       "\\end{quote}\n",
       "\\footnotetext[Kraskov2004]{Kraskov, A., Stögbauer, H., \\& Grassberger, P. (2004). Estimating mutual information. Physical review E, 69(6), 066138.\n",
       "\n",
       "}\n"
      ],
      "text/markdown": [
       "## k-th nearest neighbour(kNN) based\n",
       "\n",
       "```\n",
       "Kraskov(k::Int = 1, w::Int = 1) <: NearestNeighborEntropyEstimator\n",
       "```\n",
       "\n",
       "Entropy estimator based on `k`-th nearest neighbor searches[^Kraskov2004].\n",
       "\n",
       "`w` is the number of nearest neighbors to exclude when searching for neighbours  (defaults to `0`, meaning that only the point itself is excluded).\n",
       "\n",
       "!!! info\n",
       "    This estimator is only available for entropy estimation. Probabilities  cannot be obtained directly.\n",
       "\n",
       "\n",
       "[^Kraskov2004]: Kraskov, A., Stögbauer, H., & Grassberger, P. (2004). Estimating mutual information. Physical review E, 69(6), 066138.\n"
      ],
      "text/plain": [
       "\u001b[1m  k-th nearest neighbour(kNN) based\u001b[22m\n",
       "\u001b[1m  ===================================\u001b[22m\n",
       "\n",
       "\u001b[36m  Kraskov(k::Int = 1, w::Int = 1) <: NearestNeighborEntropyEstimator\u001b[39m\n",
       "\n",
       "  Entropy estimator based on \u001b[36mk\u001b[39m-th nearest neighbor searches\u001b[1m[^Kraskov2004]\u001b[22m.\n",
       "\n",
       "  \u001b[36mw\u001b[39m is the number of nearest neighbors to exclude when searching for\n",
       "  neighbours (defaults to \u001b[36m0\u001b[39m, meaning that only the point itself is excluded).\n",
       "\n",
       "\u001b[36m\u001b[1m  │ \u001b[22m\u001b[39m\u001b[36m\u001b[1mInfo\u001b[22m\u001b[39m\n",
       "\u001b[36m\u001b[1m  │\u001b[22m\u001b[39m\n",
       "\u001b[36m\u001b[1m  │\u001b[22m\u001b[39m  This estimator is only available for entropy estimation.\n",
       "\u001b[36m\u001b[1m  │\u001b[22m\u001b[39m  Probabilities cannot be obtained directly.\n",
       "\n",
       "  │ \u001b[0m\u001b[1m[^Kraskov2004]\u001b[22m\n",
       "  │\n",
       "  │  Kraskov, A., Stögbauer, H., & Grassberger, P. (2004). Estimating\n",
       "  │  mutual information. Physical review E, 69(6), 066138."
      ]
     },
     "execution_count": 37,
     "metadata": {},
     "output_type": "execute_result"
    }
   ],
   "source": [
    "?Entropies.Kraskov"
   ]
  },
  {
   "cell_type": "code",
   "execution_count": 14,
   "metadata": {},
   "outputs": [
    {
     "data": {
      "text/plain": [
       "0.05062848487933902"
      ]
     },
     "execution_count": 14,
     "metadata": {},
     "output_type": "execute_result"
    }
   ],
   "source": [
    "b =2\n",
    "H3 = Entropies.genentropy(joint, Kraskov(k=b))#, α =1.0\n",
    "H2a =Entropies.genentropy(joint[:,[3,2]], Kraskov(k=b))#, α =1.0\n",
    "H2b=Entropies.genentropy(joint[:,[1,2]], Kraskov(k=b))#, α =1.0\n",
    "H1=Entropies.genentropy(joint[:,[2]], Kraskov(k=b))#, α =1.0\n",
    "T =-H3+H2a+H2b-H1"
   ]
  },
  {
   "cell_type": "code",
   "execution_count": null,
   "metadata": {},
   "outputs": [],
   "source": []
  }
 ],
 "metadata": {
  "kernelspec": {
   "display_name": "Julia 1.4.1",
   "language": "julia",
   "name": "julia-1.4"
  },
  "language_info": {
   "file_extension": ".jl",
   "mimetype": "application/julia",
   "name": "julia",
   "version": "1.4.1"
  }
 },
 "nbformat": 4,
 "nbformat_minor": 4
}
