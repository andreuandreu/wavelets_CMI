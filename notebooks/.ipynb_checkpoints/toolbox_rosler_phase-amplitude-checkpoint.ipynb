{
 "cells": [
  {
   "cell_type": "code",
   "execution_count": 14,
   "metadata": {},
   "outputs": [
    {
     "name": "stderr",
     "output_type": "stream",
     "text": [
      "┌ Info: Precompiling DataFrames [a93c6f00-e57d-5684-b7b6-d8193f3e46c0]\n",
      "└ @ Base loading.jl:1278\n"
     ]
    }
   ],
   "source": [
    "using CSV"
   ]
  },
  {
   "cell_type": "code",
   "execution_count": 26,
   "metadata": {},
   "outputs": [],
   "source": [
    "using PyPlot"
   ]
  },
  {
   "cell_type": "code",
   "execution_count": 32,
   "metadata": {},
   "outputs": [
    {
     "ename": "LoadError",
     "evalue": "ArgumentError: provide a valid sink argument, like `using DataFrames; CSV.read(source, DataFrame)`",
     "output_type": "error",
     "traceback": [
      "ArgumentError: provide a valid sink argument, like `using DataFrames; CSV.read(source, DataFrame)`",
      "",
      "Stacktrace:",
      " [1] read(::String, ::Nothing; copycols::Bool, kwargs::Base.Iterators.Pairs{Symbol,Array{Int64,1},Tuple{Symbol},NamedTuple{(:DataFrame,),Tuple{Array{Int64,1}}}}) at /Users/andreu/.julia/packages/CSV/la2cd/src/CSV.jl:43",
      " [2] top-level scope at In[32]:4",
      " [3] include_string(::Function, ::Module, ::String, ::String) at ./loading.jl:1091"
     ]
    }
   ],
   "source": [
    "root = \"/Users/andreu/Desktop/Dropbox/transfer_inormation_prague/\"\n",
    "dir = \"TE_electrodes\"\n",
    "name = \"/rossler_wavelets-r12e27N03.dat\"\n",
    "rosslerData = CSV.read(\"$root$dir$name\", DataFrame = [1])\n",
    "   \n",
    "#rosslerData = CSV.File(\"$root$dir$name\"; comment=\"#\", delim=' ', \n",
    "#        ignorerepeated=true, skipto=1,  select=[1])#CSV.read(, DataFrame = [\"dat\"])"
   ]
  },
  {
   "cell_type": "code",
   "execution_count": 30,
   "metadata": {},
   "outputs": [
    {
     "ename": "LoadError",
     "evalue": "ArgumentError: 'CSV.Row' iterates 'Float64' values, which doesn't satisfy the Tables.jl `AbstractRow` interface",
     "output_type": "error",
     "traceback": [
      "ArgumentError: 'CSV.Row' iterates 'Float64' values, which doesn't satisfy the Tables.jl `AbstractRow` interface",
      "",
      "Stacktrace:",
      " [1] invalidtable(::CSV.Row, ::Float64) at /Users/andreu/.julia/packages/Tables/8Ud85/src/tofromdatavalues.jl:42",
      " [2] iterate at /Users/andreu/.julia/packages/Tables/8Ud85/src/tofromdatavalues.jl:48 [inlined]",
      " [3] buildcolumns at /Users/andreu/.julia/packages/Tables/8Ud85/src/fallbacks.jl:199 [inlined]",
      " [4] columns at /Users/andreu/.julia/packages/Tables/8Ud85/src/fallbacks.jl:262 [inlined]",
      " [5] DataFrame(::CSV.Row; copycols::Bool) at /Users/andreu/.julia/packages/DataFrames/GtZ1l/src/other/tables.jl:43",
      " [6] DataFrame(::CSV.Row) at /Users/andreu/.julia/packages/DataFrames/GtZ1l/src/other/tables.jl:34",
      " [7] top-level scope at In[30]:1",
      " [8] include_string(::Function, ::Module, ::String, ::String) at ./loading.jl:1091"
     ]
    }
   ],
   "source": [
    "rd = DataFrame(rosslerData[1])\n"
   ]
  },
  {
   "cell_type": "code",
   "execution_count": 27,
   "metadata": {},
   "outputs": [
    {
     "ename": "LoadError",
     "evalue": "PyError ($(Expr(:escape, :(ccall(#= /Users/andreu/.julia/packages/PyCall/tqyST/src/pyfncall.jl:43 =# @pysym(:PyObject_Call), PyPtr, (PyPtr, PyPtr, PyPtr), o, pyargsptr, kw))))) <class 'TypeError'>\nTypeError(\"float() argument must be a string or a number, not 'PyCall.jlwrap'\")\n  File \"/Users/andreu/.julia/conda/3/lib/python3.8/site-packages/matplotlib/pyplot.py\", line 2840, in plot\n    return gca().plot(\n  File \"/Users/andreu/.julia/conda/3/lib/python3.8/site-packages/matplotlib/axes/_axes.py\", line 1745, in plot\n    self.add_line(line)\n  File \"/Users/andreu/.julia/conda/3/lib/python3.8/site-packages/matplotlib/axes/_base.py\", line 1964, in add_line\n    self._update_line_limits(line)\n  File \"/Users/andreu/.julia/conda/3/lib/python3.8/site-packages/matplotlib/axes/_base.py\", line 1986, in _update_line_limits\n    path = line.get_path()\n  File \"/Users/andreu/.julia/conda/3/lib/python3.8/site-packages/matplotlib/lines.py\", line 1011, in get_path\n    self.recache()\n  File \"/Users/andreu/.julia/conda/3/lib/python3.8/site-packages/matplotlib/lines.py\", line 658, in recache\n    y = _to_unmasked_float_array(yconv).ravel()\n  File \"/Users/andreu/.julia/conda/3/lib/python3.8/site-packages/matplotlib/cbook/__init__.py\", line 1289, in _to_unmasked_float_array\n    return np.asarray(x, float)\n  File \"/Users/andreu/.julia/conda/3/lib/python3.8/site-packages/numpy/core/_asarray.py\", line 83, in asarray\n    return array(a, dtype, copy=False, order=order)\n",
     "output_type": "error",
     "traceback": [
      "PyError ($(Expr(:escape, :(ccall(#= /Users/andreu/.julia/packages/PyCall/tqyST/src/pyfncall.jl:43 =# @pysym(:PyObject_Call), PyPtr, (PyPtr, PyPtr, PyPtr), o, pyargsptr, kw))))) <class 'TypeError'>\nTypeError(\"float() argument must be a string or a number, not 'PyCall.jlwrap'\")\n  File \"/Users/andreu/.julia/conda/3/lib/python3.8/site-packages/matplotlib/pyplot.py\", line 2840, in plot\n    return gca().plot(\n  File \"/Users/andreu/.julia/conda/3/lib/python3.8/site-packages/matplotlib/axes/_axes.py\", line 1745, in plot\n    self.add_line(line)\n  File \"/Users/andreu/.julia/conda/3/lib/python3.8/site-packages/matplotlib/axes/_base.py\", line 1964, in add_line\n    self._update_line_limits(line)\n  File \"/Users/andreu/.julia/conda/3/lib/python3.8/site-packages/matplotlib/axes/_base.py\", line 1986, in _update_line_limits\n    path = line.get_path()\n  File \"/Users/andreu/.julia/conda/3/lib/python3.8/site-packages/matplotlib/lines.py\", line 1011, in get_path\n    self.recache()\n  File \"/Users/andreu/.julia/conda/3/lib/python3.8/site-packages/matplotlib/lines.py\", line 658, in recache\n    y = _to_unmasked_float_array(yconv).ravel()\n  File \"/Users/andreu/.julia/conda/3/lib/python3.8/site-packages/matplotlib/cbook/__init__.py\", line 1289, in _to_unmasked_float_array\n    return np.asarray(x, float)\n  File \"/Users/andreu/.julia/conda/3/lib/python3.8/site-packages/numpy/core/_asarray.py\", line 83, in asarray\n    return array(a, dtype, copy=False, order=order)\n",
      "",
      "Stacktrace:",
      " [1] pyerr_check at /Users/andreu/.julia/packages/PyCall/tqyST/src/exception.jl:62 [inlined]",
      " [2] pyerr_check at /Users/andreu/.julia/packages/PyCall/tqyST/src/exception.jl:66 [inlined]",
      " [3] _handle_error(::String) at /Users/andreu/.julia/packages/PyCall/tqyST/src/exception.jl:83",
      " [4] macro expansion at /Users/andreu/.julia/packages/PyCall/tqyST/src/exception.jl:97 [inlined]",
      " [5] #109 at /Users/andreu/.julia/packages/PyCall/tqyST/src/pyfncall.jl:43 [inlined]",
      " [6] disable_sigint at ./c.jl:446 [inlined]",
      " [7] __pycall! at /Users/andreu/.julia/packages/PyCall/tqyST/src/pyfncall.jl:42 [inlined]",
      " [8] _pycall!(::PyCall.PyObject, ::PyCall.PyObject, ::Tuple{CSV.File{false}}, ::Int64, ::Ptr{Nothing}) at /Users/andreu/.julia/packages/PyCall/tqyST/src/pyfncall.jl:29",
      " [9] _pycall! at /Users/andreu/.julia/packages/PyCall/tqyST/src/pyfncall.jl:11 [inlined]",
      " [10] #pycall#115 at /Users/andreu/.julia/packages/PyCall/tqyST/src/pyfncall.jl:83 [inlined]",
      " [11] pycall at /Users/andreu/.julia/packages/PyCall/tqyST/src/pyfncall.jl:83 [inlined]",
      " [12] plot(::CSV.File{false}; kws::Base.Iterators.Pairs{Union{},Union{},Tuple{},NamedTuple{(),Tuple{}}}) at /Users/andreu/.julia/packages/PyPlot/XHEG0/src/PyPlot.jl:177",
      " [13] plot(::CSV.File{false}) at /Users/andreu/.julia/packages/PyPlot/XHEG0/src/PyPlot.jl:174",
      " [14] top-level scope at In[27]:3",
      " [15] include_string(::Function, ::Module, ::String, ::String) at ./loading.jl:1091"
     ]
    }
   ],
   "source": [
    "f = figure(figsize = (5,3))\n",
    "ax = subplot(111)\n",
    "px = PyPlot.plot(rosslerData)"
   ]
  }
 ],
 "metadata": {
  "kernelspec": {
   "display_name": "Julia 1.5.2",
   "language": "julia",
   "name": "julia-1.5"
  },
  "language_info": {
   "file_extension": ".jl",
   "mimetype": "application/julia",
   "name": "julia",
   "version": "1.5.2"
  }
 },
 "nbformat": 4,
 "nbformat_minor": 4
}
