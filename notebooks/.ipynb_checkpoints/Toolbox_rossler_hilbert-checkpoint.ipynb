{
 "cells": [
  {
   "cell_type": "code",
   "execution_count": 5,
   "metadata": {},
   "outputs": [],
   "source": [
    "from __future__ import division\n",
    "import numpy as np\n",
    "import matplotlib.pyplot as plt\n",
    "import matplotlib.animation as animation\n",
    "import sys\n",
    "import matplotlib\n",
    "import os\n",
    "import matplotlib.ticker as ticker\n",
    "import math\n",
    "from scipy.fftpack import *"
   ]
  },
  {
   "cell_type": "code",
   "execution_count": 3,
   "metadata": {},
   "outputs": [],
   "source": [
    "root = \"/Users/andreu/Desktop/Dropbox/transfer_inormation_prague/\"\n",
    "dir = \"TE_electrodes\"\n",
    "name = \"/rossler_wavelets-r12e27N03.dat\"\n",
    "rosslerData = np.loadtxt(root+dir+name, dtype= float)"
   ]
  },
  {
   "cell_type": "code",
   "execution_count": 6,
   "metadata": {},
   "outputs": [],
   "source": [
    "def hilbert_from_scratch(u):\n",
    "    # N : fft length\n",
    "    # M : number of elements to zero out\n",
    "    # U : DFT of u\n",
    "    # v : IDFT of H(U)\n",
    "\n",
    "    N = len(u)\n",
    "    # take forward Fourier transform\n",
    "    U = fft(u)\n",
    "    M = N - N//2 - 1\n",
    "    # zero out negative frequency components\n",
    "    U[N//2+1:] = [0] * M\n",
    "    # double fft energy except @ DC0\n",
    "    U[1:N//2] = 2 * U[1:N//2]\n",
    "    # take inverse Fourier transform\n",
    "    v = ifft(U)\n",
    "    return v"
   ]
  },
  {
   "cell_type": "code",
   "execution_count": 7,
   "metadata": {},
   "outputs": [
    {
     "name": "stdout",
     "output_type": "stream",
     "text": [
      " n     y fromscratch scipy\n",
      " 0 +0.00 +0.00-1.00j +1.00\n",
      " 1 +0.20 +0.20-0.98j +0.98\n",
      " 2 +0.38 +0.38-0.92j +0.92\n",
      " 3 +0.56 +0.56-0.83j +0.83\n",
      " 4 +0.71 +0.71-0.71j +0.71\n",
      " 5 +0.83 +0.83-0.56j +0.56\n",
      " 6 +0.92 +0.92-0.38j +0.38\n",
      " 7 +0.98 +0.98-0.20j +0.20\n",
      " 8 +1.00 +1.00-0.00j +0.00\n",
      " 9 +0.98 +0.98+0.20j -0.20\n",
      "10 +0.92 +0.92+0.38j -0.38\n",
      "11 +0.83 +0.83+0.56j -0.56\n",
      "12 +0.71 +0.71+0.71j -0.71\n",
      "13 +0.56 +0.56+0.83j -0.83\n",
      "14 +0.38 +0.38+0.92j -0.92\n",
      "15 +0.20 +0.20+0.98j -0.98\n",
      "16 +0.00 +0.00+1.00j -1.00\n",
      "17 -0.20 -0.20+0.98j -0.98\n",
      "18 -0.38 -0.38+0.92j -0.92\n",
      "19 -0.56 -0.56+0.83j -0.83\n",
      "20 -0.71 -0.71+0.71j -0.71\n",
      "21 -0.83 -0.83+0.56j -0.56\n",
      "22 -0.92 -0.92+0.38j -0.38\n",
      "23 -0.98 -0.98+0.20j -0.20\n",
      "24 -1.00 -1.00+0.00j -0.00\n",
      "25 -0.98 -0.98-0.20j +0.20\n",
      "26 -0.92 -0.92-0.38j +0.38\n",
      "27 -0.83 -0.83-0.56j +0.56\n",
      "28 -0.71 -0.71-0.71j +0.71\n",
      "29 -0.56 -0.56-0.83j +0.83\n",
      "30 -0.38 -0.38-0.92j +0.92\n",
      "31 -0.20 -0.20-0.98j +0.98\n"
     ]
    }
   ],
   "source": [
    "if __name__ == '__main__':\n",
    "    N = 32#length(rosslerData)\n",
    "    f = 1\n",
    "    dt = 1.0 / N\n",
    "    y = []\n",
    "    for n in range(N):\n",
    "        x = 2*math.pi*f*dt*n\n",
    "        y.append(math.sin(x))\n",
    "    z1 = hilbert_from_scratch(y)\n",
    "    z2 = hilbert(y)\n",
    "    print(\" n     y fromscratch scipy\")\n",
    "    for n in range(N):\n",
    "        print('{:2d} {:+5.2f} {:+10.2f} {:+5.2f}'.format(n, y[n], z1[n], z2[n]))"
   ]
  },
  {
   "cell_type": "code",
   "execution_count": 9,
   "metadata": {},
   "outputs": [
    {
     "name": "stderr",
     "output_type": "stream",
     "text": [
      "/Users/andreu/.julia/conda/3/lib/python3.8/site-packages/numpy/core/_asarray.py:83: ComplexWarning: Casting complex values to real discards the imaginary part\n",
      "  return array(a, dtype, copy=False, order=order)\n"
     ]
    },
    {
     "data": {
      "text/plain": [
       "[<matplotlib.lines.Line2D at 0x11db74400>]"
      ]
     },
     "execution_count": 9,
     "metadata": {},
     "output_type": "execute_result"
    },
    {
     "data": {
      "image/png": "[encoded data removed]",
      "text/plain": [
       "<Figure size 432x288 with 1 Axes>"
      ]
     },
     "metadata": {
      "needs_background": "light"
     },
     "output_type": "display_data"
    }
   ],
   "source": [
    "plt.plot(y)\n",
    "plt.plot(z1)\n",
    "plt.plot(z2)"
   ]
  }
 ],
 "metadata": {
  "kernelspec": {
   "display_name": "Python 3",
   "language": "python",
   "name": "python3"
  },
  "language_info": {
   "codemirror_mode": {
    "name": "ipython",
    "version": 3
   },
   "file_extension": ".py",
   "mimetype": "text/x-python",
   "name": "python",
   "nbconvert_exporter": "python",
   "pygments_lexer": "ipython3",
   "version": "3.8.3"
  }
 },
 "nbformat": 4,
 "nbformat_minor": 4
}
