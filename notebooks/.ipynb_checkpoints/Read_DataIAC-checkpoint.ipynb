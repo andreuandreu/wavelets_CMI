{
 "cells": [
  {
   "cell_type": "code",
   "execution_count": 2,
   "metadata": {},
   "outputs": [
    {
     "name": "stderr",
     "output_type": "stream",
     "text": [
      "\u001b[32m\u001b[1m   Updating\u001b[22m\u001b[39m registry at `~/.julia/registries/General`\n",
      "######################################################################### 100.0%\n",
      "\u001b[32m\u001b[1m  Resolving\u001b[22m\u001b[39m package versions...\n",
      "\u001b[32m\u001b[1m  Installed\u001b[22m\u001b[39m LibSSH2_jll ───── v1.9.0+3\n",
      "\u001b[32m\u001b[1m  Installed\u001b[22m\u001b[39m Rmath_jll ─────── v0.2.2+2\n",
      "\u001b[32m\u001b[1m  Installed\u001b[22m\u001b[39m Lz4_jll ───────── v1.9.2+2\n",
      "\u001b[32m\u001b[1m  Installed\u001b[22m\u001b[39m Blosc_jll ─────── v1.14.3+1\n",
      "\u001b[32m\u001b[1m  Installed\u001b[22m\u001b[39m CodecZlib ─────── v0.7.0\n",
      "\u001b[32m\u001b[1m  Installed\u001b[22m\u001b[39m Zstd_jll ──────── v1.4.8+0\n",
      "\u001b[32m\u001b[1m  Installed\u001b[22m\u001b[39m Blosc ─────────── v0.7.0\n",
      "\u001b[32m\u001b[1m  Installed\u001b[22m\u001b[39m MAT ───────────── v0.10.1\n",
      "\u001b[32m\u001b[1m  Installed\u001b[22m\u001b[39m LibCURL_jll ───── v7.70.0+2\n",
      "\u001b[32m\u001b[1m  Installed\u001b[22m\u001b[39m HDF5_jll ──────── v1.12.0+1\n",
      "\u001b[32m\u001b[1m  Installed\u001b[22m\u001b[39m nghttp2_jll ───── v1.40.0+2\n",
      "\u001b[32m\u001b[1m  Installed\u001b[22m\u001b[39m BufferedStreams ─ v1.0.0\n",
      "\u001b[32m\u001b[1m  Installed\u001b[22m\u001b[39m HDF5 ──────────── v0.15.4\n",
      "\u001b[32m\u001b[1mUpdating\u001b[22m\u001b[39m `~/project_TE/package_CMI_prague/Project.toml`\n",
      " \u001b[90m [23992714] \u001b[39m\u001b[92m+ MAT v0.10.1\u001b[39m\n",
      "\u001b[32m\u001b[1mUpdating\u001b[22m\u001b[39m `~/project_TE/package_CMI_prague/Manifest.toml`\n",
      " \u001b[90m [a74b3585] \u001b[39m\u001b[92m+ Blosc v0.7.0\u001b[39m\n",
      " \u001b[90m [0b7ba130] \u001b[39m\u001b[92m+ Blosc_jll v1.14.3+1\u001b[39m\n",
      " \u001b[90m [e1450e63] \u001b[39m\u001b[92m+ BufferedStreams v1.0.0\u001b[39m\n",
      " \u001b[90m [944b1d66] \u001b[39m\u001b[92m+ CodecZlib v0.7.0\u001b[39m\n",
      " \u001b[90m [f67ccb44] \u001b[39m\u001b[92m+ HDF5 v0.15.4\u001b[39m\n",
      " \u001b[90m [0234f1f7] \u001b[39m\u001b[92m+ HDF5_jll v1.12.0+1\u001b[39m\n",
      " \u001b[90m [deac9b47] \u001b[39m\u001b[92m+ LibCURL_jll v7.70.0+2\u001b[39m\n",
      " \u001b[90m [29816b5a] \u001b[39m\u001b[92m+ LibSSH2_jll v1.9.0+3\u001b[39m\n",
      " \u001b[90m [5ced341a] \u001b[39m\u001b[92m+ Lz4_jll v1.9.2+2\u001b[39m\n",
      " \u001b[90m [23992714] \u001b[39m\u001b[92m+ MAT v0.10.1\u001b[39m\n",
      " \u001b[90m [c8ffd9c3] \u001b[39m\u001b[92m+ MbedTLS_jll v2.16.8+1\u001b[39m\n",
      " \u001b[90m [458c3c95] \u001b[39m\u001b[92m+ OpenSSL_jll v1.1.1+6\u001b[39m\n",
      " \u001b[90m [f50d1b31] \u001b[39m\u001b[93m↑ Rmath_jll v0.2.2+1 ⇒ v0.2.2+2\u001b[39m\n",
      " \u001b[90m [3bb67fe8] \u001b[39m\u001b[92m+ TranscodingStreams v0.9.5\u001b[39m\n",
      " \u001b[90m [3161d3a3] \u001b[39m\u001b[92m+ Zstd_jll v1.4.8+0\u001b[39m\n",
      " \u001b[90m [8e850ede] \u001b[39m\u001b[92m+ nghttp2_jll v1.40.0+2\u001b[39m\n",
      "\u001b[32m\u001b[1m   Building\u001b[22m\u001b[39m HDF5 → `~/.julia/packages/HDF5/iH4LA/deps/build.log`\n"
     ]
    }
   ],
   "source": []
  },
  {
   "cell_type": "code",
   "execution_count": 2,
   "metadata": {},
   "outputs": [],
   "source": [
    "using MAT\n",
    "using PyPlot\n",
    "using StatsBase"
   ]
  },
  {
   "cell_type": "code",
   "execution_count": 4,
   "metadata": {},
   "outputs": [
    {
     "data": {
      "text/plain": [
       "Dict{String,Any} with 1 entry:\n",
       "  \"signal\" => [2.76835 4.21799 … -0.852592 -0.339926]"
      ]
     },
     "execution_count": 4,
     "metadata": {},
     "output_type": "execute_result"
    }
   ],
   "source": [
    "#file = matopen(\"/Users/andreu/Desktop/Dropbox/transfer_inormation_prague/TE_electrodes/dataICA.mat\")\n",
    "#S13 = read(file, \"dataICA\", \"S11\") # note that this does NOT introduce a variable ``varname`` into scope\n",
    "#close(file)\n",
    "vars = matread(\"/Users/andreu/Desktop/Dropbox/transfer_inormation_prague/TE_electrodes/dataICA.mat\")\n"
   ]
  },
  {
   "cell_type": "code",
   "execution_count": 3,
   "metadata": {},
   "outputs": [
    {
     "data": {
      "text/plain": [
       "Dict{String,Any} with 1 entry:\n",
       "  \"signal\" => [2.76835 4.21799 … -0.852592 -0.339926]"
      ]
     },
     "execution_count": 3,
     "metadata": {},
     "output_type": "execute_result"
    }
   ],
   "source": [
    "root = \"/Users/andreu/Desktop/Dropbox/transfer_inormation_prague/\"\n",
    "dir = \"TE_electrodes/model_dirCFC\"\n",
    "name = \"/signal_alpha2gamma.mat\"\n",
    "αγ = matread(\"$root$dir$name\")"
   ]
  },
  {
   "cell_type": "code",
   "execution_count": 4,
   "metadata": {},
   "outputs": [
    {
     "data": {
      "text/plain": [
       "Dict{String,Any} with 1 entry:\n",
       "  \"signal\" => [-1.73192 -0.107449 … 3.10475 2.02911]"
      ]
     },
     "execution_count": 4,
     "metadata": {},
     "output_type": "execute_result"
    }
   ],
   "source": [
    "name = \"/signal_gamma2alpha.mat\"\n",
    "γα = matread(\"$root$dir$name\")"
   ]
  },
  {
   "cell_type": "code",
   "execution_count": 5,
   "metadata": {},
   "outputs": [
    {
     "data": {
      "text/plain": [
       "Dict{String,Any} with 1 entry:\n",
       "  \"signal\" => [1.28938 0.334408 … 0.241526 0.570607]"
      ]
     },
     "execution_count": 5,
     "metadata": {},
     "output_type": "execute_result"
    }
   ],
   "source": [
    "name = \"/signal_nodir.mat\"\n",
    "nodir = matread(\"$root$dir$name\")"
   ]
  },
  {
   "cell_type": "code",
   "execution_count": 6,
   "metadata": {},
   "outputs": [
    {
     "ename": "LoadError",
     "evalue": "KeyError: key 300:330 not found",
     "output_type": "error",
     "traceback": [
      "KeyError: key 300:330 not found",
      "",
      "Stacktrace:",
      " [1] getindex(::Dict{String,Any}, ::UnitRange{Int64}) at ./dict.jl:467",
      " [2] top-level scope at In[6]:1",
      " [3] include_string(::Function, ::Module, ::String, ::String) at ./loading.jl:1091"
     ]
    }
   ],
   "source": []
  },
  {
   "cell_type": "code",
   "execution_count": 19,
   "metadata": {},
   "outputs": [
    {
     "data": {
      "text/plain": [
       "Base.KeySet for a Dict{String,Any} with 5 entries. Keys:\n",
       "  \"S11\"\n",
       "  \"S14\"\n",
       "  \"S10\"\n",
       "  \"S12\"\n",
       "  \"S13\""
      ]
     },
     "execution_count": 19,
     "metadata": {},
     "output_type": "execute_result"
    }
   ],
   "source": [
    "keys(vars[\"dataICA\"])"
   ]
  },
  {
   "cell_type": "code",
   "execution_count": 7,
   "metadata": {},
   "outputs": [
    {
     "data": {
      "text/plain": [
       "3×2982477 Array{Float64,2}:\n",
       " -0.000250338  0.00541032  0.00111283  …   0.00480652   0.00906936\n",
       "  0.0504203    0.0474866   0.038824        0.00822067   0.00463865\n",
       "  0.0332438    0.0205926   0.0233769      -0.015283    -0.0128787"
      ]
     },
     "execution_count": 7,
     "metadata": {},
     "output_type": "execute_result"
    }
   ],
   "source": [
    "S11 = vars[\"dataICA\"][\"S11\"]"
   ]
  },
  {
   "cell_type": "code",
   "execution_count": 8,
   "metadata": {},
   "outputs": [
    {
     "data": {
      "image/png": "[encoded data removed]",
      "text/plain": [
       "Figure(PyObject <Figure size 500x300 with 1 Axes>)"
      ]
     },
     "metadata": {},
     "output_type": "display_data"
    },
    {
     "data": {
      "text/plain": [
       "1-element Array{PyCall.PyObject,1}:\n",
       " PyObject <matplotlib.lines.Line2D object at 0x1303a6370>"
      ]
     },
     "execution_count": 8,
     "metadata": {},
     "output_type": "execute_result"
    }
   ],
   "source": [
    "f = figure(figsize = (5,3))\n",
    "ax = subplot(111)\n",
    "px = PyPlot.plot(S11[1, :])"
   ]
  },
  {
   "cell_type": "code",
   "execution_count": 15,
   "metadata": {},
   "outputs": [
    {
     "data": {
      "image/png": "[encoded data removed]",
      "text/plain": [
       "Figure(PyObject <Figure size 500x300 with 1 Axes>)"
      ]
     },
     "metadata": {},
     "output_type": "display_data"
    }
   ],
   "source": [
    "f = figure(figsize = (5,3))\n",
    "ax = subplot(111)\n",
    "\n",
    "px = PyPlot.plot(nodir[\"signal\"][1:100], color = \"b\", ls= \":\"); \n",
    "pa = PyPlot.plot(γα[\"signal\"][1:100], color = \"r\", ls= \"-\"); \n",
    "pp = PyPlot.plot(αγ[\"signal\"][1:100], color = \"g\", ls= \"-.\"); "
   ]
  }
 ],
 "metadata": {
  "kernelspec": {
   "display_name": "Julia 1.5.2",
   "language": "julia",
   "name": "julia-1.5"
  },
  "language_info": {
   "file_extension": ".jl",
   "mimetype": "application/julia",
   "name": "julia",
   "version": "1.5.2"
  }
 },
 "nbformat": 4,
 "nbformat_minor": 4
}
