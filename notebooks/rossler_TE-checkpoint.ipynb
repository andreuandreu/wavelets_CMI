{
 "cells": [
  {
   "cell_type": "code",
   "execution_count": 5,
   "source": [
    "using Pkg; Pkg.activate(\"../\")"
   ],
   "outputs": [
    {
     "output_type": "stream",
     "name": "stderr",
     "text": [
      "\u001b[32m\u001b[1m  Activating\u001b[22m\u001b[39m environment at `~/git_repos/TE_EG_project/wavelets_CMI/Project.toml`\n"
     ]
    },
    {
     "output_type": "error",
     "ename": "LoadError",
     "evalue": "Could not parse manifest: TOML Parser error:\n/home/arinyoprats/git_repos/TE_EG_project/wavelets_CMI/Manifest.toml:52:1 error: invalid bare key character: '<'\n  <<<<<<< HEAD\n  ^            ",
     "traceback": [
      "Could not parse manifest: TOML Parser error:\n/home/arinyoprats/git_repos/TE_EG_project/wavelets_CMI/Manifest.toml:52:1 error: invalid bare key character: '<'\n  <<<<<<< HEAD\n  ^            ",
      "",
      "Stacktrace:",
      "  [1] pkgerror(::String, ::Vararg{String, N} where N)",
      "    @ Pkg.Types /buildworker/worker/package_linux64/build/usr/share/julia/stdlib/v1.6/Pkg/src/Types.jl:55",
      "  [2] read_manifest(f_or_io::String)",
      "    @ Pkg.Types /buildworker/worker/package_linux64/build/usr/share/julia/stdlib/v1.6/Pkg/src/manifest.jl:203",
      "  [3] Pkg.Types.EnvCache(env::Nothing)",
      "    @ Pkg.Types /buildworker/worker/package_linux64/build/usr/share/julia/stdlib/v1.6/Pkg/src/Types.jl:302",
      "  [4] EnvCache",
      "    @ /buildworker/worker/package_linux64/build/usr/share/julia/stdlib/v1.6/Pkg/src/Types.jl:281 [inlined]",
      "  [5] add_snapshot_to_undo(env::Nothing)",
      "    @ Pkg.API /buildworker/worker/package_linux64/build/usr/share/julia/stdlib/v1.6/Pkg/src/API.jl:1532",
      "  [6] add_snapshot_to_undo",
      "    @ /buildworker/worker/package_linux64/build/usr/share/julia/stdlib/v1.6/Pkg/src/API.jl:1528 [inlined]",
      "  [7] activate(path::String; shared::Bool, temp::Bool, io::IJulia.IJuliaStdio{Base.PipeEndpoint})",
      "    @ Pkg.API /buildworker/worker/package_linux64/build/usr/share/julia/stdlib/v1.6/Pkg/src/API.jl:1494",
      "  [8] activate(path::String)",
      "    @ Pkg.API /buildworker/worker/package_linux64/build/usr/share/julia/stdlib/v1.6/Pkg/src/API.jl:1457",
      "  [9] top-level scope",
      "    @ In[5]:1",
      " [10] eval",
      "    @ ./boot.jl:360 [inlined]",
      " [11] include_string(mapexpr::typeof(REPL.softscope), mod::Module, code::String, filename::String)",
      "    @ Base ./loading.jl:1116"
     ]
    }
   ],
   "metadata": {}
  },
  {
   "cell_type": "code",
   "execution_count": 14,
   "source": [
    "Pkg.status()"
   ],
   "outputs": [
    {
     "output_type": "stream",
     "name": "stdout",
     "text": [
      "\u001b[32m\u001b[1m      Status\u001b[22m\u001b[39m `~/git_repos/TE_EG_project/wavelets_CMI/Project.toml`\n",
      " \u001b[90m [5520caf5] \u001b[39mCausalityTools v0.3.0\n",
      " \u001b[90m [717857b8] \u001b[39mDSP v0.6.10\n",
      " \u001b[90m [5732040d] \u001b[39mDelayEmbeddings v1.20.9\n",
      " \u001b[90m [31c24e10] \u001b[39mDistributions v0.23.12\n",
      " \u001b[90m [634d3b9d] \u001b[39mDrWatson v2.1.2\n",
      " \u001b[90m [ed8fcbec] \u001b[39mEntropies v0.12.1\n",
      " \u001b[90m [7a1cc6ca] \u001b[39mFFTW v1.3.2\n",
      " \u001b[90m [7073ff75] \u001b[39mIJulia v1.23.2\n",
      "\u001b[31m→\u001b[39m\u001b[90m [23992714] \u001b[39mMAT v0.10.1\n",
      " \u001b[90m [91a5bcdd] \u001b[39mPlots v0.29.9\n",
      " \u001b[90m [d330b81b] \u001b[39mPyPlot v2.9.0\n",
      " \u001b[90m [d5428e67] \u001b[39mSimplices v0.4.1\n",
      " \u001b[90m [2913bbd2] \u001b[39mStatsBase v0.33.8\n",
      " \u001b[90m [fd094767] \u001b[39mSuppressor v0.2.0\n",
      "\u001b[31m→\u001b[39m\u001b[90m [ea221983] \u001b[39mTransferEntropy v1.0.0\n",
      " \u001b[90m [79125185] \u001b[39mpackage_CMI_prague v0.1.0 `src/package_CMI_prague`\n",
      "\u001b[32m\u001b[1m        Info\u001b[22m\u001b[39m packages marked with \u001b[31m→\u001b[39m not downloaded, use `instantiate` to download\n"
     ]
    }
   ],
   "metadata": {}
  },
  {
   "cell_type": "code",
   "execution_count": 51,
   "source": [
    "include(\"../src/read_bin.jl\")\n",
    "include(\"../src/basicent.jl\")"
   ],
   "outputs": [
    {
     "output_type": "execute_result",
     "data": {
      "text/plain": [
       "tranfserentropy (generic function with 6 methods)"
      ]
     },
     "metadata": {},
     "execution_count": 51
    }
   ],
   "metadata": {}
  },
  {
   "cell_type": "code",
   "execution_count": 16,
   "source": [
    "Pkg.instantiate()"
   ],
   "outputs": [
    {
     "output_type": "stream",
     "name": "stderr",
     "text": [
      "\u001b[32m\u001b[1m   Installed\u001b[22m\u001b[39m HDF5_jll ─────────── v1.12.0+1\n",
      "\u001b[32m\u001b[1m   Installed\u001b[22m\u001b[39m Lz4_jll ──────────── v1.9.2+2\n",
      "\u001b[32m\u001b[1m   Installed\u001b[22m\u001b[39m Blosc_jll ────────── v1.14.3+1\n",
      "\u001b[32m\u001b[1m   Installed\u001b[22m\u001b[39m Zstd_jll ─────────── v1.4.8+0\n",
      "\u001b[32m\u001b[1m   Installed\u001b[22m\u001b[39m Blosc ────────────── v0.7.0\n",
      "\u001b[32m\u001b[1m   Installed\u001b[22m\u001b[39m BufferedStreams ──── v1.0.0\n",
      "\u001b[32m\u001b[1m   Installed\u001b[22m\u001b[39m MAT ──────────────── v0.10.1\n",
      "\u001b[32m\u001b[1m   Installed\u001b[22m\u001b[39m CodecZlib ────────── v0.7.0\n",
      "\u001b[32m\u001b[1m   Installed\u001b[22m\u001b[39m TranscodingStreams ─ v0.9.5\n",
      "\u001b[32m\u001b[1m   Installed\u001b[22m\u001b[39m HDF5 ─────────────── v0.15.4\n",
      "\u001b[32m\u001b[1m   Installed\u001b[22m\u001b[39m TransferEntropy ──── v1.0.0\n",
      "\u001b[32m\u001b[1m    Building\u001b[22m\u001b[39m HDF5 → `~/.julia/scratchspaces/44cfe95a-1eb2-52ea-b672-e2afdf69b78f/8a21f34a34491833bcda29a3ec2188b4ec6e558f/build.log`\n",
      "┌ Warning: Could not use exact versions of packages in manifest, re-resolving\n",
      "└ @ Pkg.Operations /buildworker/worker/package_linux64/build/usr/share/julia/stdlib/v1.6/Pkg/src/Operations.jl:1530\n",
      "\u001b[32m\u001b[1mPrecompiling\u001b[22m\u001b[39m project...\n",
      "\u001b[32m  ✓ \u001b[39mpackage_CMI_prague\n",
      "\u001b[32m  ✓ \u001b[39m\u001b[90mBufferedStreams\u001b[39m\n",
      "\u001b[32m  ✓ \u001b[39m\u001b[90mTranscodingStreams\u001b[39m\n",
      "\u001b[33m  ✓ \u001b[39m\u001b[90mJSON\u001b[39m\n",
      "\u001b[32m  ✓ \u001b[39m\u001b[90mLz4_jll\u001b[39m\n",
      "\u001b[32m  ✓ \u001b[39m\u001b[90mHDF5_jll\u001b[39m\n",
      "\u001b[32m  ✓ \u001b[39m\u001b[90mCodecZlib\u001b[39m\n",
      "\u001b[33m  ✓ \u001b[39m\u001b[90mMbedTLS_jll\u001b[39m\n",
      "\u001b[32m  ✓ \u001b[39m\u001b[90mZstd_jll\u001b[39m\n",
      "\u001b[33m  ✓ \u001b[39m\u001b[90mConda\u001b[39m\n",
      "\u001b[32m  ✓ \u001b[39m\u001b[90mLibSSH2_jll\u001b[39m\n",
      "\u001b[33m  ✓ \u001b[39m\u001b[90mMbedTLS\u001b[39m\n",
      "\u001b[91m  ✗ \u001b[39m\u001b[90mIntervalArithmetic\u001b[39m\n",
      "\u001b[32m  ✓ \u001b[39m\u001b[90mBlosc_jll\u001b[39m\n",
      "\u001b[32m  ✓ \u001b[39m\u001b[90mBlosc\u001b[39m\n",
      "\u001b[33m  ✓ \u001b[39mIJulia\n",
      "\u001b[32m  ✓ \u001b[39m\u001b[90mDocumenter\u001b[39m\n",
      "\u001b[32m  ✓ \u001b[39m\u001b[90mHDF5\u001b[39m\n",
      "\u001b[32m  ✓ \u001b[39m\u001b[90mDocumenterTools\u001b[39m\n",
      "\u001b[32m  ✓ \u001b[39mMAT\n",
      "\u001b[32m  ✓ \u001b[39m\u001b[90mPyCall\u001b[39m\n",
      "\u001b[32m  ✓ \u001b[39mFFTW\n",
      "\u001b[32m  ✓ \u001b[39m\u001b[90mLombScargle\u001b[39m\n",
      "\u001b[32m  ✓ \u001b[39m\u001b[90mKernelDensity\u001b[39m\n",
      "\u001b[32m  ✓ \u001b[39mPyPlot\n",
      "\u001b[32m  ✓ \u001b[39mDSP\n",
      "\u001b[32m  ✓ \u001b[39mSimplices\n",
      "\u001b[91m  ✗ \u001b[39m\u001b[90mDiffEqBase\u001b[39m\n",
      "\u001b[32m  ✓ \u001b[39m\u001b[90mWavelets\u001b[39m\n",
      "\u001b[91m  ✗ \u001b[39m\u001b[90mUncertainData\u001b[39m\n",
      "\u001b[32m  ✓ \u001b[39m\u001b[90mTimeseriesSurrogates\u001b[39m\n",
      "\u001b[32m  ✓ \u001b[39mEntropies\n",
      "\u001b[91m  ✗ \u001b[39m\u001b[90mSimpleDiffEq\u001b[39m\n",
      "\u001b[32m  ✓ \u001b[39mTransferEntropy\n",
      "\u001b[91m  ✗ \u001b[39m\u001b[90mCrossMappings\u001b[39m\n",
      "\u001b[91m  ✗ \u001b[39m\u001b[90mDynamicalSystemsBase\u001b[39m\n",
      "\u001b[32m  ✓ \u001b[39mPlots\n",
      "\u001b[91m  ✗ \u001b[39m\u001b[90mChaosTools\u001b[39m\n",
      "\u001b[91m  ✗ \u001b[39m\u001b[90mDynamicalSystems\u001b[39m\n",
      "\u001b[91m  ✗ \u001b[39m\u001b[90mCausalityToolsBase\u001b[39m\n",
      "\u001b[91m  ✗ \u001b[39m\u001b[90mStateSpaceReconstruction\u001b[39m\n",
      "\u001b[91m  ✗ \u001b[39m\u001b[90mPerronFrobenius\u001b[39m\n",
      "\u001b[91m  ✗ \u001b[39mCausalityTools\n",
      "  31 dependencies successfully precompiled in 60 seconds (181 already precompiled)\n",
      "  \u001b[33m5\u001b[39m dependencies precompiled but different versions are currently loaded. Restart julia to access the new versions\n",
      "  \u001b[91m12\u001b[39m dependencies errored. To see a full report either run `import Pkg; Pkg.precompile()` or load the packages\n"
     ]
    }
   ],
   "metadata": {}
  },
  {
   "cell_type": "code",
   "execution_count": 2,
   "source": [
    "?tranfserentropy"
   ],
   "outputs": [
    {
     "output_type": "stream",
     "name": "stdout",
     "text": [
      "search: \u001b[0m\u001b[1mt\u001b[22m\u001b[0m\u001b[1mr\u001b[22m\u001b[0m\u001b[1ma\u001b[22m\u001b[0m\u001b[1mn\u001b[22m\u001b[0m\u001b[1mf\u001b[22m\u001b[0m\u001b[1ms\u001b[22m\u001b[0m\u001b[1me\u001b[22m\u001b[0m\u001b[1mr\u001b[22m\u001b[0m\u001b[1me\u001b[22m\u001b[0m\u001b[1mn\u001b[22m\u001b[0m\u001b[1mt\u001b[22m\u001b[0m\u001b[1mr\u001b[22m\u001b[0m\u001b[1mo\u001b[22m\u001b[0m\u001b[1mp\u001b[22m\u001b[0m\u001b[1my\u001b[22m\n",
      "\n"
     ]
    },
    {
     "output_type": "execute_result",
     "data": {
      "text/plain": [
       "  No documentation found.\n",
       "\n",
       "  \u001b[36mtranfserentropy\u001b[39m is a \u001b[36mFunction\u001b[39m.\n",
       "\n",
       "\u001b[36m  # 1 method for generic function \"tranfserentropy\":\u001b[39m\n",
       "\u001b[36m  [1] tranfserentropy(joint, est::VisitationFrequency; embdim, α, base) in Main at /home/arinyoprats/git_repos/TE_EG_project/package_CMI_prague/src/basicent.jl:117\u001b[39m"
      ],
      "text/markdown": [
       "No documentation found.\n",
       "\n",
       "`tranfserentropy` is a `Function`.\n",
       "\n",
       "```\n",
       "# 1 method for generic function \"tranfserentropy\":\n",
       "[1] tranfserentropy(joint, est::VisitationFrequency; embdim, α, base) in Main at /home/arinyoprats/git_repos/TE_EG_project/package_CMI_prague/src/basicent.jl:117\n",
       "```\n"
      ],
      "text/latex": [
       "No documentation found.\n",
       "\n",
       "\\texttt{tranfserentropy} is a \\texttt{Function}.\n",
       "\n",
       "\\begin{verbatim}\n",
       "# 1 method for generic function \"tranfserentropy\":\n",
       "[1] tranfserentropy(joint, est::VisitationFrequency; embdim, α, base) in Main at /home/arinyoprats/git_repos/TE_EG_project/package_CMI_prague/src/basicent.jl:117\n",
       "\\end{verbatim}\n"
      ]
     },
     "metadata": {},
     "execution_count": 2
    }
   ],
   "metadata": {}
  },
  {
   "cell_type": "code",
   "execution_count": 18,
   "source": [
    "using Plots\n",
    "using Suppressor"
   ],
   "outputs": [
    {
     "output_type": "stream",
     "name": "stderr",
     "text": [
      "┌ Info: Precompiling Plots [91a5bcdd-55d7-5caf-9e0b-520d859cae80]\n",
      "└ @ Base loading.jl:1342\n"
     ]
    }
   ],
   "metadata": {}
  },
  {
   "cell_type": "code",
   "execution_count": 37,
   "source": [
    "n_points = 131072\n",
    "couplings = LinRange(0, 0.25, 99)\n",
    "#root = \"../data/exp_raw/binfiles/Rossler_bin_\"\n",
    "#root = \"/Users/andreu/Desktop/Dropbox/transfer_inormation_prague/code/binfiles/Rossler_bin_\"\n",
    "root = \"../../../TE_EG_project/package_CMI_prague/data/exp_raw/binfiles/Rossler_bin_\"\n",
    "test_couplings = read_bin_couplings(root, n_points, couplings);"
   ],
   "outputs": [
    {
     "output_type": "stream",
     "name": "stdout",
     "text": [
      "1 0.0\n",
      "2 0.002551020408163265\n",
      "3 0.00510204081632653\n",
      "4 0.007653061224489796\n",
      "5 0.01020408163265306\n",
      "6 0.012755102040816325\n",
      "7 0.015306122448979591\n",
      "8 0.017857142857142856\n",
      "9 0.02040816326530612\n",
      "10 0.02295918367346939\n",
      "11 0.02551020408163265\n",
      "12 0.02806122448979592\n",
      "13 0.030612244897959183\n",
      "14 0.033163265306122444\n",
      "15 0.03571428571428571\n",
      "16 0.03826530612244898\n",
      "17 0.04081632653061224\n",
      "18 0.04336734693877551\n",
      "19 0.04591836734693878\n",
      "20 0.04846938775510204\n",
      "21 0.0510204081632653\n",
      "22 0.053571428571428575\n",
      "23 0.05612244897959184\n",
      "24 0.0586734693877551\n",
      "25 0.061224489795918366\n",
      "26 0.06377551020408162\n",
      "27 0.06632653061224489\n",
      "28 0.06887755102040817\n",
      "29 0.07142857142857142\n",
      "30 0.07397959183673469\n",
      "31 0.07653061224489796\n",
      "32 0.07908163265306122\n",
      "33 0.08163265306122448\n",
      "34 0.08418367346938775\n",
      "35 0.08673469387755102\n",
      "36 0.08928571428571429\n",
      "37 0.09183673469387756\n",
      "38 0.09438775510204081\n",
      "39 0.09693877551020408\n",
      "40 0.09948979591836735\n",
      "41 0.1020408163265306\n",
      "42 0.10459183673469387\n",
      "43 0.10714285714285715\n",
      "44 0.1096938775510204\n",
      "45 0.11224489795918367\n",
      "46 0.11479591836734694\n",
      "47 0.1173469387755102\n",
      "48 0.11989795918367346\n",
      "49 0.12244897959183673\n",
      "50 0.125\n",
      "51 0.12755102040816324\n",
      "52 0.13010204081632654\n",
      "53 0.13265306122448978\n",
      "54 0.13520408163265304\n",
      "55 0.13775510204081634\n",
      "56 0.14030612244897958\n",
      "57 0.14285714285714285\n",
      "58 0.14540816326530612\n",
      "59 0.14795918367346939\n",
      "60 0.15051020408163263\n",
      "61 0.15306122448979592\n",
      "62 0.1556122448979592\n",
      "63 0.15816326530612243\n",
      "64 0.16071428571428573\n",
      "65 0.16326530612244897\n",
      "66 0.16581632653061223\n",
      "67 0.1683673469387755\n",
      "68 0.17091836734693877\n",
      "69 0.17346938775510204\n",
      "70 0.1760204081632653\n",
      "71 0.17857142857142858\n",
      "72 0.18112244897959182\n",
      "73 0.1836734693877551\n",
      "74 0.18622448979591835\n",
      "75 0.18877551020408162\n",
      "76 0.19132653061224492\n",
      "77 0.19387755102040816\n",
      "78 0.19642857142857142\n",
      "79 0.1989795918367347\n",
      "80 0.20153061224489796\n",
      "81 0.2040816326530612\n",
      "82 0.2066326530612245\n",
      "83 0.20918367346938774\n",
      "84 0.211734693877551\n",
      "85 0.2142857142857143\n",
      "86 0.21683673469387754\n",
      "87 0.2193877551020408\n",
      "88 0.22193877551020408\n",
      "89 0.22448979591836735\n",
      "90 0.2270408163265306\n",
      "91 0.22959183673469388\n",
      "92 0.23214285714285715\n",
      "93 0.2346938775510204\n",
      "94 0.2372448979591837\n",
      "95 0.23979591836734693\n",
      "96 0.2423469387755102\n",
      "97 0.24489795918367346\n",
      "98 0.24744897959183673\n"
     ]
    }
   ],
   "metadata": {}
  },
  {
   "cell_type": "code",
   "execution_count": 23,
   "source": [
    "using DrWatson"
   ],
   "outputs": [],
   "metadata": {}
  },
  {
   "cell_type": "code",
   "execution_count": 43,
   "source": [
    "Bin = 150\n",
    "kind_of_ergodicity = Entropies.RectangularBinning(Bin)\n",
    "root2 = \"../data/exp_pro/correlations_TE\"\n",
    "lag = 25\n",
    "#τs = (0,  -10, -5, 0, lag)\n",
    "τs = (0,  0, lag)\n",
    "#js = (2, 1, 1, 1, 1)\n",
    "#js = (1, 2, 2, 2, 2)\n",
    "#js = (1, 2, 2)\n",
    "js = (2, 1, 1)\n",
    "aux = '_'\n",
    "for (i, e) in enumerate(τs)\n",
    "    aux = string(τs[i],aux,js[i])\n",
    "end\n",
    "#est = VisitationFrequency(b)\n",
    "#est = KozachenkoLeonenko(RecBin,0)\n",
    "est = Kraskov(k = Bin)\n",
    "#name = \"couplings_TE_cbv$RecBin-$aux.txt\"\n",
    "strEst = string(est)[1:3]\n",
    "prefix = \"couplings_TE\"\n",
    "suffix = \"txt\"\n",
    "name = \"$prefix-$strEst-$RecBin-lag_$lag.$suffix\"\n",
    "println(name )\n",
    "d = (est = strEst,  Bin = Bin, lag = lag)\n",
    "name = savename(prefix, d , suffix)\n",
    "\n",
    "#joint= DelayEmbeddings.genembed(Dataset(x, y),  τs, js )\n",
    "#joint= DelayEmbeddings.genembed(Dataset(x, y),  (0,0,50, 5, 10), (1,2,2,2,2) )"
   ],
   "outputs": [
    {
     "output_type": "stream",
     "name": "stdout",
     "text": [
      "couplings_TE-Kra-RectangularBinning(150)-lag_25.txt\n"
     ]
    },
    {
     "output_type": "execute_result",
     "data": {
      "text/plain": [
       "\"couplings_TE_Bin=150_est=Kra_lag=25.txt\""
      ]
     },
     "metadata": {},
     "execution_count": 43
    }
   ],
   "metadata": {}
  },
  {
   "cell_type": "code",
   "execution_count": 52,
   "source": [
    "include(\"../src/read_bin.jl\")\n",
    "include(\"../src/basicent.jl\")"
   ],
   "outputs": [
    {
     "output_type": "execute_result",
     "data": {
      "text/plain": [
       "tranfserentropy (generic function with 6 methods)"
      ]
     },
     "metadata": {},
     "execution_count": 52
    }
   ],
   "metadata": {}
  },
  {
   "cell_type": "code",
   "execution_count": 54,
   "source": [
    "TE = Array{Float64}(undef,  length(couplings), 1)\n",
    "@suppress_err begin\n",
    "open(\"$root2/$name\", \"w\") do f\n",
    "    for i in 1:size(test_couplings, 3)-1\n",
    "        if i%10 == 3\n",
    "            a = test_couplings[:,:,i]\n",
    "            x = a[:,1]\n",
    "            y = a[:,2]\n",
    "            joint = DelayEmbeddings.genembed(Dataset(x, y),  τs, js )\n",
    "\n",
    "            e = tranfserentropy(joint, est)\n",
    "\n",
    "            println(i, ' ', couplings[i], ' ', e)\n",
    "            aux = couplings[i]\n",
    "            TE[i] = e\n",
    "            write(f, \"$aux $e\\n\")\n",
    "        end\n",
    "    end\n",
    "end\n",
    "end\n",
    "\n",
    "plot(couplings, TE)\n",
    "xlabel!(\"Coupling ϵ\")\n",
    "ylabel!(\"TE\")"
   ],
   "outputs": [
    {
     "output_type": "stream",
     "name": "stdout",
     "text": [
      "3 0.00510204081632653 -0.10740192711418217\n",
      "13 0.030612244897959183 0.13973215797448546\n",
      "23 0.05612244897959184 0.22176796403509336\n",
      "33 0.08163265306122448 0.32647869706645416\n",
      "43 0.10714285714285714 0.6778861632765425\n",
      "53 0.1326530612244898 1.0160575326187749\n",
      "63 0.15816326530612246 1.1289893888418225\n",
      "73 0.1836734693877551 1.1539973285443388\n",
      "83 0.20918367346938777 1.0853075945488913\n",
      "93 0.23469387755102042 1.0195787088012924\n"
     ]
    },
    {
     "output_type": "execute_result",
     "data": {
      "image/svg+xml": "<?xml version=\"1.0\" encoding=\"utf-8\"?>\n<svg xmlns=\"http://www.w3.org/2000/svg\" xmlns:xlink=\"http://www.w3.org/1999/xlink\" width=\"600\" height=\"400\" viewBox=\"0 0 2400 1600\">\n<defs>\n  <clipPath id=\"clip6200\">\n    <rect x=\"0\" y=\"0\" width=\"2400\" height=\"1600\"/>\n  </clipPath>\n</defs>\n<path clip-path=\"url(#clip6200)\" d=\"\nM0 1600 L2400 1600 L2400 0 L0 0  Z\n  \" fill=\"#ffffff\" fill-rule=\"evenodd\" fill-opacity=\"1\"/>\n<defs>\n  <clipPath id=\"clip6201\">\n    <rect x=\"480\" y=\"0\" width=\"1681\" height=\"1600\"/>\n  </clipPath>\n</defs>\n<path clip-path=\"url(#clip6200)\" d=\"\nM242.516 1425.62 L2352.76 1425.62 L2352.76 47.2441 L242.516 47.2441  Z\n  \" fill=\"#ffffff\" fill-rule=\"evenodd\" fill-opacity=\"1\"/>\n<defs>\n  <clipPath id=\"clip6202\">\n    <rect x=\"242\" y=\"47\" width=\"2111\" height=\"1379\"/>\n  </clipPath>\n</defs>\n<polyline clip-path=\"url(#clip6202)\" style=\"stroke:#000000; stroke-width:2; stroke-opacity:0.1; fill:none\" points=\"\n  302.24,1425.62 302.24,47.2441 \n  \"/>\n<polyline clip-path=\"url(#clip6202)\" style=\"stroke:#000000; stroke-width:2; stroke-opacity:0.1; fill:none\" points=\"\n  700.399,1425.62 700.399,47.2441 \n  \"/>\n<polyline clip-path=\"url(#clip6202)\" style=\"stroke:#000000; stroke-width:2; stroke-opacity:0.1; fill:none\" points=\"\n  1098.56,1425.62 1098.56,47.2441 \n  \"/>\n<polyline clip-path=\"url(#clip6202)\" style=\"stroke:#000000; stroke-width:2; stroke-opacity:0.1; fill:none\" points=\"\n  1496.72,1425.62 1496.72,47.2441 \n  \"/>\n<polyline clip-path=\"url(#clip6202)\" style=\"stroke:#000000; stroke-width:2; stroke-opacity:0.1; fill:none\" points=\"\n  1894.87,1425.62 1894.87,47.2441 \n  \"/>\n<polyline clip-path=\"url(#clip6202)\" style=\"stroke:#000000; stroke-width:2; stroke-opacity:0.1; fill:none\" points=\"\n  2293.03,1425.62 2293.03,47.2441 \n  \"/>\n<polyline clip-path=\"url(#clip6202)\" style=\"stroke:#000000; stroke-width:2; stroke-opacity:0.1; fill:none\" points=\"\n  242.516,1275.89 2352.76,1275.89 \n  \"/>\n<polyline clip-path=\"url(#clip6202)\" style=\"stroke:#000000; stroke-width:2; stroke-opacity:0.1; fill:none\" points=\"\n  242.516,1018.17 2352.76,1018.17 \n  \"/>\n<polyline clip-path=\"url(#clip6202)\" style=\"stroke:#000000; stroke-width:2; stroke-opacity:0.1; fill:none\" points=\"\n  242.516,760.449 2352.76,760.449 \n  \"/>\n<polyline clip-path=\"url(#clip6202)\" style=\"stroke:#000000; stroke-width:2; stroke-opacity:0.1; fill:none\" points=\"\n  242.516,502.728 2352.76,502.728 \n  \"/>\n<polyline clip-path=\"url(#clip6202)\" style=\"stroke:#000000; stroke-width:2; stroke-opacity:0.1; fill:none\" points=\"\n  242.516,245.008 2352.76,245.008 \n  \"/>\n<polyline clip-path=\"url(#clip6200)\" style=\"stroke:#000000; stroke-width:4; stroke-opacity:1; fill:none\" points=\"\n  242.516,1425.62 2352.76,1425.62 \n  \"/>\n<polyline clip-path=\"url(#clip6200)\" style=\"stroke:#000000; stroke-width:4; stroke-opacity:1; fill:none\" points=\"\n  242.516,1425.62 242.516,47.2441 \n  \"/>\n<polyline clip-path=\"url(#clip6200)\" style=\"stroke:#000000; stroke-width:4; stroke-opacity:1; fill:none\" points=\"\n  302.24,1425.62 302.24,1409.08 \n  \"/>\n<polyline clip-path=\"url(#clip6200)\" style=\"stroke:#000000; stroke-width:4; stroke-opacity:1; fill:none\" points=\"\n  700.399,1425.62 700.399,1409.08 \n  \"/>\n<polyline clip-path=\"url(#clip6200)\" style=\"stroke:#000000; stroke-width:4; stroke-opacity:1; fill:none\" points=\"\n  1098.56,1425.62 1098.56,1409.08 \n  \"/>\n<polyline clip-path=\"url(#clip6200)\" style=\"stroke:#000000; stroke-width:4; stroke-opacity:1; fill:none\" points=\"\n  1496.72,1425.62 1496.72,1409.08 \n  \"/>\n<polyline clip-path=\"url(#clip6200)\" style=\"stroke:#000000; stroke-width:4; stroke-opacity:1; fill:none\" points=\"\n  1894.87,1425.62 1894.87,1409.08 \n  \"/>\n<polyline clip-path=\"url(#clip6200)\" style=\"stroke:#000000; stroke-width:4; stroke-opacity:1; fill:none\" points=\"\n  2293.03,1425.62 2293.03,1409.08 \n  \"/>\n<polyline clip-path=\"url(#clip6200)\" style=\"stroke:#000000; stroke-width:4; stroke-opacity:1; fill:none\" points=\"\n  242.516,1275.89 267.839,1275.89 \n  \"/>\n<polyline clip-path=\"url(#clip6200)\" style=\"stroke:#000000; stroke-width:4; stroke-opacity:1; fill:none\" points=\"\n  242.516,1018.17 267.839,1018.17 \n  \"/>\n<polyline clip-path=\"url(#clip6200)\" style=\"stroke:#000000; stroke-width:4; stroke-opacity:1; fill:none\" points=\"\n  242.516,760.449 267.839,760.449 \n  \"/>\n<polyline clip-path=\"url(#clip6200)\" style=\"stroke:#000000; stroke-width:4; stroke-opacity:1; fill:none\" points=\"\n  242.516,502.728 267.839,502.728 \n  \"/>\n<polyline clip-path=\"url(#clip6200)\" style=\"stroke:#000000; stroke-width:4; stroke-opacity:1; fill:none\" points=\"\n  242.516,245.008 267.839,245.008 \n  \"/>\n<g clip-path=\"url(#clip6200)\">\n<text style=\"fill:#000000; fill-opacity:1; font-family:Arial,Helvetica Neue,Helvetica,sans-serif; font-size:48px; text-anchor:middle;\" transform=\"rotate(0, 302.24, 1479.62)\" x=\"302.24\" y=\"1479.62\">0.00</text>\n</g>\n<g clip-path=\"url(#clip6200)\">\n<text style=\"fill:#000000; fill-opacity:1; font-family:Arial,Helvetica Neue,Helvetica,sans-serif; font-size:48px; text-anchor:middle;\" transform=\"rotate(0, 700.399, 1479.62)\" x=\"700.399\" y=\"1479.62\">0.05</text>\n</g>\n<g clip-path=\"url(#clip6200)\">\n<text style=\"fill:#000000; fill-opacity:1; font-family:Arial,Helvetica Neue,Helvetica,sans-serif; font-size:48px; text-anchor:middle;\" transform=\"rotate(0, 1098.56, 1479.62)\" x=\"1098.56\" y=\"1479.62\">0.10</text>\n</g>\n<g clip-path=\"url(#clip6200)\">\n<text style=\"fill:#000000; fill-opacity:1; font-family:Arial,Helvetica Neue,Helvetica,sans-serif; font-size:48px; text-anchor:middle;\" transform=\"rotate(0, 1496.72, 1479.62)\" x=\"1496.72\" y=\"1479.62\">0.15</text>\n</g>\n<g clip-path=\"url(#clip6200)\">\n<text style=\"fill:#000000; fill-opacity:1; font-family:Arial,Helvetica Neue,Helvetica,sans-serif; font-size:48px; text-anchor:middle;\" transform=\"rotate(0, 1894.87, 1479.62)\" x=\"1894.87\" y=\"1479.62\">0.20</text>\n</g>\n<g clip-path=\"url(#clip6200)\">\n<text style=\"fill:#000000; fill-opacity:1; font-family:Arial,Helvetica Neue,Helvetica,sans-serif; font-size:48px; text-anchor:middle;\" transform=\"rotate(0, 2293.03, 1479.62)\" x=\"2293.03\" y=\"1479.62\">0.25</text>\n</g>\n<g clip-path=\"url(#clip6200)\">\n<text style=\"fill:#000000; fill-opacity:1; font-family:Arial,Helvetica Neue,Helvetica,sans-serif; font-size:48px; text-anchor:end;\" transform=\"rotate(0, 218.516, 1293.39)\" x=\"218.516\" y=\"1293.39\">0.00</text>\n</g>\n<g clip-path=\"url(#clip6200)\">\n<text style=\"fill:#000000; fill-opacity:1; font-family:Arial,Helvetica Neue,Helvetica,sans-serif; font-size:48px; text-anchor:end;\" transform=\"rotate(0, 218.516, 1035.67)\" x=\"218.516\" y=\"1035.67\">0.25</text>\n</g>\n<g clip-path=\"url(#clip6200)\">\n<text style=\"fill:#000000; fill-opacity:1; font-family:Arial,Helvetica Neue,Helvetica,sans-serif; font-size:48px; text-anchor:end;\" transform=\"rotate(0, 218.516, 777.949)\" x=\"218.516\" y=\"777.949\">0.50</text>\n</g>\n<g clip-path=\"url(#clip6200)\">\n<text style=\"fill:#000000; fill-opacity:1; font-family:Arial,Helvetica Neue,Helvetica,sans-serif; font-size:48px; text-anchor:end;\" transform=\"rotate(0, 218.516, 520.228)\" x=\"218.516\" y=\"520.228\">0.75</text>\n</g>\n<g clip-path=\"url(#clip6200)\">\n<text style=\"fill:#000000; fill-opacity:1; font-family:Arial,Helvetica Neue,Helvetica,sans-serif; font-size:48px; text-anchor:end;\" transform=\"rotate(0, 218.516, 262.508)\" x=\"218.516\" y=\"262.508\">1.00</text>\n</g>\n<g clip-path=\"url(#clip6200)\">\n<text style=\"fill:#000000; fill-opacity:1; font-family:Arial,Helvetica Neue,Helvetica,sans-serif; font-size:66px; text-anchor:middle;\" transform=\"rotate(0, 1297.64, 1559.48)\" x=\"1297.64\" y=\"1559.48\">Coupling ?</text>\n</g>\n<g clip-path=\"url(#clip6200)\">\n<text style=\"fill:#000000; fill-opacity:1; font-family:Arial,Helvetica Neue,Helvetica,sans-serif; font-size:66px; text-anchor:middle;\" transform=\"rotate(-90, 89.2861, 736.431)\" x=\"89.2861\" y=\"736.431\">TE</text>\n</g>\n<polyline clip-path=\"url(#clip6202)\" style=\"stroke:#009af9; stroke-width:4; stroke-opacity:1; fill:none\" points=\"\n  302.24,1275.89 322.554,1275.89 342.869,1386.61 363.183,1275.89 383.497,1275.89 403.811,1275.89 424.125,1275.89 444.44,1275.89 464.754,1275.89 485.068,1275.89 \n  505.382,1275.89 525.696,1275.89 546.011,1131.84 566.325,1275.89 586.639,1275.89 606.953,1275.89 627.267,1275.89 647.582,1275.89 667.896,1275.89 688.21,1275.89 \n  708.524,1275.89 728.838,1275.89 749.153,1047.27 769.467,1275.89 789.781,1275.89 810.095,1275.89 830.409,1275.89 850.724,1275.89 871.038,1275.89 891.352,1275.89 \n  911.666,1275.89 931.98,1275.89 952.295,939.328 972.609,1275.89 992.923,1275.89 1013.24,1275.89 1033.55,1275.89 1053.87,1275.89 1074.18,1275.89 1094.49,1275.89 \n  1114.81,1275.89 1135.12,1275.89 1155.44,577.069 1175.75,1275.89 1196.07,1275.89 1216.38,1275.89 1236.69,1275.89 1257.01,1275.89 1277.32,1275.89 1297.64,1275.89 \n  1317.95,1275.89 1338.26,1275.89 1358.58,228.454 1378.89,1275.89 1399.21,1275.89 1419.52,1275.89 1439.84,1275.89 1460.15,1275.89 1480.46,1275.89 1500.78,1275.89 \n  1521.09,1275.89 1541.41,1275.89 1561.72,112.035 1582.04,1275.89 1602.35,1275.89 1622.66,1275.89 1642.98,1275.89 1663.29,1275.89 1683.61,1275.89 1703.92,1275.89 \n  1724.23,1275.89 1744.55,1275.89 1764.86,86.2547 1785.18,1275.89 1805.49,1275.89 1825.81,1275.89 1846.12,1275.89 1866.43,1275.89 1886.75,1275.89 1907.06,1275.89 \n  1927.38,1275.89 1947.69,1275.89 1968,157.066 1988.32,1275.89 2008.63,1275.89 2028.95,1275.89 2049.26,1275.89 2069.58,1275.89 2089.89,1275.89 2110.2,1275.89 \n  2130.52,1275.89 2150.83,1275.89 2171.15,224.824 2191.46,1275.89 2211.78,1275.89 2232.09,1275.89 2252.4,1275.89 2272.72,1275.89 2293.03,1275.89 \n  \"/>\n<path clip-path=\"url(#clip6200)\" d=\"\nM1989.93 251.724 L2280.76 251.724 L2280.76 130.764 L1989.93 130.764  Z\n  \" fill=\"#ffffff\" fill-rule=\"evenodd\" fill-opacity=\"1\"/>\n<polyline clip-path=\"url(#clip6200)\" style=\"stroke:#000000; stroke-width:4; stroke-opacity:1; fill:none\" points=\"\n  1989.93,251.724 2280.76,251.724 2280.76,130.764 1989.93,130.764 1989.93,251.724 \n  \"/>\n<polyline clip-path=\"url(#clip6200)\" style=\"stroke:#009af9; stroke-width:4; stroke-opacity:1; fill:none\" points=\"\n  2013.93,191.244 2157.93,191.244 \n  \"/>\n<g clip-path=\"url(#clip6200)\">\n<text style=\"fill:#000000; fill-opacity:1; font-family:Arial,Helvetica Neue,Helvetica,sans-serif; font-size:48px; text-anchor:start;\" transform=\"rotate(0, 2181.93, 208.744)\" x=\"2181.93\" y=\"208.744\">y1</text>\n</g>\n</svg>\n"
     },
     "metadata": {},
     "execution_count": 54
    }
   ],
   "metadata": {}
  },
  {
   "cell_type": "code",
   "execution_count": 39,
   "source": [
    "\"\"\"this is a stupid function that given a vector A, copies it \n",
    "to a vector B but changes  one unique value of that vector \n",
    "in the position I, leaving all ther rest the same\"\"\"\n",
    "\n",
    "function changevector!(A, τ, I)\n",
    "    B = Vector{Int64}(undef, length(A))#zeros(length(A))\n",
    "     # LinRange(0, 0, length(A))#A#Array{Tuple{Int64,Int64}}(undef, length(couplings))\n",
    "    @inbounds for i in eachindex(A)\n",
    "        if i == I\n",
    "            #append!( B, τ )\n",
    "            B[i] = τ\n",
    "        else\n",
    "            #append!( B, A[i] )\n",
    "            B[i] = A[i]\n",
    "        end\n",
    "    end\n",
    "    return B\n",
    "end"
   ],
   "outputs": [
    {
     "output_type": "execute_result",
     "data": {
      "text/plain": [
       "changevector! (generic function with 1 method)"
      ]
     },
     "metadata": {},
     "execution_count": 39
    }
   ],
   "metadata": {}
  },
  {
   "cell_type": "code",
   "execution_count": null,
   "source": [],
   "outputs": [],
   "metadata": {}
  },
  {
   "cell_type": "code",
   "execution_count": 55,
   "source": [
    "#root2 = \"/Users/andreu/Desktop/Dropbox/transfer_inormation_prague/code/correlations_TE\"\n",
    "root2 = \"../data/exp_pro/correlations_TE\"\n",
    "maxτ = 50\n",
    "jumpτ = 5\n",
    "aux = LinRange(jumpτ, maxτ, 10)\n",
    "τ_range = round.(Int64, aux)\n",
    "println(τ_range)\n",
    "#τs = (0,  10, 5, 0, maxτ)\n",
    "#js = (2, 1, 1, 1, 1)\n",
    "#js = (1, 2, 2, 2, 2)\n",
    "\n",
    "τs = (0, 0,  maxτ ) #RIGhT ORDER FOR THE 3 dimensional embbeding case\n",
    "#js = (2, 1, 1)\n",
    "js = (1, 2, 2)\n",
    "\n",
    "aux = '_'\n",
    "for (i, e) in enumerate(τs)\n",
    "    aux = string(τs[length(τs)-i+1],aux,js[i])\n",
    "end\n",
    "name = \"couplings_meanTE_Knn$RecBin-$aux.txt\"\n",
    "\n",
    "open(\"$root2/$name\", \"w\") do f\n",
    "    @suppress_err begin\n",
    "        for i in 1:size(test_couplings, 3)-1\n",
    "            mean_TE = 0\n",
    "            a = test_couplings[:,:,i]\n",
    "            x = a[:,1]\n",
    "            y = a[:,2]\n",
    "            for t in τ_range\n",
    "                print(t)\n",
    "                ts =  changevector!(τs, t, 2)\n",
    "                joint = DelayEmbeddings.genembed(Dataset(x, y),  ts, js )\n",
    "                e = tranfserentropy(joint, VisitationFrequency(kind_of_ergodicity))\n",
    "                #e = tranfserentropy(joint, VisitationFrequency(b); embdim = 5, α =1.0, base =2)\n",
    "                #e = tranfserentropy(joint, KozachenkoLeonenko(1,8),  2)\n",
    "                mean_TE += e/length(τ_range)  \n",
    "            end\n",
    "            aux = couplings[i]\n",
    "            println(couplings[i], ' ', mean_TE)\n",
    "            write(f, \"$aux $mean_TE\\n\")\n",
    "        end\n",
    "    end\n",
    "end"
   ],
   "outputs": [
    {
     "output_type": "stream",
     "name": "stdout",
     "text": [
      "[5, 10, 15, 20, 25, 30, 35, 40, 45, 50]\n",
      "5"
     ]
    },
    {
     "output_type": "error",
     "ename": "LoadError",
     "evalue": "BoundsError: attempt to access Tuple{Float64, Float64, Float64} at index [5]",
     "traceback": [
      "BoundsError: attempt to access Tuple{Float64, Float64, Float64} at index [5]",
      "",
      "Stacktrace:",
      "  [1] getindex",
      "    @ ./tuple.jl:29 [inlined]",
      "  [2] getindex",
      "    @ ~/.julia/packages/StaticArrays/LJQEe/src/SVector.jl:39 [inlined]",
      "  [3] getindex",
      "    @ ~/.julia/packages/DelayEmbeddings/DdOZb/src/dataset.jl:40 [inlined]",
      "  [4] getindex(d::Dataset{3, Float64}, i::UnitRange{Int64}, j::Vector{Int64})",
      "    @ DelayEmbeddings ~/.julia/packages/DelayEmbeddings/DdOZb/src/dataset.jl:64",
      "  [5] getindex",
      "    @ ~/.julia/packages/DelayEmbeddings/DdOZb/src/dataset.jl:72 [inlined]",
      "  [6] tranfserentropy(joint::Dataset{3, Float64}, est::VisitationFrequency; embdim::Int64, α::Float64, base::Int64)",
      "    @ Main ~/git_repos/TE_EG_project/wavelets_CMI/src/basicent.jl:116",
      "  [7] macro expansion",
      "    @ ./In[55]:33 [inlined]",
      "  [8] macro expansion",
      "    @ ~/.julia/packages/Suppressor/nTjgZ/src/Suppressor.jl:98 [inlined]",
      "  [9] (::var\"#76#78\")(f::IOStream)",
      "    @ Main ./In[55]:23",
      " [10] open(::var\"#76#78\", ::String, ::Vararg{String, N} where N; kwargs::Base.Iterators.Pairs{Union{}, Union{}, Tuple{}, NamedTuple{(), Tuple{}}})",
      "    @ Base ./io.jl:330",
      " [11] open(::Function, ::String, ::String)",
      "    @ Base ./io.jl:328",
      " [12] top-level scope",
      "    @ In[55]:22",
      " [13] eval",
      "    @ ./boot.jl:360 [inlined]",
      " [14] include_string(mapexpr::typeof(REPL.softscope), mod::Module, code::String, filename::String)",
      "    @ Base ./loading.jl:1116"
     ]
    }
   ],
   "metadata": {}
  },
  {
   "cell_type": "code",
   "execution_count": 169,
   "source": [
    "aux = LinRange(jumpτ, maxτ, 10)\n",
    "τ_range = round.(Int64, aux)"
   ],
   "outputs": [
    {
     "output_type": "execute_result",
     "data": {
      "text/plain": [
       "10-element Array{Int64,1}:\n",
       "  3\n",
       "  6\n",
       "  9\n",
       " 12\n",
       " 15\n",
       " 18\n",
       " 21\n",
       " 24\n",
       " 27\n",
       " 30"
      ]
     },
     "metadata": {},
     "execution_count": 169
    }
   ],
   "metadata": {}
  },
  {
   "cell_type": "code",
   "execution_count": 137,
   "source": [
    "τ_range = LinRange(1, 10, 10)\n",
    "EE = Array{Float64}(undef,  length(τ_range), 1)\n",
    "for t in τ_range\n",
    "    EE[1] += t/length(τ_range) #+ EE[1] \n",
    "end\n",
    "EE[1]"
   ],
   "outputs": [
    {
     "output_type": "execute_result",
     "data": {
      "text/plain": [
       "5.5"
      ]
     },
     "metadata": {},
     "execution_count": 137
    }
   ],
   "metadata": {}
  },
  {
   "cell_type": "code",
   "execution_count": 123,
   "source": [
    "B = zeros(0)#LinRange(0, 0, length(τs))\n",
    "append!( B, 3 )"
   ],
   "outputs": [
    {
     "output_type": "execute_result",
     "data": {
      "text/plain": [
       "1-element Array{Float64,1}:\n",
       " 3.0"
      ]
     },
     "metadata": {},
     "execution_count": 123
    }
   ],
   "metadata": {}
  },
  {
   "cell_type": "code",
   "execution_count": 126,
   "source": [
    "ts =  changevector!(τs, 33, 2)\n",
    "ts"
   ],
   "outputs": [
    {
     "output_type": "execute_result",
     "data": {
      "text/plain": [
       "5-element Array{Int64,1}:\n",
       "   0\n",
       "  33\n",
       "   0\n",
       "  -5\n",
       " -10"
      ]
     },
     "metadata": {},
     "execution_count": 126
    }
   ],
   "metadata": {}
  },
  {
   "cell_type": "code",
   "execution_count": 55,
   "source": [
    "?DelayEmbeddings.genembed"
   ],
   "outputs": [
    {
     "output_type": "execute_result",
     "data": {
      "text/plain": [
       "\u001b[36m  genembed(s, τs, js = ones(...); ws = nothing) → dataset\u001b[39m\n",
       "\n",
       "  Create a generalized embedding of \u001b[36ms\u001b[39m which can be a timeseries or arbitrary\n",
       "  \u001b[36mDataset\u001b[39m, and return the result as a new \u001b[36mDataset\u001b[39m.\n",
       "\n",
       "  The generalized embedding works as follows:\n",
       "\n",
       "    •    \u001b[36mτs\u001b[39m denotes what delay times will be used for each of the entries\n",
       "        of the delay vector. It is recommended that \u001b[36mτs[1] = 0\u001b[39m. \u001b[36mτs\u001b[39m is\n",
       "        allowed to have \u001b[4mnegative entries\u001b[24m as well.\n",
       "\n",
       "    •    \u001b[36mjs\u001b[39m denotes which of the timeseries contained in \u001b[36ms\u001b[39m will be used for\n",
       "        the entries of the delay vector. \u001b[36mjs\u001b[39m can contain duplicate indices.\n",
       "\n",
       "    •    \u001b[36mws\u001b[39m are optional weights that weight each embedded entry (the i-th\n",
       "        entry of the delay vector is weighted by \u001b[36mws[i]\u001b[39m). If provided, it\n",
       "        is recommended that \u001b[36mws[1] = 1\u001b[39m\n",
       "\n",
       "  \u001b[36mτs, js, ws\u001b[39m are tuples (or vectors) of length \u001b[36mD\u001b[39m, which also coincides with\n",
       "  the embedding dimension. For example, imagine input trajectory \u001b[35ms = [x, y, z]\u001b[39m\n",
       "  where \u001b[35mx, y, z\u001b[39m are timeseries (the columns of the \u001b[36mDataset\u001b[39m). If \u001b[36mjs = (1, 3, 2)\u001b[39m\n",
       "  and \u001b[36mτs = (0, 2, -7)\u001b[39m the created delay vector at each step \u001b[35mn\u001b[39m will be\n",
       "\n",
       "\u001b[35m  (x(n), z(n+2), y(n-7))\u001b[39m\n",
       "\n",
       "  Using \u001b[36mws = (1, 0.5, 0.25)\u001b[39m as well would create\n",
       "\n",
       "\u001b[35m  (x(n), \\frac{1}{2} z(n+2), \\frac{1}{4} y(n-7))\u001b[39m\n",
       "\n",
       "  \u001b[36mjs\u001b[39m can be skipped, defaulting to index 1 (first timeseries) for all delay\n",
       "  entries, while it has no effect if \u001b[36ms\u001b[39m is a timeseries instead of a \u001b[36mDataset\u001b[39m.\n",
       "\n",
       "  See also \u001b[36membed\u001b[39m. Internally uses \u001b[36mGeneralizedEmbedding\u001b[39m."
      ],
      "text/markdown": [
       "```\n",
       "genembed(s, τs, js = ones(...); ws = nothing) → dataset\n",
       "```\n",
       "\n",
       "Create a generalized embedding of `s` which can be a timeseries or arbitrary `Dataset`, and return the result as a new `Dataset`.\n",
       "\n",
       "The generalized embedding works as follows:\n",
       "\n",
       "  * `τs` denotes what delay times will be used for each of the entries of the delay vector. It is recommended that `τs[1] = 0`. `τs` is allowed to have *negative entries* as well.\n",
       "  * `js` denotes which of the timeseries contained in `s` will be used for the entries of the delay vector. `js` can contain duplicate indices.\n",
       "  * `ws` are optional weights that weight each embedded entry (the i-th entry of the    delay vector is weighted by `ws[i]`). If provided, it is recommended that `ws[1] = 1`\n",
       "\n",
       "`τs, js, ws` are tuples (or vectors) of length `D`, which also coincides with the embedding dimension. For example, imagine input trajectory $s = [x, y, z]$ where $x, y, z$ are timeseries (the columns of the `Dataset`). If `js = (1, 3, 2)` and `τs = (0, 2, -7)` the created delay vector at each step $n$ will be\n",
       "\n",
       "$$\n",
       "(x(n), z(n+2), y(n-7))\n",
       "$$\n",
       "\n",
       "Using `ws = (1, 0.5, 0.25)` as well would create\n",
       "\n",
       "$$\n",
       "(x(n), \\frac{1}{2} z(n+2), \\frac{1}{4} y(n-7))\n",
       "$$\n",
       "\n",
       "`js` can be skipped, defaulting to index 1 (first timeseries) for all delay entries, while it has no effect if `s` is a timeseries instead of a `Dataset`.\n",
       "\n",
       "See also [`embed`](@ref). Internally uses [`GeneralizedEmbedding`](@ref).\n"
      ],
      "text/latex": [
       "\\begin{verbatim}\n",
       "genembed(s, τs, js = ones(...); ws = nothing) → dataset\n",
       "\\end{verbatim}\n",
       "Create a generalized embedding of \\texttt{s} which can be a timeseries or arbitrary \\texttt{Dataset}, and return the result as a new \\texttt{Dataset}.\n",
       "\n",
       "The generalized embedding works as follows:\n",
       "\n",
       "\\begin{itemize}\n",
       "\\item \\texttt{τs} denotes what delay times will be used for each of the entries of the delay vector. It is recommended that \\texttt{τs[1] = 0}. \\texttt{τs} is allowed to have \\emph{negative entries} as well.\n",
       "\n",
       "\n",
       "\\item \\texttt{js} denotes which of the timeseries contained in \\texttt{s} will be used for the entries of the delay vector. \\texttt{js} can contain duplicate indices.\n",
       "\n",
       "\n",
       "\\item \\texttt{ws} are optional weights that weight each embedded entry (the i-th entry of the    delay vector is weighted by \\texttt{ws[i]}). If provided, it is recommended that \\texttt{ws[1] = 1}\n",
       "\n",
       "\\end{itemize}\n",
       "\\texttt{τs, js, ws} are tuples (or vectors) of length \\texttt{D}, which also coincides with the embedding dimension. For example, imagine input trajectory $s = [x, y, z]$ where $x, y, z$ are timeseries (the columns of the \\texttt{Dataset}). If \\texttt{js = (1, 3, 2)} and \\texttt{τs = (0, 2, -7)} the created delay vector at each step $n$ will be\n",
       "\n",
       "$$(x(n), z(n+2), y(n-7))$$\n",
       "Using \\texttt{ws = (1, 0.5, 0.25)} as well would create\n",
       "\n",
       "$$(x(n), \\frac{1}{2} z(n+2), \\frac{1}{4} y(n-7))$$\n",
       "\\texttt{js} can be skipped, defaulting to index 1 (first timeseries) for all delay entries, while it has no effect if \\texttt{s} is a timeseries instead of a \\texttt{Dataset}.\n",
       "\n",
       "See also \\href{@ref}{\\texttt{embed}}. Internally uses \\href{@ref}{\\texttt{GeneralizedEmbedding}}.\n",
       "\n"
      ]
     },
     "metadata": {},
     "execution_count": 55
    }
   ],
   "metadata": {}
  },
  {
   "cell_type": "markdown",
   "source": [
    "test_couplings[1,2,1]"
   ],
   "metadata": {}
  },
  {
   "cell_type": "code",
   "execution_count": 30,
   "source": [
    "\n",
    "a1 = test_couplings[:,:,1]\n",
    "x1 = a1[:,1]\n",
    "y1 = a1[:,2]"
   ],
   "outputs": [],
   "metadata": {}
  },
  {
   "cell_type": "code",
   "execution_count": 32,
   "source": [
    "joint= DelayEmbeddings.genembed(Dataset(x1, y1),  (0,0,1), (1,2,2) );"
   ],
   "outputs": [],
   "metadata": {}
  },
  {
   "cell_type": "code",
   "execution_count": 33,
   "source": [
    "b = RectangularBinning(50)"
   ],
   "outputs": [
    {
     "output_type": "execute_result",
     "data": {
      "text/plain": [
       "RectangularBinning(50)"
      ]
     },
     "metadata": {},
     "execution_count": 33
    }
   ],
   "metadata": {}
  },
  {
   "cell_type": "code",
   "execution_count": 48,
   "source": [
    "?Entropies.genentropy"
   ],
   "outputs": [
    {
     "output_type": "execute_result",
     "data": {
      "text/plain": [
       "\u001b[36m  genentropy(p::Probabilities; α = 1.0, base = Base.MathConstants.e)\u001b[39m\n",
       "\n",
       "  Compute the generalized order-\u001b[36mα\u001b[39m entropy of some probabilities returned by\n",
       "  the \u001b[36mprobabilities\u001b[39m function. Alternatively, compute entropy from pre-computed\n",
       "  \u001b[36mProbabilities\u001b[39m.\n",
       "\n",
       "\u001b[1m  Description\u001b[22m\n",
       "\u001b[1m  =============\u001b[22m\n",
       "\n",
       "  Let \u001b[35mp\u001b[39m be an array of probabilities (summing to 1). Then the generalized\n",
       "  (Rényi) entropy is\n",
       "\n",
       "\u001b[35m  H_\\alpha(p) = \\frac{1}{1-\\alpha} \\log \\left(\\sum_i p[i]^\\alpha\\right)\u001b[39m\n",
       "\n",
       "  and generalizes other known entropies, like e.g. the information entropy\n",
       "  (\u001b[35m\\alpha = 1\u001b[39m, see \u001b[1m[^Shannon1948]\u001b[22m), the maximum entropy (\u001b[35m\\alpha=0\u001b[39m, also known\n",
       "  as Hartley entropy), or the correlation entropy (\u001b[35m\\alpha = 2\u001b[39m, also known as\n",
       "  collision entropy).\n",
       "\n",
       "\u001b[36m  genentropy(x::Vector_or_Dataset, est; α = 1.0, base)\u001b[39m\n",
       "\n",
       "  A convenience syntax, which calls first \u001b[36mprobabilities(x, est)\u001b[39m and then\n",
       "  calculates the entropy of the result (and thus \u001b[36mest\u001b[39m can be a\n",
       "  \u001b[36mProbabilitiesEstimator\u001b[39m or simply \u001b[36mε::Real\u001b[39m).\n",
       "\n",
       "  │ \u001b[0m\u001b[1m[^Rényi1960]\u001b[22m\n",
       "  │\n",
       "  │  A. Rényi, \u001b[4mProceedings of the fourth Berkeley Symposium on\n",
       "  │  Mathematics, Statistics and Probability\u001b[24m, pp 547 (1960)\n",
       "\n",
       "  │ \u001b[0m\u001b[1m[^Shannon1948]\u001b[22m\n",
       "  │\n",
       "  │  C. E. Shannon, Bell Systems Technical Journal \u001b[1m27\u001b[22m, pp 379 (1948)"
      ],
      "text/markdown": [
       "```\n",
       "genentropy(p::Probabilities; α = 1.0, base = Base.MathConstants.e)\n",
       "```\n",
       "\n",
       "Compute the generalized order-`α` entropy of some probabilities returned by the [`probabilities`](@ref) function. Alternatively, compute entropy from pre-computed `Probabilities`.\n",
       "\n",
       "## Description\n",
       "\n",
       "Let $p$ be an array of probabilities (summing to 1). Then the generalized (Rényi) entropy is\n",
       "\n",
       "$$\n",
       "H_\\alpha(p) = \\frac{1}{1-\\alpha} \\log \\left(\\sum_i p[i]^\\alpha\\right)\n",
       "$$\n",
       "\n",
       "and generalizes other known entropies, like e.g. the information entropy ($\\alpha = 1$, see [^Shannon1948]), the maximum entropy ($\\alpha=0$, also known as Hartley entropy), or the correlation entropy ($\\alpha = 2$, also known as collision entropy).\n",
       "\n",
       "```\n",
       "genentropy(x::Vector_or_Dataset, est; α = 1.0, base)\n",
       "```\n",
       "\n",
       "A convenience syntax, which calls first `probabilities(x, est)` and then calculates the entropy of the result (and thus `est` can be a `ProbabilitiesEstimator` or simply `ε::Real`).\n",
       "\n",
       "[^Rényi1960]: A. Rényi, *Proceedings of the fourth Berkeley Symposium on Mathematics, Statistics and Probability*, pp 547 (1960)\n",
       "\n",
       "[^Shannon1948]: C. E. Shannon, Bell Systems Technical Journal **27**, pp 379 (1948)\n"
      ],
      "text/latex": [
       "\\begin{verbatim}\n",
       "genentropy(p::Probabilities; α = 1.0, base = Base.MathConstants.e)\n",
       "\\end{verbatim}\n",
       "Compute the generalized order-\\texttt{α} entropy of some probabilities returned by the \\href{@ref}{\\texttt{probabilities}} function. Alternatively, compute entropy from pre-computed \\texttt{Probabilities}.\n",
       "\n",
       "\\subsection{Description}\n",
       "Let $p$ be an array of probabilities (summing to 1). Then the generalized (Rényi) entropy is\n",
       "\n",
       "$$H_\\alpha(p) = \\frac{1}{1-\\alpha} \\log \\left(\\sum_i p[i]^\\alpha\\right)$$\n",
       "and generalizes other known entropies, like e.g. the information entropy ($\\alpha = 1$, see \\footnotemark[Shannon1948]), the maximum entropy ($\\alpha=0$, also known as Hartley entropy), or the correlation entropy ($\\alpha = 2$, also known as collision entropy).\n",
       "\n",
       "\\begin{verbatim}\n",
       "genentropy(x::Vector_or_Dataset, est; α = 1.0, base)\n",
       "\\end{verbatim}\n",
       "A convenience syntax, which calls first \\texttt{probabilities(x, est)} and then calculates the entropy of the result (and thus \\texttt{est} can be a \\texttt{ProbabilitiesEstimator} or simply \\texttt{ε::Real}).\n",
       "\n",
       "\\footnotetext[Rényi1960]{A. Rényi, \\emph{Proceedings of the fourth Berkeley Symposium on Mathematics, Statistics and Probability}, pp 547 (1960)\n",
       "\n",
       "}\n",
       "\\footnotetext[Shannon1948]{C. E. Shannon, Bell Systems Technical Journal \\textbf{27}, pp 379 (1948)\n",
       "\n",
       "}\n"
      ]
     },
     "metadata": {},
     "execution_count": 48
    }
   ],
   "metadata": {}
  },
  {
   "cell_type": "code",
   "execution_count": 49,
   "source": [
    "e = tranfserentropy(joint, VisitationFrequency(b),  1.0, 2)"
   ],
   "outputs": [
    {
     "output_type": "execute_result",
     "data": {
      "text/plain": [
       "0.07771054563072077"
      ]
     },
     "metadata": {},
     "execution_count": 49
    }
   ],
   "metadata": {}
  }
 ],
 "metadata": {
  "kernelspec": {
   "display_name": "Julia 1.6.2",
   "language": "julia",
   "name": "julia-1.6"
  },
  "language_info": {
   "file_extension": ".jl",
   "mimetype": "application/julia",
   "name": "julia",
   "version": "1.6.2"
  }
 },
 "nbformat": 4,
 "nbformat_minor": 4
}